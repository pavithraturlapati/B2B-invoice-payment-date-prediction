{
  "cells": [
    {
      "cell_type": "markdown",
      "id": "wcq6dWzy1ZR0",
      "metadata": {
        "id": "wcq6dWzy1ZR0"
      },
      "source": [
        "# Payment Date Prediction "
      ]
    },
    {
      "cell_type": "markdown",
      "id": "2778654e",
      "metadata": {
        "id": "2778654e"
      },
      "source": [
        "\n",
        "### Importing related Libraries "
      ]
    },
    {
      "cell_type": "code",
      "execution_count": 152,
      "id": "304c9e38",
      "metadata": {
        "id": "304c9e38"
      },
      "outputs": [],
      "source": [
        "import pandas as pd\n",
        "import numpy as np\n",
        "from sklearn.preprocessing import LabelEncoder,MinMaxScaler\n",
        "from sklearn.model_selection import train_test_split\n",
        "from sklearn.linear_model import LinearRegression\n",
        "from sklearn.ensemble import RandomForestRegressor as RFR\n",
        "from sklearn.tree import DecisionTreeRegressor as DTR\n",
        "from sklearn.svm import SVR\n",
        "import xgboost as xgb\n",
        "from sklearn.metrics import r2_score, mean_absolute_error, mean_squared_error\n",
        "import seaborn as sns\n",
        "import math\n",
        "from matplotlib.pyplot import figure\n",
        "from matplotlib import pyplot as plt\n",
        "import datetime as dt\n",
        "import warnings\n",
        "warnings.filterwarnings('ignore')"
      ]
    },
    {
      "cell_type": "markdown",
      "id": "8724f5ee",
      "metadata": {
        "id": "8724f5ee"
      },
      "source": [
        "### Store the dataset into the Dataframe\n"
      ]
    },
    {
      "cell_type": "code",
      "execution_count": 153,
      "id": "415db50a",
      "metadata": {
        "id": "415db50a"
      },
      "outputs": [],
      "source": [
        "Dataframe=pd.read_csv(\"dataset.csv\")"
      ]
    },
    {
      "cell_type": "markdown",
      "id": "42e37f05",
      "metadata": {
        "id": "42e37f05"
      },
      "source": [
        "### Check the shape of the dataframe\n"
      ]
    },
    {
      "cell_type": "code",
      "execution_count": 154,
      "id": "27cc0907",
      "metadata": {
        "id": "27cc0907",
        "colab": {
          "base_uri": "https://localhost:8080/"
        },
        "outputId": "71c7b917-432c-4f63-a65f-520207dd9521"
      },
      "outputs": [
        {
          "output_type": "execute_result",
          "data": {
            "text/plain": [
              "(50000, 19)"
            ]
          },
          "metadata": {},
          "execution_count": 154
        }
      ],
      "source": [
        "Dataframe.shape"
      ]
    },
    {
      "cell_type": "markdown",
      "id": "b68c955d",
      "metadata": {
        "id": "b68c955d"
      },
      "source": [
        "### Check the Detail information of the dataframe"
      ]
    },
    {
      "cell_type": "code",
      "execution_count": 155,
      "id": "e092ec9e",
      "metadata": {
        "id": "e092ec9e",
        "colab": {
          "base_uri": "https://localhost:8080/"
        },
        "outputId": "93d3fb87-9c90-4a8f-d01c-d07906a41647"
      },
      "outputs": [
        {
          "output_type": "stream",
          "name": "stdout",
          "text": [
            "<class 'pandas.core.frame.DataFrame'>\n",
            "RangeIndex: 50000 entries, 0 to 49999\n",
            "Data columns (total 19 columns):\n",
            " #   Column                  Non-Null Count  Dtype  \n",
            "---  ------                  --------------  -----  \n",
            " 0   business_code           50000 non-null  object \n",
            " 1   cust_number             50000 non-null  object \n",
            " 2   name_customer           50000 non-null  object \n",
            " 3   clear_date              40000 non-null  object \n",
            " 4   buisness_year           50000 non-null  float64\n",
            " 5   doc_id                  50000 non-null  float64\n",
            " 6   posting_date            50000 non-null  object \n",
            " 7   document_create_date    50000 non-null  int64  \n",
            " 8   document_create_date.1  50000 non-null  int64  \n",
            " 9   due_in_date             50000 non-null  float64\n",
            " 10  invoice_currency        50000 non-null  object \n",
            " 11  document type           50000 non-null  object \n",
            " 12  posting_id              50000 non-null  float64\n",
            " 13  area_business           0 non-null      float64\n",
            " 14  total_open_amount       50000 non-null  float64\n",
            " 15  baseline_create_date    50000 non-null  float64\n",
            " 16  cust_payment_terms      50000 non-null  object \n",
            " 17  invoice_id              49994 non-null  float64\n",
            " 18  isOpen                  50000 non-null  int64  \n",
            "dtypes: float64(8), int64(3), object(8)\n",
            "memory usage: 7.2+ MB\n"
          ]
        }
      ],
      "source": [
        "Dataframe.info()"
      ]
    },
    {
      "cell_type": "markdown",
      "id": "112f2d0e",
      "metadata": {
        "id": "112f2d0e"
      },
      "source": [
        "### Display All the column names"
      ]
    },
    {
      "cell_type": "code",
      "execution_count": 156,
      "id": "1416e2fd",
      "metadata": {
        "id": "1416e2fd",
        "colab": {
          "base_uri": "https://localhost:8080/"
        },
        "outputId": "48838aa8-fff4-4daf-e053-c7bac20cee13"
      },
      "outputs": [
        {
          "output_type": "execute_result",
          "data": {
            "text/plain": [
              "Index(['business_code', 'cust_number', 'name_customer', 'clear_date',\n",
              "       'buisness_year', 'doc_id', 'posting_date', 'document_create_date',\n",
              "       'document_create_date.1', 'due_in_date', 'invoice_currency',\n",
              "       'document type', 'posting_id', 'area_business', 'total_open_amount',\n",
              "       'baseline_create_date', 'cust_payment_terms', 'invoice_id', 'isOpen'],\n",
              "      dtype='object')"
            ]
          },
          "metadata": {},
          "execution_count": 156
        }
      ],
      "source": [
        "Dataframe.columns"
      ]
    },
    {
      "cell_type": "markdown",
      "id": "d465ed7a",
      "metadata": {
        "id": "d465ed7a"
      },
      "source": [
        "### Describe the entire dataset"
      ]
    },
    {
      "cell_type": "code",
      "execution_count": 157,
      "id": "25f65e1b",
      "metadata": {
        "id": "25f65e1b",
        "colab": {
          "base_uri": "https://localhost:8080/",
          "height": 364
        },
        "outputId": "7c95ae49-4cec-445c-cc1d-fa37e1a5c8fe"
      },
      "outputs": [
        {
          "output_type": "execute_result",
          "data": {
            "text/plain": [
              "       buisness_year        doc_id  document_create_date  \\\n",
              "count   50000.000000  5.000000e+04          5.000000e+04   \n",
              "mean     2019.305700  2.012238e+09          2.019351e+07   \n",
              "std         0.460708  2.885235e+08          4.496041e+03   \n",
              "min      2019.000000  1.928502e+09          2.018123e+07   \n",
              "25%      2019.000000  1.929342e+09          2.019050e+07   \n",
              "50%      2019.000000  1.929964e+09          2.019091e+07   \n",
              "75%      2020.000000  1.930619e+09          2.020013e+07   \n",
              "max      2020.000000  9.500000e+09          2.020052e+07   \n",
              "\n",
              "       document_create_date.1   due_in_date  posting_id  area_business  \\\n",
              "count            5.000000e+04  5.000000e+04     50000.0            0.0   \n",
              "mean             2.019354e+07  2.019368e+07         1.0            NaN   \n",
              "std              4.482134e+03  4.470614e+03         0.0            NaN   \n",
              "min              2.018123e+07  2.018122e+07         1.0            NaN   \n",
              "25%              2.019051e+07  2.019052e+07         1.0            NaN   \n",
              "50%              2.019091e+07  2.019093e+07         1.0            NaN   \n",
              "75%              2.020013e+07  2.020022e+07         1.0            NaN   \n",
              "max              2.020052e+07  2.020071e+07         1.0            NaN   \n",
              "\n",
              "       total_open_amount  baseline_create_date    invoice_id        isOpen  \n",
              "count       50000.000000          5.000000e+04  4.999400e+04  50000.000000  \n",
              "mean        32337.021651          2.019354e+07  2.011340e+09      0.200000  \n",
              "std         39205.975231          4.482701e+03  2.766335e+08      0.400004  \n",
              "min             0.720000          2.018121e+07  1.928502e+09      0.000000  \n",
              "25%          4928.312500          2.019050e+07  1.929342e+09      0.000000  \n",
              "50%         17609.010000          2.019091e+07  1.929964e+09      0.000000  \n",
              "75%         47133.635000          2.020013e+07  1.930619e+09      0.000000  \n",
              "max        668593.360000          2.020052e+07  2.960636e+09      1.000000  "
            ],
            "text/html": [
              "\n",
              "  <div id=\"df-263125b9-7cf4-4daf-bcf9-070893d70dd3\">\n",
              "    <div class=\"colab-df-container\">\n",
              "      <div>\n",
              "<style scoped>\n",
              "    .dataframe tbody tr th:only-of-type {\n",
              "        vertical-align: middle;\n",
              "    }\n",
              "\n",
              "    .dataframe tbody tr th {\n",
              "        vertical-align: top;\n",
              "    }\n",
              "\n",
              "    .dataframe thead th {\n",
              "        text-align: right;\n",
              "    }\n",
              "</style>\n",
              "<table border=\"1\" class=\"dataframe\">\n",
              "  <thead>\n",
              "    <tr style=\"text-align: right;\">\n",
              "      <th></th>\n",
              "      <th>buisness_year</th>\n",
              "      <th>doc_id</th>\n",
              "      <th>document_create_date</th>\n",
              "      <th>document_create_date.1</th>\n",
              "      <th>due_in_date</th>\n",
              "      <th>posting_id</th>\n",
              "      <th>area_business</th>\n",
              "      <th>total_open_amount</th>\n",
              "      <th>baseline_create_date</th>\n",
              "      <th>invoice_id</th>\n",
              "      <th>isOpen</th>\n",
              "    </tr>\n",
              "  </thead>\n",
              "  <tbody>\n",
              "    <tr>\n",
              "      <th>count</th>\n",
              "      <td>50000.000000</td>\n",
              "      <td>5.000000e+04</td>\n",
              "      <td>5.000000e+04</td>\n",
              "      <td>5.000000e+04</td>\n",
              "      <td>5.000000e+04</td>\n",
              "      <td>50000.0</td>\n",
              "      <td>0.0</td>\n",
              "      <td>50000.000000</td>\n",
              "      <td>5.000000e+04</td>\n",
              "      <td>4.999400e+04</td>\n",
              "      <td>50000.000000</td>\n",
              "    </tr>\n",
              "    <tr>\n",
              "      <th>mean</th>\n",
              "      <td>2019.305700</td>\n",
              "      <td>2.012238e+09</td>\n",
              "      <td>2.019351e+07</td>\n",
              "      <td>2.019354e+07</td>\n",
              "      <td>2.019368e+07</td>\n",
              "      <td>1.0</td>\n",
              "      <td>NaN</td>\n",
              "      <td>32337.021651</td>\n",
              "      <td>2.019354e+07</td>\n",
              "      <td>2.011340e+09</td>\n",
              "      <td>0.200000</td>\n",
              "    </tr>\n",
              "    <tr>\n",
              "      <th>std</th>\n",
              "      <td>0.460708</td>\n",
              "      <td>2.885235e+08</td>\n",
              "      <td>4.496041e+03</td>\n",
              "      <td>4.482134e+03</td>\n",
              "      <td>4.470614e+03</td>\n",
              "      <td>0.0</td>\n",
              "      <td>NaN</td>\n",
              "      <td>39205.975231</td>\n",
              "      <td>4.482701e+03</td>\n",
              "      <td>2.766335e+08</td>\n",
              "      <td>0.400004</td>\n",
              "    </tr>\n",
              "    <tr>\n",
              "      <th>min</th>\n",
              "      <td>2019.000000</td>\n",
              "      <td>1.928502e+09</td>\n",
              "      <td>2.018123e+07</td>\n",
              "      <td>2.018123e+07</td>\n",
              "      <td>2.018122e+07</td>\n",
              "      <td>1.0</td>\n",
              "      <td>NaN</td>\n",
              "      <td>0.720000</td>\n",
              "      <td>2.018121e+07</td>\n",
              "      <td>1.928502e+09</td>\n",
              "      <td>0.000000</td>\n",
              "    </tr>\n",
              "    <tr>\n",
              "      <th>25%</th>\n",
              "      <td>2019.000000</td>\n",
              "      <td>1.929342e+09</td>\n",
              "      <td>2.019050e+07</td>\n",
              "      <td>2.019051e+07</td>\n",
              "      <td>2.019052e+07</td>\n",
              "      <td>1.0</td>\n",
              "      <td>NaN</td>\n",
              "      <td>4928.312500</td>\n",
              "      <td>2.019050e+07</td>\n",
              "      <td>1.929342e+09</td>\n",
              "      <td>0.000000</td>\n",
              "    </tr>\n",
              "    <tr>\n",
              "      <th>50%</th>\n",
              "      <td>2019.000000</td>\n",
              "      <td>1.929964e+09</td>\n",
              "      <td>2.019091e+07</td>\n",
              "      <td>2.019091e+07</td>\n",
              "      <td>2.019093e+07</td>\n",
              "      <td>1.0</td>\n",
              "      <td>NaN</td>\n",
              "      <td>17609.010000</td>\n",
              "      <td>2.019091e+07</td>\n",
              "      <td>1.929964e+09</td>\n",
              "      <td>0.000000</td>\n",
              "    </tr>\n",
              "    <tr>\n",
              "      <th>75%</th>\n",
              "      <td>2020.000000</td>\n",
              "      <td>1.930619e+09</td>\n",
              "      <td>2.020013e+07</td>\n",
              "      <td>2.020013e+07</td>\n",
              "      <td>2.020022e+07</td>\n",
              "      <td>1.0</td>\n",
              "      <td>NaN</td>\n",
              "      <td>47133.635000</td>\n",
              "      <td>2.020013e+07</td>\n",
              "      <td>1.930619e+09</td>\n",
              "      <td>0.000000</td>\n",
              "    </tr>\n",
              "    <tr>\n",
              "      <th>max</th>\n",
              "      <td>2020.000000</td>\n",
              "      <td>9.500000e+09</td>\n",
              "      <td>2.020052e+07</td>\n",
              "      <td>2.020052e+07</td>\n",
              "      <td>2.020071e+07</td>\n",
              "      <td>1.0</td>\n",
              "      <td>NaN</td>\n",
              "      <td>668593.360000</td>\n",
              "      <td>2.020052e+07</td>\n",
              "      <td>2.960636e+09</td>\n",
              "      <td>1.000000</td>\n",
              "    </tr>\n",
              "  </tbody>\n",
              "</table>\n",
              "</div>\n",
              "      <button class=\"colab-df-convert\" onclick=\"convertToInteractive('df-263125b9-7cf4-4daf-bcf9-070893d70dd3')\"\n",
              "              title=\"Convert this dataframe to an interactive table.\"\n",
              "              style=\"display:none;\">\n",
              "        \n",
              "  <svg xmlns=\"http://www.w3.org/2000/svg\" height=\"24px\"viewBox=\"0 0 24 24\"\n",
              "       width=\"24px\">\n",
              "    <path d=\"M0 0h24v24H0V0z\" fill=\"none\"/>\n",
              "    <path d=\"M18.56 5.44l.94 2.06.94-2.06 2.06-.94-2.06-.94-.94-2.06-.94 2.06-2.06.94zm-11 1L8.5 8.5l.94-2.06 2.06-.94-2.06-.94L8.5 2.5l-.94 2.06-2.06.94zm10 10l.94 2.06.94-2.06 2.06-.94-2.06-.94-.94-2.06-.94 2.06-2.06.94z\"/><path d=\"M17.41 7.96l-1.37-1.37c-.4-.4-.92-.59-1.43-.59-.52 0-1.04.2-1.43.59L10.3 9.45l-7.72 7.72c-.78.78-.78 2.05 0 2.83L4 21.41c.39.39.9.59 1.41.59.51 0 1.02-.2 1.41-.59l7.78-7.78 2.81-2.81c.8-.78.8-2.07 0-2.86zM5.41 20L4 18.59l7.72-7.72 1.47 1.35L5.41 20z\"/>\n",
              "  </svg>\n",
              "      </button>\n",
              "      \n",
              "  <style>\n",
              "    .colab-df-container {\n",
              "      display:flex;\n",
              "      flex-wrap:wrap;\n",
              "      gap: 12px;\n",
              "    }\n",
              "\n",
              "    .colab-df-convert {\n",
              "      background-color: #E8F0FE;\n",
              "      border: none;\n",
              "      border-radius: 50%;\n",
              "      cursor: pointer;\n",
              "      display: none;\n",
              "      fill: #1967D2;\n",
              "      height: 32px;\n",
              "      padding: 0 0 0 0;\n",
              "      width: 32px;\n",
              "    }\n",
              "\n",
              "    .colab-df-convert:hover {\n",
              "      background-color: #E2EBFA;\n",
              "      box-shadow: 0px 1px 2px rgba(60, 64, 67, 0.3), 0px 1px 3px 1px rgba(60, 64, 67, 0.15);\n",
              "      fill: #174EA6;\n",
              "    }\n",
              "\n",
              "    [theme=dark] .colab-df-convert {\n",
              "      background-color: #3B4455;\n",
              "      fill: #D2E3FC;\n",
              "    }\n",
              "\n",
              "    [theme=dark] .colab-df-convert:hover {\n",
              "      background-color: #434B5C;\n",
              "      box-shadow: 0px 1px 3px 1px rgba(0, 0, 0, 0.15);\n",
              "      filter: drop-shadow(0px 1px 2px rgba(0, 0, 0, 0.3));\n",
              "      fill: #FFFFFF;\n",
              "    }\n",
              "  </style>\n",
              "\n",
              "      <script>\n",
              "        const buttonEl =\n",
              "          document.querySelector('#df-263125b9-7cf4-4daf-bcf9-070893d70dd3 button.colab-df-convert');\n",
              "        buttonEl.style.display =\n",
              "          google.colab.kernel.accessAllowed ? 'block' : 'none';\n",
              "\n",
              "        async function convertToInteractive(key) {\n",
              "          const element = document.querySelector('#df-263125b9-7cf4-4daf-bcf9-070893d70dd3');\n",
              "          const dataTable =\n",
              "            await google.colab.kernel.invokeFunction('convertToInteractive',\n",
              "                                                     [key], {});\n",
              "          if (!dataTable) return;\n",
              "\n",
              "          const docLinkHtml = 'Like what you see? Visit the ' +\n",
              "            '<a target=\"_blank\" href=https://colab.research.google.com/notebooks/data_table.ipynb>data table notebook</a>'\n",
              "            + ' to learn more about interactive tables.';\n",
              "          element.innerHTML = '';\n",
              "          dataTable['output_type'] = 'display_data';\n",
              "          await google.colab.output.renderOutput(dataTable, element);\n",
              "          const docLink = document.createElement('div');\n",
              "          docLink.innerHTML = docLinkHtml;\n",
              "          element.appendChild(docLink);\n",
              "        }\n",
              "      </script>\n",
              "    </div>\n",
              "  </div>\n",
              "  "
            ]
          },
          "metadata": {},
          "execution_count": 157
        }
      ],
      "source": [
        "Dataframe.describe()"
      ]
    },
    {
      "cell_type": "markdown",
      "id": "0f2c8d02",
      "metadata": {
        "id": "0f2c8d02"
      },
      "source": [
        "# Data Cleaning\n",
        "\n",
        "- Show top 5 records from the dataset"
      ]
    },
    {
      "cell_type": "code",
      "execution_count": 158,
      "id": "8f876212",
      "metadata": {
        "id": "8f876212",
        "colab": {
          "base_uri": "https://localhost:8080/",
          "height": 357
        },
        "outputId": "34049c25-ad74-48eb-9d33-e0acf5769627"
      },
      "outputs": [
        {
          "output_type": "execute_result",
          "data": {
            "text/plain": [
              "  business_code cust_number       name_customer           clear_date  \\\n",
              "0          U001  0200769623        WAL-MAR corp  2020-02-11 00:00:00   \n",
              "1          U001  0200980828              BEN E   2019-08-08 00:00:00   \n",
              "2          U001  0200792734          MDV/ trust  2019-12-30 00:00:00   \n",
              "3          CA02  0140105686            SYSC llc                  NaN   \n",
              "4          U001  0200769623  WAL-MAR foundation  2019-11-25 00:00:00   \n",
              "\n",
              "   buisness_year        doc_id posting_date  document_create_date  \\\n",
              "0         2020.0  1.930438e+09   2020-01-26              20200125   \n",
              "1         2019.0  1.929646e+09   2019-07-22              20190722   \n",
              "2         2019.0  1.929874e+09   2019-09-14              20190914   \n",
              "3         2020.0  2.960623e+09   2020-03-30              20200330   \n",
              "4         2019.0  1.930148e+09   2019-11-13              20191113   \n",
              "\n",
              "   document_create_date.1  due_in_date invoice_currency document type  \\\n",
              "0                20200126   20200210.0              USD            RV   \n",
              "1                20190722   20190811.0              USD            RV   \n",
              "2                20190914   20190929.0              USD            RV   \n",
              "3                20200330   20200410.0              CAD            RV   \n",
              "4                20191113   20191128.0              USD            RV   \n",
              "\n",
              "   posting_id  area_business  total_open_amount  baseline_create_date  \\\n",
              "0         1.0            NaN           54273.28            20200126.0   \n",
              "1         1.0            NaN           79656.60            20190722.0   \n",
              "2         1.0            NaN            2253.86            20190914.0   \n",
              "3         1.0            NaN            3299.70            20200331.0   \n",
              "4         1.0            NaN           33133.29            20191113.0   \n",
              "\n",
              "  cust_payment_terms    invoice_id  isOpen  \n",
              "0               NAH4  1.930438e+09       0  \n",
              "1               NAD1  1.929646e+09       0  \n",
              "2               NAA8  1.929874e+09       0  \n",
              "3               CA10  2.960623e+09       1  \n",
              "4               NAH4  1.930148e+09       0  "
            ],
            "text/html": [
              "\n",
              "  <div id=\"df-1195925b-3915-4d9a-baac-aeffb4180278\">\n",
              "    <div class=\"colab-df-container\">\n",
              "      <div>\n",
              "<style scoped>\n",
              "    .dataframe tbody tr th:only-of-type {\n",
              "        vertical-align: middle;\n",
              "    }\n",
              "\n",
              "    .dataframe tbody tr th {\n",
              "        vertical-align: top;\n",
              "    }\n",
              "\n",
              "    .dataframe thead th {\n",
              "        text-align: right;\n",
              "    }\n",
              "</style>\n",
              "<table border=\"1\" class=\"dataframe\">\n",
              "  <thead>\n",
              "    <tr style=\"text-align: right;\">\n",
              "      <th></th>\n",
              "      <th>business_code</th>\n",
              "      <th>cust_number</th>\n",
              "      <th>name_customer</th>\n",
              "      <th>clear_date</th>\n",
              "      <th>buisness_year</th>\n",
              "      <th>doc_id</th>\n",
              "      <th>posting_date</th>\n",
              "      <th>document_create_date</th>\n",
              "      <th>document_create_date.1</th>\n",
              "      <th>due_in_date</th>\n",
              "      <th>invoice_currency</th>\n",
              "      <th>document type</th>\n",
              "      <th>posting_id</th>\n",
              "      <th>area_business</th>\n",
              "      <th>total_open_amount</th>\n",
              "      <th>baseline_create_date</th>\n",
              "      <th>cust_payment_terms</th>\n",
              "      <th>invoice_id</th>\n",
              "      <th>isOpen</th>\n",
              "    </tr>\n",
              "  </thead>\n",
              "  <tbody>\n",
              "    <tr>\n",
              "      <th>0</th>\n",
              "      <td>U001</td>\n",
              "      <td>0200769623</td>\n",
              "      <td>WAL-MAR corp</td>\n",
              "      <td>2020-02-11 00:00:00</td>\n",
              "      <td>2020.0</td>\n",
              "      <td>1.930438e+09</td>\n",
              "      <td>2020-01-26</td>\n",
              "      <td>20200125</td>\n",
              "      <td>20200126</td>\n",
              "      <td>20200210.0</td>\n",
              "      <td>USD</td>\n",
              "      <td>RV</td>\n",
              "      <td>1.0</td>\n",
              "      <td>NaN</td>\n",
              "      <td>54273.28</td>\n",
              "      <td>20200126.0</td>\n",
              "      <td>NAH4</td>\n",
              "      <td>1.930438e+09</td>\n",
              "      <td>0</td>\n",
              "    </tr>\n",
              "    <tr>\n",
              "      <th>1</th>\n",
              "      <td>U001</td>\n",
              "      <td>0200980828</td>\n",
              "      <td>BEN E</td>\n",
              "      <td>2019-08-08 00:00:00</td>\n",
              "      <td>2019.0</td>\n",
              "      <td>1.929646e+09</td>\n",
              "      <td>2019-07-22</td>\n",
              "      <td>20190722</td>\n",
              "      <td>20190722</td>\n",
              "      <td>20190811.0</td>\n",
              "      <td>USD</td>\n",
              "      <td>RV</td>\n",
              "      <td>1.0</td>\n",
              "      <td>NaN</td>\n",
              "      <td>79656.60</td>\n",
              "      <td>20190722.0</td>\n",
              "      <td>NAD1</td>\n",
              "      <td>1.929646e+09</td>\n",
              "      <td>0</td>\n",
              "    </tr>\n",
              "    <tr>\n",
              "      <th>2</th>\n",
              "      <td>U001</td>\n",
              "      <td>0200792734</td>\n",
              "      <td>MDV/ trust</td>\n",
              "      <td>2019-12-30 00:00:00</td>\n",
              "      <td>2019.0</td>\n",
              "      <td>1.929874e+09</td>\n",
              "      <td>2019-09-14</td>\n",
              "      <td>20190914</td>\n",
              "      <td>20190914</td>\n",
              "      <td>20190929.0</td>\n",
              "      <td>USD</td>\n",
              "      <td>RV</td>\n",
              "      <td>1.0</td>\n",
              "      <td>NaN</td>\n",
              "      <td>2253.86</td>\n",
              "      <td>20190914.0</td>\n",
              "      <td>NAA8</td>\n",
              "      <td>1.929874e+09</td>\n",
              "      <td>0</td>\n",
              "    </tr>\n",
              "    <tr>\n",
              "      <th>3</th>\n",
              "      <td>CA02</td>\n",
              "      <td>0140105686</td>\n",
              "      <td>SYSC llc</td>\n",
              "      <td>NaN</td>\n",
              "      <td>2020.0</td>\n",
              "      <td>2.960623e+09</td>\n",
              "      <td>2020-03-30</td>\n",
              "      <td>20200330</td>\n",
              "      <td>20200330</td>\n",
              "      <td>20200410.0</td>\n",
              "      <td>CAD</td>\n",
              "      <td>RV</td>\n",
              "      <td>1.0</td>\n",
              "      <td>NaN</td>\n",
              "      <td>3299.70</td>\n",
              "      <td>20200331.0</td>\n",
              "      <td>CA10</td>\n",
              "      <td>2.960623e+09</td>\n",
              "      <td>1</td>\n",
              "    </tr>\n",
              "    <tr>\n",
              "      <th>4</th>\n",
              "      <td>U001</td>\n",
              "      <td>0200769623</td>\n",
              "      <td>WAL-MAR foundation</td>\n",
              "      <td>2019-11-25 00:00:00</td>\n",
              "      <td>2019.0</td>\n",
              "      <td>1.930148e+09</td>\n",
              "      <td>2019-11-13</td>\n",
              "      <td>20191113</td>\n",
              "      <td>20191113</td>\n",
              "      <td>20191128.0</td>\n",
              "      <td>USD</td>\n",
              "      <td>RV</td>\n",
              "      <td>1.0</td>\n",
              "      <td>NaN</td>\n",
              "      <td>33133.29</td>\n",
              "      <td>20191113.0</td>\n",
              "      <td>NAH4</td>\n",
              "      <td>1.930148e+09</td>\n",
              "      <td>0</td>\n",
              "    </tr>\n",
              "  </tbody>\n",
              "</table>\n",
              "</div>\n",
              "      <button class=\"colab-df-convert\" onclick=\"convertToInteractive('df-1195925b-3915-4d9a-baac-aeffb4180278')\"\n",
              "              title=\"Convert this dataframe to an interactive table.\"\n",
              "              style=\"display:none;\">\n",
              "        \n",
              "  <svg xmlns=\"http://www.w3.org/2000/svg\" height=\"24px\"viewBox=\"0 0 24 24\"\n",
              "       width=\"24px\">\n",
              "    <path d=\"M0 0h24v24H0V0z\" fill=\"none\"/>\n",
              "    <path d=\"M18.56 5.44l.94 2.06.94-2.06 2.06-.94-2.06-.94-.94-2.06-.94 2.06-2.06.94zm-11 1L8.5 8.5l.94-2.06 2.06-.94-2.06-.94L8.5 2.5l-.94 2.06-2.06.94zm10 10l.94 2.06.94-2.06 2.06-.94-2.06-.94-.94-2.06-.94 2.06-2.06.94z\"/><path d=\"M17.41 7.96l-1.37-1.37c-.4-.4-.92-.59-1.43-.59-.52 0-1.04.2-1.43.59L10.3 9.45l-7.72 7.72c-.78.78-.78 2.05 0 2.83L4 21.41c.39.39.9.59 1.41.59.51 0 1.02-.2 1.41-.59l7.78-7.78 2.81-2.81c.8-.78.8-2.07 0-2.86zM5.41 20L4 18.59l7.72-7.72 1.47 1.35L5.41 20z\"/>\n",
              "  </svg>\n",
              "      </button>\n",
              "      \n",
              "  <style>\n",
              "    .colab-df-container {\n",
              "      display:flex;\n",
              "      flex-wrap:wrap;\n",
              "      gap: 12px;\n",
              "    }\n",
              "\n",
              "    .colab-df-convert {\n",
              "      background-color: #E8F0FE;\n",
              "      border: none;\n",
              "      border-radius: 50%;\n",
              "      cursor: pointer;\n",
              "      display: none;\n",
              "      fill: #1967D2;\n",
              "      height: 32px;\n",
              "      padding: 0 0 0 0;\n",
              "      width: 32px;\n",
              "    }\n",
              "\n",
              "    .colab-df-convert:hover {\n",
              "      background-color: #E2EBFA;\n",
              "      box-shadow: 0px 1px 2px rgba(60, 64, 67, 0.3), 0px 1px 3px 1px rgba(60, 64, 67, 0.15);\n",
              "      fill: #174EA6;\n",
              "    }\n",
              "\n",
              "    [theme=dark] .colab-df-convert {\n",
              "      background-color: #3B4455;\n",
              "      fill: #D2E3FC;\n",
              "    }\n",
              "\n",
              "    [theme=dark] .colab-df-convert:hover {\n",
              "      background-color: #434B5C;\n",
              "      box-shadow: 0px 1px 3px 1px rgba(0, 0, 0, 0.15);\n",
              "      filter: drop-shadow(0px 1px 2px rgba(0, 0, 0, 0.3));\n",
              "      fill: #FFFFFF;\n",
              "    }\n",
              "  </style>\n",
              "\n",
              "      <script>\n",
              "        const buttonEl =\n",
              "          document.querySelector('#df-1195925b-3915-4d9a-baac-aeffb4180278 button.colab-df-convert');\n",
              "        buttonEl.style.display =\n",
              "          google.colab.kernel.accessAllowed ? 'block' : 'none';\n",
              "\n",
              "        async function convertToInteractive(key) {\n",
              "          const element = document.querySelector('#df-1195925b-3915-4d9a-baac-aeffb4180278');\n",
              "          const dataTable =\n",
              "            await google.colab.kernel.invokeFunction('convertToInteractive',\n",
              "                                                     [key], {});\n",
              "          if (!dataTable) return;\n",
              "\n",
              "          const docLinkHtml = 'Like what you see? Visit the ' +\n",
              "            '<a target=\"_blank\" href=https://colab.research.google.com/notebooks/data_table.ipynb>data table notebook</a>'\n",
              "            + ' to learn more about interactive tables.';\n",
              "          element.innerHTML = '';\n",
              "          dataTable['output_type'] = 'display_data';\n",
              "          await google.colab.output.renderOutput(dataTable, element);\n",
              "          const docLink = document.createElement('div');\n",
              "          docLink.innerHTML = docLinkHtml;\n",
              "          element.appendChild(docLink);\n",
              "        }\n",
              "      </script>\n",
              "    </div>\n",
              "  </div>\n",
              "  "
            ]
          },
          "metadata": {},
          "execution_count": 158
        }
      ],
      "source": [
        "Dataframe.head()"
      ]
    },
    {
      "cell_type": "markdown",
      "id": "92b044e4",
      "metadata": {
        "id": "92b044e4"
      },
      "source": [
        "### Display the Null values percentage against every columns (compare to the total number of records)\n",
        "\n",
        "- Output expected : area_business - 100% null, clear_data = 20% null, invoice_id = 0.12% null"
      ]
    },
    {
      "cell_type": "code",
      "execution_count": 159,
      "id": "24c7b13d",
      "metadata": {
        "id": "24c7b13d",
        "colab": {
          "base_uri": "https://localhost:8080/"
        },
        "outputId": "1a8826b9-a367-461d-ad7b-b7ddbee124e3"
      },
      "outputs": [
        {
          "output_type": "execute_result",
          "data": {
            "text/plain": [
              "business_code               0.000\n",
              "cust_number                 0.000\n",
              "name_customer               0.000\n",
              "clear_date                 20.000\n",
              "buisness_year               0.000\n",
              "doc_id                      0.000\n",
              "posting_date                0.000\n",
              "document_create_date        0.000\n",
              "document_create_date.1      0.000\n",
              "due_in_date                 0.000\n",
              "invoice_currency            0.000\n",
              "document type               0.000\n",
              "posting_id                  0.000\n",
              "area_business             100.000\n",
              "total_open_amount           0.000\n",
              "baseline_create_date        0.000\n",
              "cust_payment_terms          0.000\n",
              "invoice_id                  0.012\n",
              "isOpen                      0.000\n",
              "dtype: float64"
            ]
          },
          "metadata": {},
          "execution_count": 159
        }
      ],
      "source": [
        "missing=Dataframe.isna().sum()*100/len(Dataframe)\n",
        "missing"
      ]
    },
    {
      "cell_type": "markdown",
      "id": "2c46a98b",
      "metadata": {
        "id": "2c46a98b"
      },
      "source": [
        "### Display Invoice_id and Doc_Id\n",
        "\n",
        "- Note - Many of the would have same invoice_id and doc_id\n"
      ]
    },
    {
      "cell_type": "code",
      "execution_count": 160,
      "id": "038f24bb",
      "metadata": {
        "id": "038f24bb",
        "colab": {
          "base_uri": "https://localhost:8080/",
          "height": 424
        },
        "outputId": "a79c482d-af7f-43c5-8996-8d6684402447"
      },
      "outputs": [
        {
          "output_type": "execute_result",
          "data": {
            "text/plain": [
              "         invoice_id        doc_id\n",
              "0      1.930438e+09  1.930438e+09\n",
              "1      1.929646e+09  1.929646e+09\n",
              "2      1.929874e+09  1.929874e+09\n",
              "3      2.960623e+09  2.960623e+09\n",
              "4      1.930148e+09  1.930148e+09\n",
              "...             ...           ...\n",
              "49995  1.930797e+09  1.930797e+09\n",
              "49996  1.929744e+09  1.929744e+09\n",
              "49997  1.930537e+09  1.930537e+09\n",
              "49998  1.930199e+09  1.930199e+09\n",
              "49999  1.928576e+09  1.928576e+09\n",
              "\n",
              "[50000 rows x 2 columns]"
            ],
            "text/html": [
              "\n",
              "  <div id=\"df-aee90850-4970-4b0b-b30e-58dceb86e95f\">\n",
              "    <div class=\"colab-df-container\">\n",
              "      <div>\n",
              "<style scoped>\n",
              "    .dataframe tbody tr th:only-of-type {\n",
              "        vertical-align: middle;\n",
              "    }\n",
              "\n",
              "    .dataframe tbody tr th {\n",
              "        vertical-align: top;\n",
              "    }\n",
              "\n",
              "    .dataframe thead th {\n",
              "        text-align: right;\n",
              "    }\n",
              "</style>\n",
              "<table border=\"1\" class=\"dataframe\">\n",
              "  <thead>\n",
              "    <tr style=\"text-align: right;\">\n",
              "      <th></th>\n",
              "      <th>invoice_id</th>\n",
              "      <th>doc_id</th>\n",
              "    </tr>\n",
              "  </thead>\n",
              "  <tbody>\n",
              "    <tr>\n",
              "      <th>0</th>\n",
              "      <td>1.930438e+09</td>\n",
              "      <td>1.930438e+09</td>\n",
              "    </tr>\n",
              "    <tr>\n",
              "      <th>1</th>\n",
              "      <td>1.929646e+09</td>\n",
              "      <td>1.929646e+09</td>\n",
              "    </tr>\n",
              "    <tr>\n",
              "      <th>2</th>\n",
              "      <td>1.929874e+09</td>\n",
              "      <td>1.929874e+09</td>\n",
              "    </tr>\n",
              "    <tr>\n",
              "      <th>3</th>\n",
              "      <td>2.960623e+09</td>\n",
              "      <td>2.960623e+09</td>\n",
              "    </tr>\n",
              "    <tr>\n",
              "      <th>4</th>\n",
              "      <td>1.930148e+09</td>\n",
              "      <td>1.930148e+09</td>\n",
              "    </tr>\n",
              "    <tr>\n",
              "      <th>...</th>\n",
              "      <td>...</td>\n",
              "      <td>...</td>\n",
              "    </tr>\n",
              "    <tr>\n",
              "      <th>49995</th>\n",
              "      <td>1.930797e+09</td>\n",
              "      <td>1.930797e+09</td>\n",
              "    </tr>\n",
              "    <tr>\n",
              "      <th>49996</th>\n",
              "      <td>1.929744e+09</td>\n",
              "      <td>1.929744e+09</td>\n",
              "    </tr>\n",
              "    <tr>\n",
              "      <th>49997</th>\n",
              "      <td>1.930537e+09</td>\n",
              "      <td>1.930537e+09</td>\n",
              "    </tr>\n",
              "    <tr>\n",
              "      <th>49998</th>\n",
              "      <td>1.930199e+09</td>\n",
              "      <td>1.930199e+09</td>\n",
              "    </tr>\n",
              "    <tr>\n",
              "      <th>49999</th>\n",
              "      <td>1.928576e+09</td>\n",
              "      <td>1.928576e+09</td>\n",
              "    </tr>\n",
              "  </tbody>\n",
              "</table>\n",
              "<p>50000 rows × 2 columns</p>\n",
              "</div>\n",
              "      <button class=\"colab-df-convert\" onclick=\"convertToInteractive('df-aee90850-4970-4b0b-b30e-58dceb86e95f')\"\n",
              "              title=\"Convert this dataframe to an interactive table.\"\n",
              "              style=\"display:none;\">\n",
              "        \n",
              "  <svg xmlns=\"http://www.w3.org/2000/svg\" height=\"24px\"viewBox=\"0 0 24 24\"\n",
              "       width=\"24px\">\n",
              "    <path d=\"M0 0h24v24H0V0z\" fill=\"none\"/>\n",
              "    <path d=\"M18.56 5.44l.94 2.06.94-2.06 2.06-.94-2.06-.94-.94-2.06-.94 2.06-2.06.94zm-11 1L8.5 8.5l.94-2.06 2.06-.94-2.06-.94L8.5 2.5l-.94 2.06-2.06.94zm10 10l.94 2.06.94-2.06 2.06-.94-2.06-.94-.94-2.06-.94 2.06-2.06.94z\"/><path d=\"M17.41 7.96l-1.37-1.37c-.4-.4-.92-.59-1.43-.59-.52 0-1.04.2-1.43.59L10.3 9.45l-7.72 7.72c-.78.78-.78 2.05 0 2.83L4 21.41c.39.39.9.59 1.41.59.51 0 1.02-.2 1.41-.59l7.78-7.78 2.81-2.81c.8-.78.8-2.07 0-2.86zM5.41 20L4 18.59l7.72-7.72 1.47 1.35L5.41 20z\"/>\n",
              "  </svg>\n",
              "      </button>\n",
              "      \n",
              "  <style>\n",
              "    .colab-df-container {\n",
              "      display:flex;\n",
              "      flex-wrap:wrap;\n",
              "      gap: 12px;\n",
              "    }\n",
              "\n",
              "    .colab-df-convert {\n",
              "      background-color: #E8F0FE;\n",
              "      border: none;\n",
              "      border-radius: 50%;\n",
              "      cursor: pointer;\n",
              "      display: none;\n",
              "      fill: #1967D2;\n",
              "      height: 32px;\n",
              "      padding: 0 0 0 0;\n",
              "      width: 32px;\n",
              "    }\n",
              "\n",
              "    .colab-df-convert:hover {\n",
              "      background-color: #E2EBFA;\n",
              "      box-shadow: 0px 1px 2px rgba(60, 64, 67, 0.3), 0px 1px 3px 1px rgba(60, 64, 67, 0.15);\n",
              "      fill: #174EA6;\n",
              "    }\n",
              "\n",
              "    [theme=dark] .colab-df-convert {\n",
              "      background-color: #3B4455;\n",
              "      fill: #D2E3FC;\n",
              "    }\n",
              "\n",
              "    [theme=dark] .colab-df-convert:hover {\n",
              "      background-color: #434B5C;\n",
              "      box-shadow: 0px 1px 3px 1px rgba(0, 0, 0, 0.15);\n",
              "      filter: drop-shadow(0px 1px 2px rgba(0, 0, 0, 0.3));\n",
              "      fill: #FFFFFF;\n",
              "    }\n",
              "  </style>\n",
              "\n",
              "      <script>\n",
              "        const buttonEl =\n",
              "          document.querySelector('#df-aee90850-4970-4b0b-b30e-58dceb86e95f button.colab-df-convert');\n",
              "        buttonEl.style.display =\n",
              "          google.colab.kernel.accessAllowed ? 'block' : 'none';\n",
              "\n",
              "        async function convertToInteractive(key) {\n",
              "          const element = document.querySelector('#df-aee90850-4970-4b0b-b30e-58dceb86e95f');\n",
              "          const dataTable =\n",
              "            await google.colab.kernel.invokeFunction('convertToInteractive',\n",
              "                                                     [key], {});\n",
              "          if (!dataTable) return;\n",
              "\n",
              "          const docLinkHtml = 'Like what you see? Visit the ' +\n",
              "            '<a target=\"_blank\" href=https://colab.research.google.com/notebooks/data_table.ipynb>data table notebook</a>'\n",
              "            + ' to learn more about interactive tables.';\n",
              "          element.innerHTML = '';\n",
              "          dataTable['output_type'] = 'display_data';\n",
              "          await google.colab.output.renderOutput(dataTable, element);\n",
              "          const docLink = document.createElement('div');\n",
              "          docLink.innerHTML = docLinkHtml;\n",
              "          element.appendChild(docLink);\n",
              "        }\n",
              "      </script>\n",
              "    </div>\n",
              "  </div>\n",
              "  "
            ]
          },
          "metadata": {},
          "execution_count": 160
        }
      ],
      "source": [
        "Dataframe[['invoice_id','doc_id']]"
      ]
    },
    {
      "cell_type": "markdown",
      "id": "18cfe10a",
      "metadata": {
        "id": "18cfe10a"
      },
      "source": [
        "#### Write a code to check - 'baseline_create_date',\"document_create_date\",'document_create_date.1' - these columns are almost same.\n",
        "\n",
        "- Please note, if they are same, we need to drop them later\n",
        "\n"
      ]
    },
    {
      "cell_type": "code",
      "execution_count": 161,
      "id": "cf5b40ff",
      "metadata": {
        "id": "cf5b40ff",
        "colab": {
          "base_uri": "https://localhost:8080/",
          "height": 424
        },
        "outputId": "e91188fe-a1b9-4082-e215-f9274fd613e2"
      },
      "outputs": [
        {
          "output_type": "execute_result",
          "data": {
            "text/plain": [
              "       baseline_create_date  document_create_date  document_create_date.1\n",
              "0                20200126.0              20200125                20200126\n",
              "1                20190722.0              20190722                20190722\n",
              "2                20190914.0              20190914                20190914\n",
              "3                20200331.0              20200330                20200330\n",
              "4                20191113.0              20191113                20191113\n",
              "...                     ...                   ...                     ...\n",
              "49995            20200421.0              20200417                20200421\n",
              "49996            20190815.0              20190814                20190815\n",
              "49997            20200219.0              20200218                20200219\n",
              "49998            20191127.0              20191126                20191127\n",
              "49999            20190101.0              20190105                20190105\n",
              "\n",
              "[50000 rows x 3 columns]"
            ],
            "text/html": [
              "\n",
              "  <div id=\"df-a27354cc-bd49-4b41-acf6-1e0fc8c907a2\">\n",
              "    <div class=\"colab-df-container\">\n",
              "      <div>\n",
              "<style scoped>\n",
              "    .dataframe tbody tr th:only-of-type {\n",
              "        vertical-align: middle;\n",
              "    }\n",
              "\n",
              "    .dataframe tbody tr th {\n",
              "        vertical-align: top;\n",
              "    }\n",
              "\n",
              "    .dataframe thead th {\n",
              "        text-align: right;\n",
              "    }\n",
              "</style>\n",
              "<table border=\"1\" class=\"dataframe\">\n",
              "  <thead>\n",
              "    <tr style=\"text-align: right;\">\n",
              "      <th></th>\n",
              "      <th>baseline_create_date</th>\n",
              "      <th>document_create_date</th>\n",
              "      <th>document_create_date.1</th>\n",
              "    </tr>\n",
              "  </thead>\n",
              "  <tbody>\n",
              "    <tr>\n",
              "      <th>0</th>\n",
              "      <td>20200126.0</td>\n",
              "      <td>20200125</td>\n",
              "      <td>20200126</td>\n",
              "    </tr>\n",
              "    <tr>\n",
              "      <th>1</th>\n",
              "      <td>20190722.0</td>\n",
              "      <td>20190722</td>\n",
              "      <td>20190722</td>\n",
              "    </tr>\n",
              "    <tr>\n",
              "      <th>2</th>\n",
              "      <td>20190914.0</td>\n",
              "      <td>20190914</td>\n",
              "      <td>20190914</td>\n",
              "    </tr>\n",
              "    <tr>\n",
              "      <th>3</th>\n",
              "      <td>20200331.0</td>\n",
              "      <td>20200330</td>\n",
              "      <td>20200330</td>\n",
              "    </tr>\n",
              "    <tr>\n",
              "      <th>4</th>\n",
              "      <td>20191113.0</td>\n",
              "      <td>20191113</td>\n",
              "      <td>20191113</td>\n",
              "    </tr>\n",
              "    <tr>\n",
              "      <th>...</th>\n",
              "      <td>...</td>\n",
              "      <td>...</td>\n",
              "      <td>...</td>\n",
              "    </tr>\n",
              "    <tr>\n",
              "      <th>49995</th>\n",
              "      <td>20200421.0</td>\n",
              "      <td>20200417</td>\n",
              "      <td>20200421</td>\n",
              "    </tr>\n",
              "    <tr>\n",
              "      <th>49996</th>\n",
              "      <td>20190815.0</td>\n",
              "      <td>20190814</td>\n",
              "      <td>20190815</td>\n",
              "    </tr>\n",
              "    <tr>\n",
              "      <th>49997</th>\n",
              "      <td>20200219.0</td>\n",
              "      <td>20200218</td>\n",
              "      <td>20200219</td>\n",
              "    </tr>\n",
              "    <tr>\n",
              "      <th>49998</th>\n",
              "      <td>20191127.0</td>\n",
              "      <td>20191126</td>\n",
              "      <td>20191127</td>\n",
              "    </tr>\n",
              "    <tr>\n",
              "      <th>49999</th>\n",
              "      <td>20190101.0</td>\n",
              "      <td>20190105</td>\n",
              "      <td>20190105</td>\n",
              "    </tr>\n",
              "  </tbody>\n",
              "</table>\n",
              "<p>50000 rows × 3 columns</p>\n",
              "</div>\n",
              "      <button class=\"colab-df-convert\" onclick=\"convertToInteractive('df-a27354cc-bd49-4b41-acf6-1e0fc8c907a2')\"\n",
              "              title=\"Convert this dataframe to an interactive table.\"\n",
              "              style=\"display:none;\">\n",
              "        \n",
              "  <svg xmlns=\"http://www.w3.org/2000/svg\" height=\"24px\"viewBox=\"0 0 24 24\"\n",
              "       width=\"24px\">\n",
              "    <path d=\"M0 0h24v24H0V0z\" fill=\"none\"/>\n",
              "    <path d=\"M18.56 5.44l.94 2.06.94-2.06 2.06-.94-2.06-.94-.94-2.06-.94 2.06-2.06.94zm-11 1L8.5 8.5l.94-2.06 2.06-.94-2.06-.94L8.5 2.5l-.94 2.06-2.06.94zm10 10l.94 2.06.94-2.06 2.06-.94-2.06-.94-.94-2.06-.94 2.06-2.06.94z\"/><path d=\"M17.41 7.96l-1.37-1.37c-.4-.4-.92-.59-1.43-.59-.52 0-1.04.2-1.43.59L10.3 9.45l-7.72 7.72c-.78.78-.78 2.05 0 2.83L4 21.41c.39.39.9.59 1.41.59.51 0 1.02-.2 1.41-.59l7.78-7.78 2.81-2.81c.8-.78.8-2.07 0-2.86zM5.41 20L4 18.59l7.72-7.72 1.47 1.35L5.41 20z\"/>\n",
              "  </svg>\n",
              "      </button>\n",
              "      \n",
              "  <style>\n",
              "    .colab-df-container {\n",
              "      display:flex;\n",
              "      flex-wrap:wrap;\n",
              "      gap: 12px;\n",
              "    }\n",
              "\n",
              "    .colab-df-convert {\n",
              "      background-color: #E8F0FE;\n",
              "      border: none;\n",
              "      border-radius: 50%;\n",
              "      cursor: pointer;\n",
              "      display: none;\n",
              "      fill: #1967D2;\n",
              "      height: 32px;\n",
              "      padding: 0 0 0 0;\n",
              "      width: 32px;\n",
              "    }\n",
              "\n",
              "    .colab-df-convert:hover {\n",
              "      background-color: #E2EBFA;\n",
              "      box-shadow: 0px 1px 2px rgba(60, 64, 67, 0.3), 0px 1px 3px 1px rgba(60, 64, 67, 0.15);\n",
              "      fill: #174EA6;\n",
              "    }\n",
              "\n",
              "    [theme=dark] .colab-df-convert {\n",
              "      background-color: #3B4455;\n",
              "      fill: #D2E3FC;\n",
              "    }\n",
              "\n",
              "    [theme=dark] .colab-df-convert:hover {\n",
              "      background-color: #434B5C;\n",
              "      box-shadow: 0px 1px 3px 1px rgba(0, 0, 0, 0.15);\n",
              "      filter: drop-shadow(0px 1px 2px rgba(0, 0, 0, 0.3));\n",
              "      fill: #FFFFFF;\n",
              "    }\n",
              "  </style>\n",
              "\n",
              "      <script>\n",
              "        const buttonEl =\n",
              "          document.querySelector('#df-a27354cc-bd49-4b41-acf6-1e0fc8c907a2 button.colab-df-convert');\n",
              "        buttonEl.style.display =\n",
              "          google.colab.kernel.accessAllowed ? 'block' : 'none';\n",
              "\n",
              "        async function convertToInteractive(key) {\n",
              "          const element = document.querySelector('#df-a27354cc-bd49-4b41-acf6-1e0fc8c907a2');\n",
              "          const dataTable =\n",
              "            await google.colab.kernel.invokeFunction('convertToInteractive',\n",
              "                                                     [key], {});\n",
              "          if (!dataTable) return;\n",
              "\n",
              "          const docLinkHtml = 'Like what you see? Visit the ' +\n",
              "            '<a target=\"_blank\" href=https://colab.research.google.com/notebooks/data_table.ipynb>data table notebook</a>'\n",
              "            + ' to learn more about interactive tables.';\n",
              "          element.innerHTML = '';\n",
              "          dataTable['output_type'] = 'display_data';\n",
              "          await google.colab.output.renderOutput(dataTable, element);\n",
              "          const docLink = document.createElement('div');\n",
              "          docLink.innerHTML = docLinkHtml;\n",
              "          element.appendChild(docLink);\n",
              "        }\n",
              "      </script>\n",
              "    </div>\n",
              "  </div>\n",
              "  "
            ]
          },
          "metadata": {},
          "execution_count": 161
        }
      ],
      "source": [
        "Dataframe[['baseline_create_date',\"document_create_date\",'document_create_date.1']]"
      ]
    },
    {
      "cell_type": "markdown",
      "id": "33110576",
      "metadata": {
        "id": "33110576"
      },
      "source": [
        "#### Please check, Column 'posting_id' is constant columns or not\n"
      ]
    },
    {
      "cell_type": "code",
      "execution_count": 162,
      "id": "ecce2664",
      "metadata": {
        "id": "ecce2664",
        "colab": {
          "base_uri": "https://localhost:8080/"
        },
        "outputId": "85e3f972-2d94-4ba9-a0b7-275bccef1d98"
      },
      "outputs": [
        {
          "output_type": "execute_result",
          "data": {
            "text/plain": [
              "1"
            ]
          },
          "metadata": {},
          "execution_count": 162
        }
      ],
      "source": [
        "Dataframe['posting_id'].nunique()"
      ]
    },
    {
      "cell_type": "markdown",
      "id": "e5fb8daf",
      "metadata": {
        "id": "e5fb8daf"
      },
      "source": [
        "#### Please check 'isOpen' is a constant column and relevant column for this project or not"
      ]
    },
    {
      "cell_type": "code",
      "execution_count": 163,
      "id": "8db9956b",
      "metadata": {
        "id": "8db9956b",
        "colab": {
          "base_uri": "https://localhost:8080/"
        },
        "outputId": "4dbb0dd1-157f-4d73-f033-53ec1737c0d1"
      },
      "outputs": [
        {
          "output_type": "execute_result",
          "data": {
            "text/plain": [
              "2"
            ]
          },
          "metadata": {},
          "execution_count": 163
        }
      ],
      "source": [
        "Dataframe['isOpen'].nunique()"
      ]
    },
    {
      "cell_type": "markdown",
      "id": "45a11a62",
      "metadata": {
        "id": "45a11a62"
      },
      "source": [
        "### Write the code to drop all the following columns from the dataframe\n",
        "\n",
        "- 'area_business'\n",
        "- \"posting_id\"\n",
        "- \"invoice_id\"\n",
        "- \"document_create_date\"\n",
        "- \"isOpen\"\n",
        "- 'document type' \n",
        "- 'document_create_date.1"
      ]
    },
    {
      "cell_type": "code",
      "execution_count": 164,
      "id": "270d85d1",
      "metadata": {
        "id": "270d85d1"
      },
      "outputs": [],
      "source": [
        "Dataframe=Dataframe.drop(['area_business',\"posting_id\",\"invoice_id\",\"document_create_date\",\"isOpen\",'document type','document_create_date.1'],axis=1)"
      ]
    },
    {
      "cell_type": "markdown",
      "id": "K5LHAM2XVGnk",
      "metadata": {
        "id": "K5LHAM2XVGnk"
      },
      "source": [
        "### Please check from the dataframe whether all the columns are removed or not "
      ]
    },
    {
      "cell_type": "code",
      "execution_count": 165,
      "id": "ef3f7d2b",
      "metadata": {
        "id": "ef3f7d2b",
        "colab": {
          "base_uri": "https://localhost:8080/"
        },
        "outputId": "38d81662-9c0e-4d40-ec2a-84fa07ee652a"
      },
      "outputs": [
        {
          "output_type": "execute_result",
          "data": {
            "text/plain": [
              "Index(['business_code', 'cust_number', 'name_customer', 'clear_date',\n",
              "       'buisness_year', 'doc_id', 'posting_date', 'due_in_date',\n",
              "       'invoice_currency', 'total_open_amount', 'baseline_create_date',\n",
              "       'cust_payment_terms'],\n",
              "      dtype='object')"
            ]
          },
          "metadata": {},
          "execution_count": 165
        }
      ],
      "source": [
        "Dataframe.columns"
      ]
    },
    {
      "cell_type": "markdown",
      "id": "6bc052c7",
      "metadata": {
        "id": "6bc052c7"
      },
      "source": [
        "### Show all the Duplicate rows from the dataframe"
      ]
    },
    {
      "cell_type": "code",
      "execution_count": 166,
      "id": "1ae3c7e4",
      "metadata": {
        "id": "1ae3c7e4",
        "colab": {
          "base_uri": "https://localhost:8080/",
          "height": 644
        },
        "outputId": "0f3680f5-3929-4b42-c716-885ef89c9fbc"
      },
      "outputs": [
        {
          "output_type": "execute_result",
          "data": {
            "text/plain": [
              "      business_code cust_number        name_customer           clear_date  \\\n",
              "1041           U001  0200769623           WAL-MAR in  2019-03-12 00:00:00   \n",
              "2400           U001  0200769623        WAL-MAR trust  2019-08-28 00:00:00   \n",
              "2584           U001  0200769623  WAL-MAR corporation  2019-12-16 00:00:00   \n",
              "3755           U001  0200769623             WAL-MAR   2019-11-22 00:00:00   \n",
              "3873           CA02  0140104409       LOB associates                  NaN   \n",
              "...             ...         ...                  ...                  ...   \n",
              "49928          U001  0200915438           GROC trust  2019-08-15 00:00:00   \n",
              "49963          U001  0200759878                SA us  2019-01-29 00:00:00   \n",
              "49986          U001  0200772670  ASSOCIAT foundation  2019-06-12 00:00:00   \n",
              "49990          U001  0200765011           MAINES llc  2019-06-06 00:00:00   \n",
              "49991          U001  0200704045             RA trust  2019-10-25 00:00:00   \n",
              "\n",
              "       buisness_year        doc_id posting_date  due_in_date invoice_currency  \\\n",
              "1041          2019.0  1.928870e+09   2019-02-28   20190315.0              USD   \n",
              "2400          2019.0  1.929758e+09   2019-08-18   20190902.0              USD   \n",
              "2584          2019.0  1.930217e+09   2019-12-04   20191219.0              USD   \n",
              "3755          2019.0  1.930137e+09   2019-11-12   20191127.0              USD   \n",
              "3873          2020.0  2.960629e+09   2020-04-14   20200425.0              CAD   \n",
              "...              ...           ...          ...          ...              ...   \n",
              "49928         2019.0  1.929646e+09   2019-07-25   20190809.0              USD   \n",
              "49963         2019.0  1.928614e+09   2019-01-13   20190128.0              USD   \n",
              "49986         2019.0  1.929403e+09   2019-05-29   20190613.0              USD   \n",
              "49990         2019.0  1.929365e+09   2019-05-22   20190606.0              USD   \n",
              "49991         2019.0  1.930001e+09   2019-10-10   20191025.0              USD   \n",
              "\n",
              "       total_open_amount  baseline_create_date cust_payment_terms  \n",
              "1041            19557.41            20190228.0               NAH4  \n",
              "2400             5600.41            20190818.0               NAH4  \n",
              "2584            35352.17            20191204.0               NAH4  \n",
              "3755             2982.64            20191112.0               NAH4  \n",
              "3873            82975.82            20200415.0               CA10  \n",
              "...                  ...                   ...                ...  \n",
              "49928            6969.00            20190725.0               NAA8  \n",
              "49963           10968.24            20190113.0               NAH4  \n",
              "49986          155837.53            20190529.0               NAU5  \n",
              "49990            4008.05            20190522.0               NAA8  \n",
              "49991           73002.24            20191010.0               NAA8  \n",
              "\n",
              "[1161 rows x 12 columns]"
            ],
            "text/html": [
              "\n",
              "  <div id=\"df-0c3c19bd-ab06-48ba-9cf8-e99d22d04660\">\n",
              "    <div class=\"colab-df-container\">\n",
              "      <div>\n",
              "<style scoped>\n",
              "    .dataframe tbody tr th:only-of-type {\n",
              "        vertical-align: middle;\n",
              "    }\n",
              "\n",
              "    .dataframe tbody tr th {\n",
              "        vertical-align: top;\n",
              "    }\n",
              "\n",
              "    .dataframe thead th {\n",
              "        text-align: right;\n",
              "    }\n",
              "</style>\n",
              "<table border=\"1\" class=\"dataframe\">\n",
              "  <thead>\n",
              "    <tr style=\"text-align: right;\">\n",
              "      <th></th>\n",
              "      <th>business_code</th>\n",
              "      <th>cust_number</th>\n",
              "      <th>name_customer</th>\n",
              "      <th>clear_date</th>\n",
              "      <th>buisness_year</th>\n",
              "      <th>doc_id</th>\n",
              "      <th>posting_date</th>\n",
              "      <th>due_in_date</th>\n",
              "      <th>invoice_currency</th>\n",
              "      <th>total_open_amount</th>\n",
              "      <th>baseline_create_date</th>\n",
              "      <th>cust_payment_terms</th>\n",
              "    </tr>\n",
              "  </thead>\n",
              "  <tbody>\n",
              "    <tr>\n",
              "      <th>1041</th>\n",
              "      <td>U001</td>\n",
              "      <td>0200769623</td>\n",
              "      <td>WAL-MAR in</td>\n",
              "      <td>2019-03-12 00:00:00</td>\n",
              "      <td>2019.0</td>\n",
              "      <td>1.928870e+09</td>\n",
              "      <td>2019-02-28</td>\n",
              "      <td>20190315.0</td>\n",
              "      <td>USD</td>\n",
              "      <td>19557.41</td>\n",
              "      <td>20190228.0</td>\n",
              "      <td>NAH4</td>\n",
              "    </tr>\n",
              "    <tr>\n",
              "      <th>2400</th>\n",
              "      <td>U001</td>\n",
              "      <td>0200769623</td>\n",
              "      <td>WAL-MAR trust</td>\n",
              "      <td>2019-08-28 00:00:00</td>\n",
              "      <td>2019.0</td>\n",
              "      <td>1.929758e+09</td>\n",
              "      <td>2019-08-18</td>\n",
              "      <td>20190902.0</td>\n",
              "      <td>USD</td>\n",
              "      <td>5600.41</td>\n",
              "      <td>20190818.0</td>\n",
              "      <td>NAH4</td>\n",
              "    </tr>\n",
              "    <tr>\n",
              "      <th>2584</th>\n",
              "      <td>U001</td>\n",
              "      <td>0200769623</td>\n",
              "      <td>WAL-MAR corporation</td>\n",
              "      <td>2019-12-16 00:00:00</td>\n",
              "      <td>2019.0</td>\n",
              "      <td>1.930217e+09</td>\n",
              "      <td>2019-12-04</td>\n",
              "      <td>20191219.0</td>\n",
              "      <td>USD</td>\n",
              "      <td>35352.17</td>\n",
              "      <td>20191204.0</td>\n",
              "      <td>NAH4</td>\n",
              "    </tr>\n",
              "    <tr>\n",
              "      <th>3755</th>\n",
              "      <td>U001</td>\n",
              "      <td>0200769623</td>\n",
              "      <td>WAL-MAR</td>\n",
              "      <td>2019-11-22 00:00:00</td>\n",
              "      <td>2019.0</td>\n",
              "      <td>1.930137e+09</td>\n",
              "      <td>2019-11-12</td>\n",
              "      <td>20191127.0</td>\n",
              "      <td>USD</td>\n",
              "      <td>2982.64</td>\n",
              "      <td>20191112.0</td>\n",
              "      <td>NAH4</td>\n",
              "    </tr>\n",
              "    <tr>\n",
              "      <th>3873</th>\n",
              "      <td>CA02</td>\n",
              "      <td>0140104409</td>\n",
              "      <td>LOB associates</td>\n",
              "      <td>NaN</td>\n",
              "      <td>2020.0</td>\n",
              "      <td>2.960629e+09</td>\n",
              "      <td>2020-04-14</td>\n",
              "      <td>20200425.0</td>\n",
              "      <td>CAD</td>\n",
              "      <td>82975.82</td>\n",
              "      <td>20200415.0</td>\n",
              "      <td>CA10</td>\n",
              "    </tr>\n",
              "    <tr>\n",
              "      <th>...</th>\n",
              "      <td>...</td>\n",
              "      <td>...</td>\n",
              "      <td>...</td>\n",
              "      <td>...</td>\n",
              "      <td>...</td>\n",
              "      <td>...</td>\n",
              "      <td>...</td>\n",
              "      <td>...</td>\n",
              "      <td>...</td>\n",
              "      <td>...</td>\n",
              "      <td>...</td>\n",
              "      <td>...</td>\n",
              "    </tr>\n",
              "    <tr>\n",
              "      <th>49928</th>\n",
              "      <td>U001</td>\n",
              "      <td>0200915438</td>\n",
              "      <td>GROC trust</td>\n",
              "      <td>2019-08-15 00:00:00</td>\n",
              "      <td>2019.0</td>\n",
              "      <td>1.929646e+09</td>\n",
              "      <td>2019-07-25</td>\n",
              "      <td>20190809.0</td>\n",
              "      <td>USD</td>\n",
              "      <td>6969.00</td>\n",
              "      <td>20190725.0</td>\n",
              "      <td>NAA8</td>\n",
              "    </tr>\n",
              "    <tr>\n",
              "      <th>49963</th>\n",
              "      <td>U001</td>\n",
              "      <td>0200759878</td>\n",
              "      <td>SA us</td>\n",
              "      <td>2019-01-29 00:00:00</td>\n",
              "      <td>2019.0</td>\n",
              "      <td>1.928614e+09</td>\n",
              "      <td>2019-01-13</td>\n",
              "      <td>20190128.0</td>\n",
              "      <td>USD</td>\n",
              "      <td>10968.24</td>\n",
              "      <td>20190113.0</td>\n",
              "      <td>NAH4</td>\n",
              "    </tr>\n",
              "    <tr>\n",
              "      <th>49986</th>\n",
              "      <td>U001</td>\n",
              "      <td>0200772670</td>\n",
              "      <td>ASSOCIAT foundation</td>\n",
              "      <td>2019-06-12 00:00:00</td>\n",
              "      <td>2019.0</td>\n",
              "      <td>1.929403e+09</td>\n",
              "      <td>2019-05-29</td>\n",
              "      <td>20190613.0</td>\n",
              "      <td>USD</td>\n",
              "      <td>155837.53</td>\n",
              "      <td>20190529.0</td>\n",
              "      <td>NAU5</td>\n",
              "    </tr>\n",
              "    <tr>\n",
              "      <th>49990</th>\n",
              "      <td>U001</td>\n",
              "      <td>0200765011</td>\n",
              "      <td>MAINES llc</td>\n",
              "      <td>2019-06-06 00:00:00</td>\n",
              "      <td>2019.0</td>\n",
              "      <td>1.929365e+09</td>\n",
              "      <td>2019-05-22</td>\n",
              "      <td>20190606.0</td>\n",
              "      <td>USD</td>\n",
              "      <td>4008.05</td>\n",
              "      <td>20190522.0</td>\n",
              "      <td>NAA8</td>\n",
              "    </tr>\n",
              "    <tr>\n",
              "      <th>49991</th>\n",
              "      <td>U001</td>\n",
              "      <td>0200704045</td>\n",
              "      <td>RA trust</td>\n",
              "      <td>2019-10-25 00:00:00</td>\n",
              "      <td>2019.0</td>\n",
              "      <td>1.930001e+09</td>\n",
              "      <td>2019-10-10</td>\n",
              "      <td>20191025.0</td>\n",
              "      <td>USD</td>\n",
              "      <td>73002.24</td>\n",
              "      <td>20191010.0</td>\n",
              "      <td>NAA8</td>\n",
              "    </tr>\n",
              "  </tbody>\n",
              "</table>\n",
              "<p>1161 rows × 12 columns</p>\n",
              "</div>\n",
              "      <button class=\"colab-df-convert\" onclick=\"convertToInteractive('df-0c3c19bd-ab06-48ba-9cf8-e99d22d04660')\"\n",
              "              title=\"Convert this dataframe to an interactive table.\"\n",
              "              style=\"display:none;\">\n",
              "        \n",
              "  <svg xmlns=\"http://www.w3.org/2000/svg\" height=\"24px\"viewBox=\"0 0 24 24\"\n",
              "       width=\"24px\">\n",
              "    <path d=\"M0 0h24v24H0V0z\" fill=\"none\"/>\n",
              "    <path d=\"M18.56 5.44l.94 2.06.94-2.06 2.06-.94-2.06-.94-.94-2.06-.94 2.06-2.06.94zm-11 1L8.5 8.5l.94-2.06 2.06-.94-2.06-.94L8.5 2.5l-.94 2.06-2.06.94zm10 10l.94 2.06.94-2.06 2.06-.94-2.06-.94-.94-2.06-.94 2.06-2.06.94z\"/><path d=\"M17.41 7.96l-1.37-1.37c-.4-.4-.92-.59-1.43-.59-.52 0-1.04.2-1.43.59L10.3 9.45l-7.72 7.72c-.78.78-.78 2.05 0 2.83L4 21.41c.39.39.9.59 1.41.59.51 0 1.02-.2 1.41-.59l7.78-7.78 2.81-2.81c.8-.78.8-2.07 0-2.86zM5.41 20L4 18.59l7.72-7.72 1.47 1.35L5.41 20z\"/>\n",
              "  </svg>\n",
              "      </button>\n",
              "      \n",
              "  <style>\n",
              "    .colab-df-container {\n",
              "      display:flex;\n",
              "      flex-wrap:wrap;\n",
              "      gap: 12px;\n",
              "    }\n",
              "\n",
              "    .colab-df-convert {\n",
              "      background-color: #E8F0FE;\n",
              "      border: none;\n",
              "      border-radius: 50%;\n",
              "      cursor: pointer;\n",
              "      display: none;\n",
              "      fill: #1967D2;\n",
              "      height: 32px;\n",
              "      padding: 0 0 0 0;\n",
              "      width: 32px;\n",
              "    }\n",
              "\n",
              "    .colab-df-convert:hover {\n",
              "      background-color: #E2EBFA;\n",
              "      box-shadow: 0px 1px 2px rgba(60, 64, 67, 0.3), 0px 1px 3px 1px rgba(60, 64, 67, 0.15);\n",
              "      fill: #174EA6;\n",
              "    }\n",
              "\n",
              "    [theme=dark] .colab-df-convert {\n",
              "      background-color: #3B4455;\n",
              "      fill: #D2E3FC;\n",
              "    }\n",
              "\n",
              "    [theme=dark] .colab-df-convert:hover {\n",
              "      background-color: #434B5C;\n",
              "      box-shadow: 0px 1px 3px 1px rgba(0, 0, 0, 0.15);\n",
              "      filter: drop-shadow(0px 1px 2px rgba(0, 0, 0, 0.3));\n",
              "      fill: #FFFFFF;\n",
              "    }\n",
              "  </style>\n",
              "\n",
              "      <script>\n",
              "        const buttonEl =\n",
              "          document.querySelector('#df-0c3c19bd-ab06-48ba-9cf8-e99d22d04660 button.colab-df-convert');\n",
              "        buttonEl.style.display =\n",
              "          google.colab.kernel.accessAllowed ? 'block' : 'none';\n",
              "\n",
              "        async function convertToInteractive(key) {\n",
              "          const element = document.querySelector('#df-0c3c19bd-ab06-48ba-9cf8-e99d22d04660');\n",
              "          const dataTable =\n",
              "            await google.colab.kernel.invokeFunction('convertToInteractive',\n",
              "                                                     [key], {});\n",
              "          if (!dataTable) return;\n",
              "\n",
              "          const docLinkHtml = 'Like what you see? Visit the ' +\n",
              "            '<a target=\"_blank\" href=https://colab.research.google.com/notebooks/data_table.ipynb>data table notebook</a>'\n",
              "            + ' to learn more about interactive tables.';\n",
              "          element.innerHTML = '';\n",
              "          dataTable['output_type'] = 'display_data';\n",
              "          await google.colab.output.renderOutput(dataTable, element);\n",
              "          const docLink = document.createElement('div');\n",
              "          docLink.innerHTML = docLinkHtml;\n",
              "          element.appendChild(docLink);\n",
              "        }\n",
              "      </script>\n",
              "    </div>\n",
              "  </div>\n",
              "  "
            ]
          },
          "metadata": {},
          "execution_count": 166
        }
      ],
      "source": [
        "Dataframe[Dataframe.duplicated()]"
      ]
    },
    {
      "cell_type": "markdown",
      "id": "464fab09",
      "metadata": {
        "id": "464fab09"
      },
      "source": [
        "### Display the Number of Duplicate Rows"
      ]
    },
    {
      "cell_type": "code",
      "execution_count": 167,
      "id": "b1ea2397",
      "metadata": {
        "id": "b1ea2397",
        "colab": {
          "base_uri": "https://localhost:8080/"
        },
        "outputId": "6baed9dd-f79e-4252-f9d7-fdf0caf44de6"
      },
      "outputs": [
        {
          "output_type": "execute_result",
          "data": {
            "text/plain": [
              "1161"
            ]
          },
          "metadata": {},
          "execution_count": 167
        }
      ],
      "source": [
        "number_of_Duplicates=Dataframe.duplicated().sum()\n",
        "number_of_Duplicates"
      ]
    },
    {
      "cell_type": "markdown",
      "id": "827a6718",
      "metadata": {
        "id": "827a6718"
      },
      "source": [
        "### Drop all the Duplicate Rows"
      ]
    },
    {
      "cell_type": "code",
      "execution_count": 168,
      "id": "5d10151c",
      "metadata": {
        "id": "5d10151c"
      },
      "outputs": [],
      "source": [
        "Dataframe=Dataframe.drop_duplicates()"
      ]
    },
    {
      "cell_type": "markdown",
      "id": "7e5d1f9b",
      "metadata": {
        "id": "7e5d1f9b"
      },
      "source": [
        "#### Now check for all duplicate rows now\n",
        "\n",
        "- Note - It must be 0 by now"
      ]
    },
    {
      "cell_type": "code",
      "execution_count": 169,
      "id": "9accc9fc",
      "metadata": {
        "id": "9accc9fc",
        "colab": {
          "base_uri": "https://localhost:8080/"
        },
        "outputId": "962b83f3-79f6-4f75-97f1-a4209e1c526c"
      },
      "outputs": [
        {
          "output_type": "execute_result",
          "data": {
            "text/plain": [
              "0"
            ]
          },
          "metadata": {},
          "execution_count": 169
        }
      ],
      "source": [
        "number_of_Duplicates=Dataframe.duplicated().sum()\n",
        "number_of_Duplicates"
      ]
    },
    {
      "cell_type": "markdown",
      "id": "d0704898",
      "metadata": {
        "id": "d0704898"
      },
      "source": [
        "### Check for the number of Rows and Columns in your dataset"
      ]
    },
    {
      "cell_type": "code",
      "execution_count": 170,
      "id": "582748a8",
      "metadata": {
        "id": "582748a8",
        "colab": {
          "base_uri": "https://localhost:8080/"
        },
        "outputId": "ca8403de-cb61-44c8-e954-a300da6c9a8e"
      },
      "outputs": [
        {
          "output_type": "execute_result",
          "data": {
            "text/plain": [
              "(48839, 12)"
            ]
          },
          "metadata": {},
          "execution_count": 170
        }
      ],
      "source": [
        "Dataframe.shape"
      ]
    },
    {
      "cell_type": "markdown",
      "id": "4o9c5UodWRtl",
      "metadata": {
        "id": "4o9c5UodWRtl"
      },
      "source": [
        "### Find out the total count of null values in each columns"
      ]
    },
    {
      "cell_type": "code",
      "execution_count": 171,
      "id": "b0612cb5",
      "metadata": {
        "id": "b0612cb5",
        "colab": {
          "base_uri": "https://localhost:8080/"
        },
        "outputId": "8d482301-28d0-4414-fea4-ee16e7db66dc"
      },
      "outputs": [
        {
          "output_type": "execute_result",
          "data": {
            "text/plain": [
              "business_code              0\n",
              "cust_number                0\n",
              "name_customer              0\n",
              "clear_date              9681\n",
              "buisness_year              0\n",
              "doc_id                     0\n",
              "posting_date               0\n",
              "due_in_date                0\n",
              "invoice_currency           0\n",
              "total_open_amount          0\n",
              "baseline_create_date       0\n",
              "cust_payment_terms         0\n",
              "dtype: int64"
            ]
          },
          "metadata": {},
          "execution_count": 171
        }
      ],
      "source": [
        "Dataframe.isna().sum()"
      ]
    },
    {
      "cell_type": "markdown",
      "id": "7abdb98b",
      "metadata": {
        "id": "7abdb98b"
      },
      "source": [
        "#Data type Conversion "
      ]
    },
    {
      "cell_type": "markdown",
      "id": "LPfSUSp-WpPj",
      "metadata": {
        "id": "LPfSUSp-WpPj"
      },
      "source": [
        "### Please check the data type of each column of the dataframe"
      ]
    },
    {
      "cell_type": "code",
      "execution_count": 172,
      "id": "689c8592",
      "metadata": {
        "id": "689c8592",
        "colab": {
          "base_uri": "https://localhost:8080/"
        },
        "outputId": "d8746808-a085-4e1e-d890-f5b3cb4bc27a"
      },
      "outputs": [
        {
          "output_type": "execute_result",
          "data": {
            "text/plain": [
              "business_code            object\n",
              "cust_number              object\n",
              "name_customer            object\n",
              "clear_date               object\n",
              "buisness_year           float64\n",
              "doc_id                  float64\n",
              "posting_date             object\n",
              "due_in_date             float64\n",
              "invoice_currency         object\n",
              "total_open_amount       float64\n",
              "baseline_create_date    float64\n",
              "cust_payment_terms       object\n",
              "dtype: object"
            ]
          },
          "metadata": {},
          "execution_count": 172
        }
      ],
      "source": [
        "Dataframe.dtypes"
      ]
    },
    {
      "cell_type": "markdown",
      "id": "0nsem0_3XzOt",
      "metadata": {
        "id": "0nsem0_3XzOt"
      },
      "source": [
        "### Check the datatype format of below columns\n",
        "\n",
        "- clear_date  \n",
        "- posting_date\n",
        "- due_in_date \n",
        "- baseline_create_date"
      ]
    },
    {
      "cell_type": "code",
      "execution_count": 173,
      "id": "-yyODyW3X6pL",
      "metadata": {
        "id": "-yyODyW3X6pL",
        "colab": {
          "base_uri": "https://localhost:8080/"
        },
        "outputId": "d35d6f0c-7b86-4872-9a48-ca8dd712e837"
      },
      "outputs": [
        {
          "output_type": "execute_result",
          "data": {
            "text/plain": [
              "clear_date               object\n",
              "posting_date             object\n",
              "due_in_date             float64\n",
              "baseline_create_date    float64\n",
              "dtype: object"
            ]
          },
          "metadata": {},
          "execution_count": 173
        }
      ],
      "source": [
        "Dataframe[['clear_date','posting_date','due_in_date','baseline_create_date']].dtypes"
      ]
    },
    {
      "cell_type": "markdown",
      "id": "11cf9478",
      "metadata": {
        "id": "11cf9478"
      },
      "source": [
        "### converting date columns into date time formats\n",
        "\n",
        "- clear_date  \n",
        "- posting_date\n",
        "- due_in_date \n",
        "- baseline_create_date\n",
        "\n",
        "\n",
        "- **Note - You have to convert all these above columns into \"%Y%m%d\" format**"
      ]
    },
    {
      "cell_type": "code",
      "execution_count": 174,
      "id": "9a8c6c71",
      "metadata": {
        "id": "9a8c6c71"
      },
      "outputs": [],
      "source": [
        "Dataframe['due_in_date'] = pd.to_datetime(Dataframe['due_in_date'],format = '%Y%m%d')\n",
        "Dataframe['baseline_create_date'] = pd.to_datetime(Dataframe['baseline_create_date'],format = '%Y%m%d')\n",
        "Dataframe['posting_date'] = pd.to_datetime(Dataframe['posting_date'])\n",
        "Dataframe['clear_date'] = pd.to_datetime(Dataframe['clear_date'])"
      ]
    },
    {
      "cell_type": "markdown",
      "id": "7adq0wSIYSCS",
      "metadata": {
        "id": "7adq0wSIYSCS"
      },
      "source": [
        "### Please check the datatype of all the columns after conversion of the above 4 columns"
      ]
    },
    {
      "cell_type": "code",
      "execution_count": 175,
      "id": "fd028c61",
      "metadata": {
        "id": "fd028c61",
        "colab": {
          "base_uri": "https://localhost:8080/"
        },
        "outputId": "e7a3d641-b02f-4a8d-fd8f-85ee1a85dae9"
      },
      "outputs": [
        {
          "output_type": "execute_result",
          "data": {
            "text/plain": [
              "business_code                   object\n",
              "cust_number                     object\n",
              "name_customer                   object\n",
              "clear_date              datetime64[ns]\n",
              "buisness_year                  float64\n",
              "doc_id                         float64\n",
              "posting_date            datetime64[ns]\n",
              "due_in_date             datetime64[ns]\n",
              "invoice_currency                object\n",
              "total_open_amount              float64\n",
              "baseline_create_date    datetime64[ns]\n",
              "cust_payment_terms              object\n",
              "dtype: object"
            ]
          },
          "metadata": {},
          "execution_count": 175
        }
      ],
      "source": [
        "Dataframe.dtypes"
      ]
    },
    {
      "cell_type": "markdown",
      "id": "8c9882fa",
      "metadata": {
        "id": "8c9882fa"
      },
      "source": [
        "#### the invoice_currency column contains two different categories, USD and CAD\n",
        "\n",
        "- Please do a count of each currency "
      ]
    },
    {
      "cell_type": "code",
      "execution_count": 176,
      "id": "72085397",
      "metadata": {
        "id": "72085397",
        "colab": {
          "base_uri": "https://localhost:8080/"
        },
        "outputId": "cfdc1024-301f-437e-d026-480b35471104"
      },
      "outputs": [
        {
          "output_type": "execute_result",
          "data": {
            "text/plain": [
              "USD    45011\n",
              "CAD     3828\n",
              "Name: invoice_currency, dtype: int64"
            ]
          },
          "metadata": {},
          "execution_count": 176
        }
      ],
      "source": [
        "Dataframe.invoice_currency.value_counts()"
      ]
    },
    {
      "cell_type": "markdown",
      "id": "6cbe26ee",
      "metadata": {
        "id": "6cbe26ee"
      },
      "source": [
        "#### display the \"total_open_amount\" column value"
      ]
    },
    {
      "cell_type": "code",
      "execution_count": 177,
      "id": "6c49f2ab",
      "metadata": {
        "id": "6c49f2ab",
        "colab": {
          "base_uri": "https://localhost:8080/"
        },
        "outputId": "d3f735c5-0eb4-440d-ba9b-8186f44cc9b9"
      },
      "outputs": [
        {
          "output_type": "execute_result",
          "data": {
            "text/plain": [
              "0        54273.28\n",
              "1        79656.60\n",
              "2         2253.86\n",
              "3         3299.70\n",
              "4        33133.29\n",
              "           ...   \n",
              "49995     3187.86\n",
              "49996     6766.54\n",
              "49997     6120.86\n",
              "49998       63.48\n",
              "49999     1790.30\n",
              "Name: total_open_amount, Length: 48839, dtype: float64"
            ]
          },
          "metadata": {},
          "execution_count": 177
        }
      ],
      "source": [
        "Dataframe.total_open_amount"
      ]
    },
    {
      "cell_type": "markdown",
      "id": "df899966",
      "metadata": {
        "id": "df899966"
      },
      "source": [
        "### Convert all CAD into USD currency of \"total_open_amount\" column\n",
        "\n",
        "- 1 CAD = 0.7 USD\n",
        "- Create a new column i.e \"converted_usd\" and store USD and convered CAD to USD"
      ]
    },
    {
      "cell_type": "code",
      "execution_count": 178,
      "id": "8eb2f1c5",
      "metadata": {
        "id": "8eb2f1c5"
      },
      "outputs": [],
      "source": [
        "Dataframe[\"converted_usd\"] = np.where(Dataframe[\"invoice_currency\"] == \"CAD\", Dataframe[\"total_open_amount\"]*0.7, Dataframe[\"total_open_amount\"])"
      ]
    },
    {
      "cell_type": "markdown",
      "id": "f9f6ef1d",
      "metadata": {
        "id": "f9f6ef1d"
      },
      "source": [
        "### Display the new \"converted_usd\" column values"
      ]
    },
    {
      "cell_type": "code",
      "execution_count": 179,
      "id": "1fc1a178",
      "metadata": {
        "id": "1fc1a178",
        "colab": {
          "base_uri": "https://localhost:8080/"
        },
        "outputId": "0bb10611-0b13-4172-ed90-4b15b73c40d6"
      },
      "outputs": [
        {
          "output_type": "execute_result",
          "data": {
            "text/plain": [
              "0        54273.28\n",
              "1        79656.60\n",
              "2         2253.86\n",
              "3         2309.79\n",
              "4        33133.29\n",
              "           ...   \n",
              "49995     3187.86\n",
              "49996     6766.54\n",
              "49997     6120.86\n",
              "49998       63.48\n",
              "49999     1790.30\n",
              "Name: converted_usd, Length: 48839, dtype: float64"
            ]
          },
          "metadata": {},
          "execution_count": 179
        }
      ],
      "source": [
        "Dataframe.converted_usd"
      ]
    },
    {
      "cell_type": "markdown",
      "id": "6XLXX17kayuy",
      "metadata": {
        "id": "6XLXX17kayuy"
      },
      "source": [
        "### Display year wise total number of record \n",
        "\n",
        "- Note -  use \"buisness_year\" column for this "
      ]
    },
    {
      "cell_type": "code",
      "execution_count": 180,
      "id": "00c9f6ee",
      "metadata": {
        "id": "00c9f6ee",
        "colab": {
          "base_uri": "https://localhost:8080/",
          "height": 207
        },
        "outputId": "18c84dad-8ea4-4e47-ce60-59b7abac9c05"
      },
      "outputs": [
        {
          "output_type": "execute_result",
          "data": {
            "text/plain": [
              "               business_code  cust_number  name_customer  clear_date  doc_id  \\\n",
              "buisness_year                                                                  \n",
              "2019.0                 33975        33975          33975       33975   33975   \n",
              "2020.0                 14864        14864          14864        5183   14864   \n",
              "\n",
              "               posting_date  due_in_date  invoice_currency  total_open_amount  \\\n",
              "buisness_year                                                                   \n",
              "2019.0                33975        33975             33975              33975   \n",
              "2020.0                14864        14864             14864              14864   \n",
              "\n",
              "               baseline_create_date  cust_payment_terms  converted_usd  \n",
              "buisness_year                                                           \n",
              "2019.0                        33975               33975          33975  \n",
              "2020.0                        14864               14864          14864  "
            ],
            "text/html": [
              "\n",
              "  <div id=\"df-96effb88-76cf-47c8-b57a-151ad290206d\">\n",
              "    <div class=\"colab-df-container\">\n",
              "      <div>\n",
              "<style scoped>\n",
              "    .dataframe tbody tr th:only-of-type {\n",
              "        vertical-align: middle;\n",
              "    }\n",
              "\n",
              "    .dataframe tbody tr th {\n",
              "        vertical-align: top;\n",
              "    }\n",
              "\n",
              "    .dataframe thead th {\n",
              "        text-align: right;\n",
              "    }\n",
              "</style>\n",
              "<table border=\"1\" class=\"dataframe\">\n",
              "  <thead>\n",
              "    <tr style=\"text-align: right;\">\n",
              "      <th></th>\n",
              "      <th>business_code</th>\n",
              "      <th>cust_number</th>\n",
              "      <th>name_customer</th>\n",
              "      <th>clear_date</th>\n",
              "      <th>doc_id</th>\n",
              "      <th>posting_date</th>\n",
              "      <th>due_in_date</th>\n",
              "      <th>invoice_currency</th>\n",
              "      <th>total_open_amount</th>\n",
              "      <th>baseline_create_date</th>\n",
              "      <th>cust_payment_terms</th>\n",
              "      <th>converted_usd</th>\n",
              "    </tr>\n",
              "    <tr>\n",
              "      <th>buisness_year</th>\n",
              "      <th></th>\n",
              "      <th></th>\n",
              "      <th></th>\n",
              "      <th></th>\n",
              "      <th></th>\n",
              "      <th></th>\n",
              "      <th></th>\n",
              "      <th></th>\n",
              "      <th></th>\n",
              "      <th></th>\n",
              "      <th></th>\n",
              "      <th></th>\n",
              "    </tr>\n",
              "  </thead>\n",
              "  <tbody>\n",
              "    <tr>\n",
              "      <th>2019.0</th>\n",
              "      <td>33975</td>\n",
              "      <td>33975</td>\n",
              "      <td>33975</td>\n",
              "      <td>33975</td>\n",
              "      <td>33975</td>\n",
              "      <td>33975</td>\n",
              "      <td>33975</td>\n",
              "      <td>33975</td>\n",
              "      <td>33975</td>\n",
              "      <td>33975</td>\n",
              "      <td>33975</td>\n",
              "      <td>33975</td>\n",
              "    </tr>\n",
              "    <tr>\n",
              "      <th>2020.0</th>\n",
              "      <td>14864</td>\n",
              "      <td>14864</td>\n",
              "      <td>14864</td>\n",
              "      <td>5183</td>\n",
              "      <td>14864</td>\n",
              "      <td>14864</td>\n",
              "      <td>14864</td>\n",
              "      <td>14864</td>\n",
              "      <td>14864</td>\n",
              "      <td>14864</td>\n",
              "      <td>14864</td>\n",
              "      <td>14864</td>\n",
              "    </tr>\n",
              "  </tbody>\n",
              "</table>\n",
              "</div>\n",
              "      <button class=\"colab-df-convert\" onclick=\"convertToInteractive('df-96effb88-76cf-47c8-b57a-151ad290206d')\"\n",
              "              title=\"Convert this dataframe to an interactive table.\"\n",
              "              style=\"display:none;\">\n",
              "        \n",
              "  <svg xmlns=\"http://www.w3.org/2000/svg\" height=\"24px\"viewBox=\"0 0 24 24\"\n",
              "       width=\"24px\">\n",
              "    <path d=\"M0 0h24v24H0V0z\" fill=\"none\"/>\n",
              "    <path d=\"M18.56 5.44l.94 2.06.94-2.06 2.06-.94-2.06-.94-.94-2.06-.94 2.06-2.06.94zm-11 1L8.5 8.5l.94-2.06 2.06-.94-2.06-.94L8.5 2.5l-.94 2.06-2.06.94zm10 10l.94 2.06.94-2.06 2.06-.94-2.06-.94-.94-2.06-.94 2.06-2.06.94z\"/><path d=\"M17.41 7.96l-1.37-1.37c-.4-.4-.92-.59-1.43-.59-.52 0-1.04.2-1.43.59L10.3 9.45l-7.72 7.72c-.78.78-.78 2.05 0 2.83L4 21.41c.39.39.9.59 1.41.59.51 0 1.02-.2 1.41-.59l7.78-7.78 2.81-2.81c.8-.78.8-2.07 0-2.86zM5.41 20L4 18.59l7.72-7.72 1.47 1.35L5.41 20z\"/>\n",
              "  </svg>\n",
              "      </button>\n",
              "      \n",
              "  <style>\n",
              "    .colab-df-container {\n",
              "      display:flex;\n",
              "      flex-wrap:wrap;\n",
              "      gap: 12px;\n",
              "    }\n",
              "\n",
              "    .colab-df-convert {\n",
              "      background-color: #E8F0FE;\n",
              "      border: none;\n",
              "      border-radius: 50%;\n",
              "      cursor: pointer;\n",
              "      display: none;\n",
              "      fill: #1967D2;\n",
              "      height: 32px;\n",
              "      padding: 0 0 0 0;\n",
              "      width: 32px;\n",
              "    }\n",
              "\n",
              "    .colab-df-convert:hover {\n",
              "      background-color: #E2EBFA;\n",
              "      box-shadow: 0px 1px 2px rgba(60, 64, 67, 0.3), 0px 1px 3px 1px rgba(60, 64, 67, 0.15);\n",
              "      fill: #174EA6;\n",
              "    }\n",
              "\n",
              "    [theme=dark] .colab-df-convert {\n",
              "      background-color: #3B4455;\n",
              "      fill: #D2E3FC;\n",
              "    }\n",
              "\n",
              "    [theme=dark] .colab-df-convert:hover {\n",
              "      background-color: #434B5C;\n",
              "      box-shadow: 0px 1px 3px 1px rgba(0, 0, 0, 0.15);\n",
              "      filter: drop-shadow(0px 1px 2px rgba(0, 0, 0, 0.3));\n",
              "      fill: #FFFFFF;\n",
              "    }\n",
              "  </style>\n",
              "\n",
              "      <script>\n",
              "        const buttonEl =\n",
              "          document.querySelector('#df-96effb88-76cf-47c8-b57a-151ad290206d button.colab-df-convert');\n",
              "        buttonEl.style.display =\n",
              "          google.colab.kernel.accessAllowed ? 'block' : 'none';\n",
              "\n",
              "        async function convertToInteractive(key) {\n",
              "          const element = document.querySelector('#df-96effb88-76cf-47c8-b57a-151ad290206d');\n",
              "          const dataTable =\n",
              "            await google.colab.kernel.invokeFunction('convertToInteractive',\n",
              "                                                     [key], {});\n",
              "          if (!dataTable) return;\n",
              "\n",
              "          const docLinkHtml = 'Like what you see? Visit the ' +\n",
              "            '<a target=\"_blank\" href=https://colab.research.google.com/notebooks/data_table.ipynb>data table notebook</a>'\n",
              "            + ' to learn more about interactive tables.';\n",
              "          element.innerHTML = '';\n",
              "          dataTable['output_type'] = 'display_data';\n",
              "          await google.colab.output.renderOutput(dataTable, element);\n",
              "          const docLink = document.createElement('div');\n",
              "          docLink.innerHTML = docLinkHtml;\n",
              "          element.appendChild(docLink);\n",
              "        }\n",
              "      </script>\n",
              "    </div>\n",
              "  </div>\n",
              "  "
            ]
          },
          "metadata": {},
          "execution_count": 180
        }
      ],
      "source": [
        "Dataframe.groupby('buisness_year').count()"
      ]
    },
    {
      "cell_type": "markdown",
      "id": "05c35904",
      "metadata": {
        "id": "05c35904"
      },
      "source": [
        "### Write the code to delete the following columns \n",
        "\n",
        "- 'invoice_currency'\n",
        "- 'total_open_amount', "
      ]
    },
    {
      "cell_type": "code",
      "execution_count": 181,
      "id": "4ac28aa5",
      "metadata": {
        "id": "4ac28aa5"
      },
      "outputs": [],
      "source": [
        "Dataframe=Dataframe.drop(['invoice_currency','total_open_amount'],axis=1)"
      ]
    },
    {
      "cell_type": "markdown",
      "id": "bDBJ_Kvwc086",
      "metadata": {
        "id": "bDBJ_Kvwc086"
      },
      "source": [
        "### Write a code to check the number of columns in dataframe"
      ]
    },
    {
      "cell_type": "code",
      "execution_count": 182,
      "id": "ea360a8c",
      "metadata": {
        "id": "ea360a8c",
        "colab": {
          "base_uri": "https://localhost:8080/"
        },
        "outputId": "dc176464-103a-4e6c-cb36-c94071d6bd5e"
      },
      "outputs": [
        {
          "output_type": "execute_result",
          "data": {
            "text/plain": [
              "11"
            ]
          },
          "metadata": {},
          "execution_count": 182
        }
      ],
      "source": [
        "len(Dataframe.columns)"
      ]
    },
    {
      "cell_type": "markdown",
      "id": "b8f63655",
      "metadata": {
        "id": "b8f63655"
      },
      "source": [
        "# Splitting the Dataset "
      ]
    },
    {
      "cell_type": "markdown",
      "id": "a00f749d",
      "metadata": {
        "id": "a00f749d"
      },
      "source": [
        "### Look for all columns containing null value\n",
        "\n",
        "- Note - Output expected is only one column "
      ]
    },
    {
      "cell_type": "code",
      "execution_count": 183,
      "id": "148c801e",
      "metadata": {
        "id": "148c801e",
        "colab": {
          "base_uri": "https://localhost:8080/"
        },
        "outputId": "5881e24e-b2ec-4241-fd58-66454ff9be74"
      },
      "outputs": [
        {
          "output_type": "execute_result",
          "data": {
            "text/plain": [
              "Index(['clear_date'], dtype='object')"
            ]
          },
          "metadata": {},
          "execution_count": 183
        }
      ],
      "source": [
        "Dataframe.columns[Dataframe.isnull().any()]"
      ]
    },
    {
      "cell_type": "markdown",
      "id": "a094a290",
      "metadata": {
        "id": "a094a290"
      },
      "source": [
        "#### Find out the number of null values from the column that you got from the above code"
      ]
    },
    {
      "cell_type": "code",
      "execution_count": 184,
      "id": "30bfb113",
      "metadata": {
        "id": "30bfb113",
        "colab": {
          "base_uri": "https://localhost:8080/"
        },
        "outputId": "7468e652-f39a-4c1c-edb4-2f1034d26577"
      },
      "outputs": [
        {
          "output_type": "execute_result",
          "data": {
            "text/plain": [
              "clear_date    9681\n",
              "dtype: int64"
            ]
          },
          "metadata": {},
          "execution_count": 184
        }
      ],
      "source": [
        "Dataframe[Dataframe.columns[Dataframe.isnull().any()]].isnull().sum()"
      ]
    },
    {
      "cell_type": "markdown",
      "id": "7f6d939b",
      "metadata": {
        "id": "7f6d939b"
      },
      "source": [
        "### On basis of the above column we are spliting data into dataset\n",
        "\n",
        "- First dataframe (refer that as maindata) only containing the rows, that have NO NULL data in that column ( This is going to be our train dataset ) \n",
        "- Second dataframe (refer that as nulldata) that contains the columns, that have Null data in that column ( This is going to be our test dataset ) "
      ]
    },
    {
      "cell_type": "code",
      "execution_count": 185,
      "id": "c8764c33",
      "metadata": {
        "id": "c8764c33"
      },
      "outputs": [],
      "source": [
        "nulldata=Dataframe[Dataframe['clear_date'].isna()]\n",
        "maindata=Dataframe.dropna()"
      ]
    },
    {
      "cell_type": "markdown",
      "id": "3P8riRBHd_r6",
      "metadata": {
        "id": "3P8riRBHd_r6"
      },
      "source": [
        "### Check the number of Rows and Columns for both the dataframes "
      ]
    },
    {
      "cell_type": "code",
      "execution_count": 186,
      "id": "0693a464",
      "metadata": {
        "id": "0693a464",
        "colab": {
          "base_uri": "https://localhost:8080/"
        },
        "outputId": "666e4482-a3ca-42cd-d27d-1797b66deef7"
      },
      "outputs": [
        {
          "output_type": "execute_result",
          "data": {
            "text/plain": [
              "(39158, 11)"
            ]
          },
          "metadata": {},
          "execution_count": 186
        }
      ],
      "source": [
        "maindata.shape"
      ]
    },
    {
      "cell_type": "code",
      "execution_count": 187,
      "id": "7f86bc74",
      "metadata": {
        "id": "7f86bc74",
        "colab": {
          "base_uri": "https://localhost:8080/"
        },
        "outputId": "6eaac702-daf7-4559-f2e0-35bbf1742877"
      },
      "outputs": [
        {
          "output_type": "execute_result",
          "data": {
            "text/plain": [
              "(9681, 11)"
            ]
          },
          "metadata": {},
          "execution_count": 187
        }
      ],
      "source": [
        "nulldata.shape"
      ]
    },
    {
      "cell_type": "markdown",
      "id": "0747165d",
      "metadata": {
        "id": "0747165d"
      },
      "source": [
        "### Display the 5 records from maindata and nulldata dataframes"
      ]
    },
    {
      "cell_type": "code",
      "execution_count": 188,
      "id": "dec2ec36",
      "metadata": {
        "id": "dec2ec36",
        "colab": {
          "base_uri": "https://localhost:8080/",
          "height": 305
        },
        "outputId": "08e3c469-a96d-4b58-ab37-1ccf51eb1414"
      },
      "outputs": [
        {
          "output_type": "execute_result",
          "data": {
            "text/plain": [
              "  business_code cust_number       name_customer clear_date  buisness_year  \\\n",
              "0          U001  0200769623        WAL-MAR corp 2020-02-11         2020.0   \n",
              "1          U001  0200980828              BEN E  2019-08-08         2019.0   \n",
              "2          U001  0200792734          MDV/ trust 2019-12-30         2019.0   \n",
              "4          U001  0200769623  WAL-MAR foundation 2019-11-25         2019.0   \n",
              "5          CA02  0140106181    THE  corporation 2019-12-04         2019.0   \n",
              "\n",
              "         doc_id posting_date due_in_date baseline_create_date  \\\n",
              "0  1.930438e+09   2020-01-26  2020-02-10           2020-01-26   \n",
              "1  1.929646e+09   2019-07-22  2019-08-11           2019-07-22   \n",
              "2  1.929874e+09   2019-09-14  2019-09-29           2019-09-14   \n",
              "4  1.930148e+09   2019-11-13  2019-11-28           2019-11-13   \n",
              "5  2.960581e+09   2019-09-20  2019-10-04           2019-09-24   \n",
              "\n",
              "  cust_payment_terms  converted_usd  \n",
              "0               NAH4      54273.280  \n",
              "1               NAD1      79656.600  \n",
              "2               NAA8       2253.860  \n",
              "4               NAH4      33133.290  \n",
              "5               CA10      15558.088  "
            ],
            "text/html": [
              "\n",
              "  <div id=\"df-be083052-393e-42fe-8d2c-41bdbe53dad7\">\n",
              "    <div class=\"colab-df-container\">\n",
              "      <div>\n",
              "<style scoped>\n",
              "    .dataframe tbody tr th:only-of-type {\n",
              "        vertical-align: middle;\n",
              "    }\n",
              "\n",
              "    .dataframe tbody tr th {\n",
              "        vertical-align: top;\n",
              "    }\n",
              "\n",
              "    .dataframe thead th {\n",
              "        text-align: right;\n",
              "    }\n",
              "</style>\n",
              "<table border=\"1\" class=\"dataframe\">\n",
              "  <thead>\n",
              "    <tr style=\"text-align: right;\">\n",
              "      <th></th>\n",
              "      <th>business_code</th>\n",
              "      <th>cust_number</th>\n",
              "      <th>name_customer</th>\n",
              "      <th>clear_date</th>\n",
              "      <th>buisness_year</th>\n",
              "      <th>doc_id</th>\n",
              "      <th>posting_date</th>\n",
              "      <th>due_in_date</th>\n",
              "      <th>baseline_create_date</th>\n",
              "      <th>cust_payment_terms</th>\n",
              "      <th>converted_usd</th>\n",
              "    </tr>\n",
              "  </thead>\n",
              "  <tbody>\n",
              "    <tr>\n",
              "      <th>0</th>\n",
              "      <td>U001</td>\n",
              "      <td>0200769623</td>\n",
              "      <td>WAL-MAR corp</td>\n",
              "      <td>2020-02-11</td>\n",
              "      <td>2020.0</td>\n",
              "      <td>1.930438e+09</td>\n",
              "      <td>2020-01-26</td>\n",
              "      <td>2020-02-10</td>\n",
              "      <td>2020-01-26</td>\n",
              "      <td>NAH4</td>\n",
              "      <td>54273.280</td>\n",
              "    </tr>\n",
              "    <tr>\n",
              "      <th>1</th>\n",
              "      <td>U001</td>\n",
              "      <td>0200980828</td>\n",
              "      <td>BEN E</td>\n",
              "      <td>2019-08-08</td>\n",
              "      <td>2019.0</td>\n",
              "      <td>1.929646e+09</td>\n",
              "      <td>2019-07-22</td>\n",
              "      <td>2019-08-11</td>\n",
              "      <td>2019-07-22</td>\n",
              "      <td>NAD1</td>\n",
              "      <td>79656.600</td>\n",
              "    </tr>\n",
              "    <tr>\n",
              "      <th>2</th>\n",
              "      <td>U001</td>\n",
              "      <td>0200792734</td>\n",
              "      <td>MDV/ trust</td>\n",
              "      <td>2019-12-30</td>\n",
              "      <td>2019.0</td>\n",
              "      <td>1.929874e+09</td>\n",
              "      <td>2019-09-14</td>\n",
              "      <td>2019-09-29</td>\n",
              "      <td>2019-09-14</td>\n",
              "      <td>NAA8</td>\n",
              "      <td>2253.860</td>\n",
              "    </tr>\n",
              "    <tr>\n",
              "      <th>4</th>\n",
              "      <td>U001</td>\n",
              "      <td>0200769623</td>\n",
              "      <td>WAL-MAR foundation</td>\n",
              "      <td>2019-11-25</td>\n",
              "      <td>2019.0</td>\n",
              "      <td>1.930148e+09</td>\n",
              "      <td>2019-11-13</td>\n",
              "      <td>2019-11-28</td>\n",
              "      <td>2019-11-13</td>\n",
              "      <td>NAH4</td>\n",
              "      <td>33133.290</td>\n",
              "    </tr>\n",
              "    <tr>\n",
              "      <th>5</th>\n",
              "      <td>CA02</td>\n",
              "      <td>0140106181</td>\n",
              "      <td>THE  corporation</td>\n",
              "      <td>2019-12-04</td>\n",
              "      <td>2019.0</td>\n",
              "      <td>2.960581e+09</td>\n",
              "      <td>2019-09-20</td>\n",
              "      <td>2019-10-04</td>\n",
              "      <td>2019-09-24</td>\n",
              "      <td>CA10</td>\n",
              "      <td>15558.088</td>\n",
              "    </tr>\n",
              "  </tbody>\n",
              "</table>\n",
              "</div>\n",
              "      <button class=\"colab-df-convert\" onclick=\"convertToInteractive('df-be083052-393e-42fe-8d2c-41bdbe53dad7')\"\n",
              "              title=\"Convert this dataframe to an interactive table.\"\n",
              "              style=\"display:none;\">\n",
              "        \n",
              "  <svg xmlns=\"http://www.w3.org/2000/svg\" height=\"24px\"viewBox=\"0 0 24 24\"\n",
              "       width=\"24px\">\n",
              "    <path d=\"M0 0h24v24H0V0z\" fill=\"none\"/>\n",
              "    <path d=\"M18.56 5.44l.94 2.06.94-2.06 2.06-.94-2.06-.94-.94-2.06-.94 2.06-2.06.94zm-11 1L8.5 8.5l.94-2.06 2.06-.94-2.06-.94L8.5 2.5l-.94 2.06-2.06.94zm10 10l.94 2.06.94-2.06 2.06-.94-2.06-.94-.94-2.06-.94 2.06-2.06.94z\"/><path d=\"M17.41 7.96l-1.37-1.37c-.4-.4-.92-.59-1.43-.59-.52 0-1.04.2-1.43.59L10.3 9.45l-7.72 7.72c-.78.78-.78 2.05 0 2.83L4 21.41c.39.39.9.59 1.41.59.51 0 1.02-.2 1.41-.59l7.78-7.78 2.81-2.81c.8-.78.8-2.07 0-2.86zM5.41 20L4 18.59l7.72-7.72 1.47 1.35L5.41 20z\"/>\n",
              "  </svg>\n",
              "      </button>\n",
              "      \n",
              "  <style>\n",
              "    .colab-df-container {\n",
              "      display:flex;\n",
              "      flex-wrap:wrap;\n",
              "      gap: 12px;\n",
              "    }\n",
              "\n",
              "    .colab-df-convert {\n",
              "      background-color: #E8F0FE;\n",
              "      border: none;\n",
              "      border-radius: 50%;\n",
              "      cursor: pointer;\n",
              "      display: none;\n",
              "      fill: #1967D2;\n",
              "      height: 32px;\n",
              "      padding: 0 0 0 0;\n",
              "      width: 32px;\n",
              "    }\n",
              "\n",
              "    .colab-df-convert:hover {\n",
              "      background-color: #E2EBFA;\n",
              "      box-shadow: 0px 1px 2px rgba(60, 64, 67, 0.3), 0px 1px 3px 1px rgba(60, 64, 67, 0.15);\n",
              "      fill: #174EA6;\n",
              "    }\n",
              "\n",
              "    [theme=dark] .colab-df-convert {\n",
              "      background-color: #3B4455;\n",
              "      fill: #D2E3FC;\n",
              "    }\n",
              "\n",
              "    [theme=dark] .colab-df-convert:hover {\n",
              "      background-color: #434B5C;\n",
              "      box-shadow: 0px 1px 3px 1px rgba(0, 0, 0, 0.15);\n",
              "      filter: drop-shadow(0px 1px 2px rgba(0, 0, 0, 0.3));\n",
              "      fill: #FFFFFF;\n",
              "    }\n",
              "  </style>\n",
              "\n",
              "      <script>\n",
              "        const buttonEl =\n",
              "          document.querySelector('#df-be083052-393e-42fe-8d2c-41bdbe53dad7 button.colab-df-convert');\n",
              "        buttonEl.style.display =\n",
              "          google.colab.kernel.accessAllowed ? 'block' : 'none';\n",
              "\n",
              "        async function convertToInteractive(key) {\n",
              "          const element = document.querySelector('#df-be083052-393e-42fe-8d2c-41bdbe53dad7');\n",
              "          const dataTable =\n",
              "            await google.colab.kernel.invokeFunction('convertToInteractive',\n",
              "                                                     [key], {});\n",
              "          if (!dataTable) return;\n",
              "\n",
              "          const docLinkHtml = 'Like what you see? Visit the ' +\n",
              "            '<a target=\"_blank\" href=https://colab.research.google.com/notebooks/data_table.ipynb>data table notebook</a>'\n",
              "            + ' to learn more about interactive tables.';\n",
              "          element.innerHTML = '';\n",
              "          dataTable['output_type'] = 'display_data';\n",
              "          await google.colab.output.renderOutput(dataTable, element);\n",
              "          const docLink = document.createElement('div');\n",
              "          docLink.innerHTML = docLinkHtml;\n",
              "          element.appendChild(docLink);\n",
              "        }\n",
              "      </script>\n",
              "    </div>\n",
              "  </div>\n",
              "  "
            ]
          },
          "metadata": {},
          "execution_count": 188
        }
      ],
      "source": [
        "maindata.head()"
      ]
    },
    {
      "cell_type": "code",
      "execution_count": 189,
      "id": "eee2d68a",
      "metadata": {
        "id": "eee2d68a",
        "colab": {
          "base_uri": "https://localhost:8080/",
          "height": 287
        },
        "outputId": "ce8fc102-e58d-4a24-e8e3-7c766c737c90"
      },
      "outputs": [
        {
          "output_type": "execute_result",
          "data": {
            "text/plain": [
              "   business_code cust_number     name_customer clear_date  buisness_year  \\\n",
              "3           CA02  0140105686          SYSC llc        NaT         2020.0   \n",
              "7           U001  0200744019           TARG us        NaT         2020.0   \n",
              "10          U001  0200418007               AM         NaT         2020.0   \n",
              "14          U001  0200739534        OK systems        NaT         2020.0   \n",
              "15          U001  0200353024  DECA corporation        NaT         2020.0   \n",
              "\n",
              "          doc_id posting_date due_in_date baseline_create_date  \\\n",
              "3   2.960623e+09   2020-03-30  2020-04-10           2020-03-31   \n",
              "7   1.930659e+09   2020-03-19  2020-04-03           2020-03-19   \n",
              "10  1.930611e+09   2020-03-11  2020-03-26           2020-03-11   \n",
              "14  1.930788e+09   2020-04-15  2020-04-30           2020-04-15   \n",
              "15  1.930817e+09   2020-04-23  2020-04-26           2020-04-16   \n",
              "\n",
              "   cust_payment_terms  converted_usd  \n",
              "3                CA10        2309.79  \n",
              "7                NAA8       11173.02  \n",
              "10               NAA8        3525.59  \n",
              "14               NAA8      121105.65  \n",
              "15               NAM2        3726.06  "
            ],
            "text/html": [
              "\n",
              "  <div id=\"df-076d9fae-f2b9-473e-9efe-197989288e1f\">\n",
              "    <div class=\"colab-df-container\">\n",
              "      <div>\n",
              "<style scoped>\n",
              "    .dataframe tbody tr th:only-of-type {\n",
              "        vertical-align: middle;\n",
              "    }\n",
              "\n",
              "    .dataframe tbody tr th {\n",
              "        vertical-align: top;\n",
              "    }\n",
              "\n",
              "    .dataframe thead th {\n",
              "        text-align: right;\n",
              "    }\n",
              "</style>\n",
              "<table border=\"1\" class=\"dataframe\">\n",
              "  <thead>\n",
              "    <tr style=\"text-align: right;\">\n",
              "      <th></th>\n",
              "      <th>business_code</th>\n",
              "      <th>cust_number</th>\n",
              "      <th>name_customer</th>\n",
              "      <th>clear_date</th>\n",
              "      <th>buisness_year</th>\n",
              "      <th>doc_id</th>\n",
              "      <th>posting_date</th>\n",
              "      <th>due_in_date</th>\n",
              "      <th>baseline_create_date</th>\n",
              "      <th>cust_payment_terms</th>\n",
              "      <th>converted_usd</th>\n",
              "    </tr>\n",
              "  </thead>\n",
              "  <tbody>\n",
              "    <tr>\n",
              "      <th>3</th>\n",
              "      <td>CA02</td>\n",
              "      <td>0140105686</td>\n",
              "      <td>SYSC llc</td>\n",
              "      <td>NaT</td>\n",
              "      <td>2020.0</td>\n",
              "      <td>2.960623e+09</td>\n",
              "      <td>2020-03-30</td>\n",
              "      <td>2020-04-10</td>\n",
              "      <td>2020-03-31</td>\n",
              "      <td>CA10</td>\n",
              "      <td>2309.79</td>\n",
              "    </tr>\n",
              "    <tr>\n",
              "      <th>7</th>\n",
              "      <td>U001</td>\n",
              "      <td>0200744019</td>\n",
              "      <td>TARG us</td>\n",
              "      <td>NaT</td>\n",
              "      <td>2020.0</td>\n",
              "      <td>1.930659e+09</td>\n",
              "      <td>2020-03-19</td>\n",
              "      <td>2020-04-03</td>\n",
              "      <td>2020-03-19</td>\n",
              "      <td>NAA8</td>\n",
              "      <td>11173.02</td>\n",
              "    </tr>\n",
              "    <tr>\n",
              "      <th>10</th>\n",
              "      <td>U001</td>\n",
              "      <td>0200418007</td>\n",
              "      <td>AM</td>\n",
              "      <td>NaT</td>\n",
              "      <td>2020.0</td>\n",
              "      <td>1.930611e+09</td>\n",
              "      <td>2020-03-11</td>\n",
              "      <td>2020-03-26</td>\n",
              "      <td>2020-03-11</td>\n",
              "      <td>NAA8</td>\n",
              "      <td>3525.59</td>\n",
              "    </tr>\n",
              "    <tr>\n",
              "      <th>14</th>\n",
              "      <td>U001</td>\n",
              "      <td>0200739534</td>\n",
              "      <td>OK systems</td>\n",
              "      <td>NaT</td>\n",
              "      <td>2020.0</td>\n",
              "      <td>1.930788e+09</td>\n",
              "      <td>2020-04-15</td>\n",
              "      <td>2020-04-30</td>\n",
              "      <td>2020-04-15</td>\n",
              "      <td>NAA8</td>\n",
              "      <td>121105.65</td>\n",
              "    </tr>\n",
              "    <tr>\n",
              "      <th>15</th>\n",
              "      <td>U001</td>\n",
              "      <td>0200353024</td>\n",
              "      <td>DECA corporation</td>\n",
              "      <td>NaT</td>\n",
              "      <td>2020.0</td>\n",
              "      <td>1.930817e+09</td>\n",
              "      <td>2020-04-23</td>\n",
              "      <td>2020-04-26</td>\n",
              "      <td>2020-04-16</td>\n",
              "      <td>NAM2</td>\n",
              "      <td>3726.06</td>\n",
              "    </tr>\n",
              "  </tbody>\n",
              "</table>\n",
              "</div>\n",
              "      <button class=\"colab-df-convert\" onclick=\"convertToInteractive('df-076d9fae-f2b9-473e-9efe-197989288e1f')\"\n",
              "              title=\"Convert this dataframe to an interactive table.\"\n",
              "              style=\"display:none;\">\n",
              "        \n",
              "  <svg xmlns=\"http://www.w3.org/2000/svg\" height=\"24px\"viewBox=\"0 0 24 24\"\n",
              "       width=\"24px\">\n",
              "    <path d=\"M0 0h24v24H0V0z\" fill=\"none\"/>\n",
              "    <path d=\"M18.56 5.44l.94 2.06.94-2.06 2.06-.94-2.06-.94-.94-2.06-.94 2.06-2.06.94zm-11 1L8.5 8.5l.94-2.06 2.06-.94-2.06-.94L8.5 2.5l-.94 2.06-2.06.94zm10 10l.94 2.06.94-2.06 2.06-.94-2.06-.94-.94-2.06-.94 2.06-2.06.94z\"/><path d=\"M17.41 7.96l-1.37-1.37c-.4-.4-.92-.59-1.43-.59-.52 0-1.04.2-1.43.59L10.3 9.45l-7.72 7.72c-.78.78-.78 2.05 0 2.83L4 21.41c.39.39.9.59 1.41.59.51 0 1.02-.2 1.41-.59l7.78-7.78 2.81-2.81c.8-.78.8-2.07 0-2.86zM5.41 20L4 18.59l7.72-7.72 1.47 1.35L5.41 20z\"/>\n",
              "  </svg>\n",
              "      </button>\n",
              "      \n",
              "  <style>\n",
              "    .colab-df-container {\n",
              "      display:flex;\n",
              "      flex-wrap:wrap;\n",
              "      gap: 12px;\n",
              "    }\n",
              "\n",
              "    .colab-df-convert {\n",
              "      background-color: #E8F0FE;\n",
              "      border: none;\n",
              "      border-radius: 50%;\n",
              "      cursor: pointer;\n",
              "      display: none;\n",
              "      fill: #1967D2;\n",
              "      height: 32px;\n",
              "      padding: 0 0 0 0;\n",
              "      width: 32px;\n",
              "    }\n",
              "\n",
              "    .colab-df-convert:hover {\n",
              "      background-color: #E2EBFA;\n",
              "      box-shadow: 0px 1px 2px rgba(60, 64, 67, 0.3), 0px 1px 3px 1px rgba(60, 64, 67, 0.15);\n",
              "      fill: #174EA6;\n",
              "    }\n",
              "\n",
              "    [theme=dark] .colab-df-convert {\n",
              "      background-color: #3B4455;\n",
              "      fill: #D2E3FC;\n",
              "    }\n",
              "\n",
              "    [theme=dark] .colab-df-convert:hover {\n",
              "      background-color: #434B5C;\n",
              "      box-shadow: 0px 1px 3px 1px rgba(0, 0, 0, 0.15);\n",
              "      filter: drop-shadow(0px 1px 2px rgba(0, 0, 0, 0.3));\n",
              "      fill: #FFFFFF;\n",
              "    }\n",
              "  </style>\n",
              "\n",
              "      <script>\n",
              "        const buttonEl =\n",
              "          document.querySelector('#df-076d9fae-f2b9-473e-9efe-197989288e1f button.colab-df-convert');\n",
              "        buttonEl.style.display =\n",
              "          google.colab.kernel.accessAllowed ? 'block' : 'none';\n",
              "\n",
              "        async function convertToInteractive(key) {\n",
              "          const element = document.querySelector('#df-076d9fae-f2b9-473e-9efe-197989288e1f');\n",
              "          const dataTable =\n",
              "            await google.colab.kernel.invokeFunction('convertToInteractive',\n",
              "                                                     [key], {});\n",
              "          if (!dataTable) return;\n",
              "\n",
              "          const docLinkHtml = 'Like what you see? Visit the ' +\n",
              "            '<a target=\"_blank\" href=https://colab.research.google.com/notebooks/data_table.ipynb>data table notebook</a>'\n",
              "            + ' to learn more about interactive tables.';\n",
              "          element.innerHTML = '';\n",
              "          dataTable['output_type'] = 'display_data';\n",
              "          await google.colab.output.renderOutput(dataTable, element);\n",
              "          const docLink = document.createElement('div');\n",
              "          docLink.innerHTML = docLinkHtml;\n",
              "          element.appendChild(docLink);\n",
              "        }\n",
              "      </script>\n",
              "    </div>\n",
              "  </div>\n",
              "  "
            ]
          },
          "metadata": {},
          "execution_count": 189
        }
      ],
      "source": [
        "nulldata.head()"
      ]
    },
    {
      "cell_type": "markdown",
      "id": "24aa6746",
      "metadata": {
        "id": "24aa6746"
      },
      "source": [
        "## Considering the **maindata**"
      ]
    },
    {
      "cell_type": "markdown",
      "id": "f92c4aa7",
      "metadata": {
        "id": "f92c4aa7"
      },
      "source": [
        "#### Generate a new column \"Delay\" from the existing columns\n",
        "\n",
        "- Note - You are expected to create a new column 'Delay' from two existing columns, \"clear_date\" and \"due_in_date\" \n",
        "- Formula - Delay = clear_date - due_in_date"
      ]
    },
    {
      "cell_type": "code",
      "execution_count": 190,
      "id": "8eeceb9c",
      "metadata": {
        "id": "8eeceb9c",
        "colab": {
          "base_uri": "https://localhost:8080/",
          "height": 661
        },
        "outputId": "063ae708-d1f5-458b-8887-524bbbc9a13b"
      },
      "outputs": [
        {
          "output_type": "execute_result",
          "data": {
            "text/plain": [
              "      business_code cust_number       name_customer clear_date  buisness_year  \\\n",
              "0              U001  0200769623        WAL-MAR corp 2020-02-11         2020.0   \n",
              "1              U001  0200980828              BEN E  2019-08-08         2019.0   \n",
              "2              U001  0200792734          MDV/ trust 2019-12-30         2019.0   \n",
              "4              U001  0200769623  WAL-MAR foundation 2019-11-25         2019.0   \n",
              "5              CA02  0140106181    THE  corporation 2019-12-04         2019.0   \n",
              "...             ...         ...                 ...        ...            ...   \n",
              "49994          U001  0200762301        C&S WH trust 2019-07-25         2019.0   \n",
              "49996          U001  0200769623          WAL-MAR co 2019-09-03         2019.0   \n",
              "49997          U001  0200772595    SAFEW associates 2020-03-05         2020.0   \n",
              "49998          U001  0200726979           BJ'S  llc 2019-12-12         2019.0   \n",
              "49999          U001  0200020431            DEC corp 2019-01-15         2019.0   \n",
              "\n",
              "             doc_id posting_date due_in_date baseline_create_date  \\\n",
              "0      1.930438e+09   2020-01-26  2020-02-10           2020-01-26   \n",
              "1      1.929646e+09   2019-07-22  2019-08-11           2019-07-22   \n",
              "2      1.929874e+09   2019-09-14  2019-09-29           2019-09-14   \n",
              "4      1.930148e+09   2019-11-13  2019-11-28           2019-11-13   \n",
              "5      2.960581e+09   2019-09-20  2019-10-04           2019-09-24   \n",
              "...             ...          ...         ...                  ...   \n",
              "49994  1.929601e+09   2019-07-10  2019-07-25           2019-07-10   \n",
              "49996  1.929744e+09   2019-08-15  2019-08-30           2019-08-15   \n",
              "49997  1.930537e+09   2020-02-19  2020-03-05           2020-02-19   \n",
              "49998  1.930199e+09   2019-11-27  2019-12-12           2019-11-27   \n",
              "49999  1.928576e+09   2019-01-05  2019-01-24           2019-01-01   \n",
              "\n",
              "      cust_payment_terms  converted_usd   delay  \n",
              "0                   NAH4      54273.280  1 days  \n",
              "1                   NAD1      79656.600 -3 days  \n",
              "2                   NAA8       2253.860 92 days  \n",
              "4                   NAH4      33133.290 -3 days  \n",
              "5                   CA10      15558.088 61 days  \n",
              "...                  ...            ...     ...  \n",
              "49994               NAC6      84780.400  0 days  \n",
              "49996               NAH4       6766.540  4 days  \n",
              "49997               NAA8       6120.860  0 days  \n",
              "49998               NAA8         63.480  0 days  \n",
              "49999               NAM4       1790.300 -9 days  \n",
              "\n",
              "[39158 rows x 12 columns]"
            ],
            "text/html": [
              "\n",
              "  <div id=\"df-5d1e0277-7769-4cdf-bcd8-afa621cf7377\">\n",
              "    <div class=\"colab-df-container\">\n",
              "      <div>\n",
              "<style scoped>\n",
              "    .dataframe tbody tr th:only-of-type {\n",
              "        vertical-align: middle;\n",
              "    }\n",
              "\n",
              "    .dataframe tbody tr th {\n",
              "        vertical-align: top;\n",
              "    }\n",
              "\n",
              "    .dataframe thead th {\n",
              "        text-align: right;\n",
              "    }\n",
              "</style>\n",
              "<table border=\"1\" class=\"dataframe\">\n",
              "  <thead>\n",
              "    <tr style=\"text-align: right;\">\n",
              "      <th></th>\n",
              "      <th>business_code</th>\n",
              "      <th>cust_number</th>\n",
              "      <th>name_customer</th>\n",
              "      <th>clear_date</th>\n",
              "      <th>buisness_year</th>\n",
              "      <th>doc_id</th>\n",
              "      <th>posting_date</th>\n",
              "      <th>due_in_date</th>\n",
              "      <th>baseline_create_date</th>\n",
              "      <th>cust_payment_terms</th>\n",
              "      <th>converted_usd</th>\n",
              "      <th>delay</th>\n",
              "    </tr>\n",
              "  </thead>\n",
              "  <tbody>\n",
              "    <tr>\n",
              "      <th>0</th>\n",
              "      <td>U001</td>\n",
              "      <td>0200769623</td>\n",
              "      <td>WAL-MAR corp</td>\n",
              "      <td>2020-02-11</td>\n",
              "      <td>2020.0</td>\n",
              "      <td>1.930438e+09</td>\n",
              "      <td>2020-01-26</td>\n",
              "      <td>2020-02-10</td>\n",
              "      <td>2020-01-26</td>\n",
              "      <td>NAH4</td>\n",
              "      <td>54273.280</td>\n",
              "      <td>1 days</td>\n",
              "    </tr>\n",
              "    <tr>\n",
              "      <th>1</th>\n",
              "      <td>U001</td>\n",
              "      <td>0200980828</td>\n",
              "      <td>BEN E</td>\n",
              "      <td>2019-08-08</td>\n",
              "      <td>2019.0</td>\n",
              "      <td>1.929646e+09</td>\n",
              "      <td>2019-07-22</td>\n",
              "      <td>2019-08-11</td>\n",
              "      <td>2019-07-22</td>\n",
              "      <td>NAD1</td>\n",
              "      <td>79656.600</td>\n",
              "      <td>-3 days</td>\n",
              "    </tr>\n",
              "    <tr>\n",
              "      <th>2</th>\n",
              "      <td>U001</td>\n",
              "      <td>0200792734</td>\n",
              "      <td>MDV/ trust</td>\n",
              "      <td>2019-12-30</td>\n",
              "      <td>2019.0</td>\n",
              "      <td>1.929874e+09</td>\n",
              "      <td>2019-09-14</td>\n",
              "      <td>2019-09-29</td>\n",
              "      <td>2019-09-14</td>\n",
              "      <td>NAA8</td>\n",
              "      <td>2253.860</td>\n",
              "      <td>92 days</td>\n",
              "    </tr>\n",
              "    <tr>\n",
              "      <th>4</th>\n",
              "      <td>U001</td>\n",
              "      <td>0200769623</td>\n",
              "      <td>WAL-MAR foundation</td>\n",
              "      <td>2019-11-25</td>\n",
              "      <td>2019.0</td>\n",
              "      <td>1.930148e+09</td>\n",
              "      <td>2019-11-13</td>\n",
              "      <td>2019-11-28</td>\n",
              "      <td>2019-11-13</td>\n",
              "      <td>NAH4</td>\n",
              "      <td>33133.290</td>\n",
              "      <td>-3 days</td>\n",
              "    </tr>\n",
              "    <tr>\n",
              "      <th>5</th>\n",
              "      <td>CA02</td>\n",
              "      <td>0140106181</td>\n",
              "      <td>THE  corporation</td>\n",
              "      <td>2019-12-04</td>\n",
              "      <td>2019.0</td>\n",
              "      <td>2.960581e+09</td>\n",
              "      <td>2019-09-20</td>\n",
              "      <td>2019-10-04</td>\n",
              "      <td>2019-09-24</td>\n",
              "      <td>CA10</td>\n",
              "      <td>15558.088</td>\n",
              "      <td>61 days</td>\n",
              "    </tr>\n",
              "    <tr>\n",
              "      <th>...</th>\n",
              "      <td>...</td>\n",
              "      <td>...</td>\n",
              "      <td>...</td>\n",
              "      <td>...</td>\n",
              "      <td>...</td>\n",
              "      <td>...</td>\n",
              "      <td>...</td>\n",
              "      <td>...</td>\n",
              "      <td>...</td>\n",
              "      <td>...</td>\n",
              "      <td>...</td>\n",
              "      <td>...</td>\n",
              "    </tr>\n",
              "    <tr>\n",
              "      <th>49994</th>\n",
              "      <td>U001</td>\n",
              "      <td>0200762301</td>\n",
              "      <td>C&amp;S WH trust</td>\n",
              "      <td>2019-07-25</td>\n",
              "      <td>2019.0</td>\n",
              "      <td>1.929601e+09</td>\n",
              "      <td>2019-07-10</td>\n",
              "      <td>2019-07-25</td>\n",
              "      <td>2019-07-10</td>\n",
              "      <td>NAC6</td>\n",
              "      <td>84780.400</td>\n",
              "      <td>0 days</td>\n",
              "    </tr>\n",
              "    <tr>\n",
              "      <th>49996</th>\n",
              "      <td>U001</td>\n",
              "      <td>0200769623</td>\n",
              "      <td>WAL-MAR co</td>\n",
              "      <td>2019-09-03</td>\n",
              "      <td>2019.0</td>\n",
              "      <td>1.929744e+09</td>\n",
              "      <td>2019-08-15</td>\n",
              "      <td>2019-08-30</td>\n",
              "      <td>2019-08-15</td>\n",
              "      <td>NAH4</td>\n",
              "      <td>6766.540</td>\n",
              "      <td>4 days</td>\n",
              "    </tr>\n",
              "    <tr>\n",
              "      <th>49997</th>\n",
              "      <td>U001</td>\n",
              "      <td>0200772595</td>\n",
              "      <td>SAFEW associates</td>\n",
              "      <td>2020-03-05</td>\n",
              "      <td>2020.0</td>\n",
              "      <td>1.930537e+09</td>\n",
              "      <td>2020-02-19</td>\n",
              "      <td>2020-03-05</td>\n",
              "      <td>2020-02-19</td>\n",
              "      <td>NAA8</td>\n",
              "      <td>6120.860</td>\n",
              "      <td>0 days</td>\n",
              "    </tr>\n",
              "    <tr>\n",
              "      <th>49998</th>\n",
              "      <td>U001</td>\n",
              "      <td>0200726979</td>\n",
              "      <td>BJ'S  llc</td>\n",
              "      <td>2019-12-12</td>\n",
              "      <td>2019.0</td>\n",
              "      <td>1.930199e+09</td>\n",
              "      <td>2019-11-27</td>\n",
              "      <td>2019-12-12</td>\n",
              "      <td>2019-11-27</td>\n",
              "      <td>NAA8</td>\n",
              "      <td>63.480</td>\n",
              "      <td>0 days</td>\n",
              "    </tr>\n",
              "    <tr>\n",
              "      <th>49999</th>\n",
              "      <td>U001</td>\n",
              "      <td>0200020431</td>\n",
              "      <td>DEC corp</td>\n",
              "      <td>2019-01-15</td>\n",
              "      <td>2019.0</td>\n",
              "      <td>1.928576e+09</td>\n",
              "      <td>2019-01-05</td>\n",
              "      <td>2019-01-24</td>\n",
              "      <td>2019-01-01</td>\n",
              "      <td>NAM4</td>\n",
              "      <td>1790.300</td>\n",
              "      <td>-9 days</td>\n",
              "    </tr>\n",
              "  </tbody>\n",
              "</table>\n",
              "<p>39158 rows × 12 columns</p>\n",
              "</div>\n",
              "      <button class=\"colab-df-convert\" onclick=\"convertToInteractive('df-5d1e0277-7769-4cdf-bcd8-afa621cf7377')\"\n",
              "              title=\"Convert this dataframe to an interactive table.\"\n",
              "              style=\"display:none;\">\n",
              "        \n",
              "  <svg xmlns=\"http://www.w3.org/2000/svg\" height=\"24px\"viewBox=\"0 0 24 24\"\n",
              "       width=\"24px\">\n",
              "    <path d=\"M0 0h24v24H0V0z\" fill=\"none\"/>\n",
              "    <path d=\"M18.56 5.44l.94 2.06.94-2.06 2.06-.94-2.06-.94-.94-2.06-.94 2.06-2.06.94zm-11 1L8.5 8.5l.94-2.06 2.06-.94-2.06-.94L8.5 2.5l-.94 2.06-2.06.94zm10 10l.94 2.06.94-2.06 2.06-.94-2.06-.94-.94-2.06-.94 2.06-2.06.94z\"/><path d=\"M17.41 7.96l-1.37-1.37c-.4-.4-.92-.59-1.43-.59-.52 0-1.04.2-1.43.59L10.3 9.45l-7.72 7.72c-.78.78-.78 2.05 0 2.83L4 21.41c.39.39.9.59 1.41.59.51 0 1.02-.2 1.41-.59l7.78-7.78 2.81-2.81c.8-.78.8-2.07 0-2.86zM5.41 20L4 18.59l7.72-7.72 1.47 1.35L5.41 20z\"/>\n",
              "  </svg>\n",
              "      </button>\n",
              "      \n",
              "  <style>\n",
              "    .colab-df-container {\n",
              "      display:flex;\n",
              "      flex-wrap:wrap;\n",
              "      gap: 12px;\n",
              "    }\n",
              "\n",
              "    .colab-df-convert {\n",
              "      background-color: #E8F0FE;\n",
              "      border: none;\n",
              "      border-radius: 50%;\n",
              "      cursor: pointer;\n",
              "      display: none;\n",
              "      fill: #1967D2;\n",
              "      height: 32px;\n",
              "      padding: 0 0 0 0;\n",
              "      width: 32px;\n",
              "    }\n",
              "\n",
              "    .colab-df-convert:hover {\n",
              "      background-color: #E2EBFA;\n",
              "      box-shadow: 0px 1px 2px rgba(60, 64, 67, 0.3), 0px 1px 3px 1px rgba(60, 64, 67, 0.15);\n",
              "      fill: #174EA6;\n",
              "    }\n",
              "\n",
              "    [theme=dark] .colab-df-convert {\n",
              "      background-color: #3B4455;\n",
              "      fill: #D2E3FC;\n",
              "    }\n",
              "\n",
              "    [theme=dark] .colab-df-convert:hover {\n",
              "      background-color: #434B5C;\n",
              "      box-shadow: 0px 1px 3px 1px rgba(0, 0, 0, 0.15);\n",
              "      filter: drop-shadow(0px 1px 2px rgba(0, 0, 0, 0.3));\n",
              "      fill: #FFFFFF;\n",
              "    }\n",
              "  </style>\n",
              "\n",
              "      <script>\n",
              "        const buttonEl =\n",
              "          document.querySelector('#df-5d1e0277-7769-4cdf-bcd8-afa621cf7377 button.colab-df-convert');\n",
              "        buttonEl.style.display =\n",
              "          google.colab.kernel.accessAllowed ? 'block' : 'none';\n",
              "\n",
              "        async function convertToInteractive(key) {\n",
              "          const element = document.querySelector('#df-5d1e0277-7769-4cdf-bcd8-afa621cf7377');\n",
              "          const dataTable =\n",
              "            await google.colab.kernel.invokeFunction('convertToInteractive',\n",
              "                                                     [key], {});\n",
              "          if (!dataTable) return;\n",
              "\n",
              "          const docLinkHtml = 'Like what you see? Visit the ' +\n",
              "            '<a target=\"_blank\" href=https://colab.research.google.com/notebooks/data_table.ipynb>data table notebook</a>'\n",
              "            + ' to learn more about interactive tables.';\n",
              "          element.innerHTML = '';\n",
              "          dataTable['output_type'] = 'display_data';\n",
              "          await google.colab.output.renderOutput(dataTable, element);\n",
              "          const docLink = document.createElement('div');\n",
              "          docLink.innerHTML = docLinkHtml;\n",
              "          element.appendChild(docLink);\n",
              "        }\n",
              "      </script>\n",
              "    </div>\n",
              "  </div>\n",
              "  "
            ]
          },
          "metadata": {},
          "execution_count": 190
        }
      ],
      "source": [
        "delay=maindata.clear_date-maindata.due_in_date\n",
        "maindata['delay']=delay\n",
        "maindata"
      ]
    },
    {
      "cell_type": "markdown",
      "id": "f482144e",
      "metadata": {
        "id": "f482144e"
      },
      "source": [
        "### Generate a new column \"avgdelay\" from the existing columns\n",
        "\n",
        "- Note - You are expected to make a new column \"avgdelay\" by grouping \"name_customer\" column with reapect to mean of the \"Delay\" column.\n",
        "- This new column \"avg_delay\" is meant to store \"customer_name\" wise delay\n",
        "- groupby('name_customer')['Delay'].mean(numeric_only=False)\n",
        "- Display the new \"avg_delay\" column"
      ]
    },
    {
      "cell_type": "code",
      "execution_count": 191,
      "id": "d18d2f8d",
      "metadata": {
        "id": "d18d2f8d",
        "colab": {
          "base_uri": "https://localhost:8080/"
        },
        "outputId": "ee3531b2-c27e-4b00-fcae-793be9d3f6d3"
      },
      "outputs": [
        {
          "output_type": "execute_result",
          "data": {
            "text/plain": [
              "name_customer\n",
              "11078 us                 17 days 00:00:00\n",
              "17135 associates       -10 days +00:00:00\n",
              "17135 llc               -3 days +00:00:00\n",
              "236008 associates       -3 days +00:00:00\n",
              "99 CE                     2 days 00:00:00\n",
              "                              ...        \n",
              "YEN BROS corp             0 days 00:00:00\n",
              "YEN BROS corporation    -1 days +12:00:00\n",
              "YEN BROS llc            -2 days +00:00:00\n",
              "ZARCO co                -1 days +00:00:00\n",
              "ZIYAD  us                 6 days 00:00:00\n",
              "Name: delay, Length: 3889, dtype: timedelta64[ns]"
            ]
          },
          "metadata": {},
          "execution_count": 191
        }
      ],
      "source": [
        "avg_delay=maindata.groupby('name_customer')['delay'].mean(numeric_only=False)\n",
        "avg_delay"
      ]
    },
    {
      "cell_type": "markdown",
      "id": "64b995e8",
      "metadata": {
        "id": "64b995e8"
      },
      "source": [
        "You need to add the \"avg_delay\" column with the maindata, mapped with \"name_customer\" column\n",
        "\n",
        " - Note - You need to use map function to map the avgdelay with respect to \"name_customer\" column"
      ]
    },
    {
      "cell_type": "code",
      "execution_count": 192,
      "id": "e1e1f3d9",
      "metadata": {
        "id": "e1e1f3d9",
        "colab": {
          "base_uri": "https://localhost:8080/",
          "height": 661
        },
        "outputId": "f7e8c98b-9f90-4709-cbf2-abfff9401a3c"
      },
      "outputs": [
        {
          "output_type": "execute_result",
          "data": {
            "text/plain": [
              "      business_code cust_number       name_customer clear_date  buisness_year  \\\n",
              "0              U001  0200769623        WAL-MAR corp 2020-02-11         2020.0   \n",
              "1              U001  0200980828              BEN E  2019-08-08         2019.0   \n",
              "2              U001  0200792734          MDV/ trust 2019-12-30         2019.0   \n",
              "4              U001  0200769623  WAL-MAR foundation 2019-11-25         2019.0   \n",
              "5              CA02  0140106181    THE  corporation 2019-12-04         2019.0   \n",
              "...             ...         ...                 ...        ...            ...   \n",
              "49994          U001  0200762301        C&S WH trust 2019-07-25         2019.0   \n",
              "49996          U001  0200769623          WAL-MAR co 2019-09-03         2019.0   \n",
              "49997          U001  0200772595    SAFEW associates 2020-03-05         2020.0   \n",
              "49998          U001  0200726979           BJ'S  llc 2019-12-12         2019.0   \n",
              "49999          U001  0200020431            DEC corp 2019-01-15         2019.0   \n",
              "\n",
              "             doc_id posting_date due_in_date baseline_create_date  \\\n",
              "0      1.930438e+09   2020-01-26  2020-02-10           2020-01-26   \n",
              "1      1.929646e+09   2019-07-22  2019-08-11           2019-07-22   \n",
              "2      1.929874e+09   2019-09-14  2019-09-29           2019-09-14   \n",
              "4      1.930148e+09   2019-11-13  2019-11-28           2019-11-13   \n",
              "5      2.960581e+09   2019-09-20  2019-10-04           2019-09-24   \n",
              "...             ...          ...         ...                  ...   \n",
              "49994  1.929601e+09   2019-07-10  2019-07-25           2019-07-10   \n",
              "49996  1.929744e+09   2019-08-15  2019-08-30           2019-08-15   \n",
              "49997  1.930537e+09   2020-02-19  2020-03-05           2020-02-19   \n",
              "49998  1.930199e+09   2019-11-27  2019-12-12           2019-11-27   \n",
              "49999  1.928576e+09   2019-01-05  2019-01-24           2019-01-01   \n",
              "\n",
              "      cust_payment_terms  converted_usd   delay                   avg_delay  \n",
              "0                   NAH4      54273.280  1 days -3 days +07:08:49.779837776  \n",
              "1                   NAD1      79656.600 -3 days            19 days 00:00:00  \n",
              "2                   NAA8       2253.860 92 days   8 days 02:10:54.545454545  \n",
              "4                   NAH4      33133.290 -3 days -3 days +19:33:27.692307693  \n",
              "5                   CA10      15558.088 61 days            71 days 10:40:00  \n",
              "...                  ...            ...     ...                         ...  \n",
              "49994               NAC6      84780.400  0 days           -1 days +14:45:00  \n",
              "49996               NAH4       6766.540  4 days -3 days +12:40:08.540925267  \n",
              "49997               NAA8       6120.860  0 days   1 days 01:08:34.285714285  \n",
              "49998               NAA8         63.480  0 days   1 days 13:36:42.985074626  \n",
              "49999               NAM4       1790.300 -9 days -4 days +02:20:52.173913044  \n",
              "\n",
              "[39158 rows x 13 columns]"
            ],
            "text/html": [
              "\n",
              "  <div id=\"df-601c4437-238f-475b-9e5d-18ef0be58590\">\n",
              "    <div class=\"colab-df-container\">\n",
              "      <div>\n",
              "<style scoped>\n",
              "    .dataframe tbody tr th:only-of-type {\n",
              "        vertical-align: middle;\n",
              "    }\n",
              "\n",
              "    .dataframe tbody tr th {\n",
              "        vertical-align: top;\n",
              "    }\n",
              "\n",
              "    .dataframe thead th {\n",
              "        text-align: right;\n",
              "    }\n",
              "</style>\n",
              "<table border=\"1\" class=\"dataframe\">\n",
              "  <thead>\n",
              "    <tr style=\"text-align: right;\">\n",
              "      <th></th>\n",
              "      <th>business_code</th>\n",
              "      <th>cust_number</th>\n",
              "      <th>name_customer</th>\n",
              "      <th>clear_date</th>\n",
              "      <th>buisness_year</th>\n",
              "      <th>doc_id</th>\n",
              "      <th>posting_date</th>\n",
              "      <th>due_in_date</th>\n",
              "      <th>baseline_create_date</th>\n",
              "      <th>cust_payment_terms</th>\n",
              "      <th>converted_usd</th>\n",
              "      <th>delay</th>\n",
              "      <th>avg_delay</th>\n",
              "    </tr>\n",
              "  </thead>\n",
              "  <tbody>\n",
              "    <tr>\n",
              "      <th>0</th>\n",
              "      <td>U001</td>\n",
              "      <td>0200769623</td>\n",
              "      <td>WAL-MAR corp</td>\n",
              "      <td>2020-02-11</td>\n",
              "      <td>2020.0</td>\n",
              "      <td>1.930438e+09</td>\n",
              "      <td>2020-01-26</td>\n",
              "      <td>2020-02-10</td>\n",
              "      <td>2020-01-26</td>\n",
              "      <td>NAH4</td>\n",
              "      <td>54273.280</td>\n",
              "      <td>1 days</td>\n",
              "      <td>-3 days +07:08:49.779837776</td>\n",
              "    </tr>\n",
              "    <tr>\n",
              "      <th>1</th>\n",
              "      <td>U001</td>\n",
              "      <td>0200980828</td>\n",
              "      <td>BEN E</td>\n",
              "      <td>2019-08-08</td>\n",
              "      <td>2019.0</td>\n",
              "      <td>1.929646e+09</td>\n",
              "      <td>2019-07-22</td>\n",
              "      <td>2019-08-11</td>\n",
              "      <td>2019-07-22</td>\n",
              "      <td>NAD1</td>\n",
              "      <td>79656.600</td>\n",
              "      <td>-3 days</td>\n",
              "      <td>19 days 00:00:00</td>\n",
              "    </tr>\n",
              "    <tr>\n",
              "      <th>2</th>\n",
              "      <td>U001</td>\n",
              "      <td>0200792734</td>\n",
              "      <td>MDV/ trust</td>\n",
              "      <td>2019-12-30</td>\n",
              "      <td>2019.0</td>\n",
              "      <td>1.929874e+09</td>\n",
              "      <td>2019-09-14</td>\n",
              "      <td>2019-09-29</td>\n",
              "      <td>2019-09-14</td>\n",
              "      <td>NAA8</td>\n",
              "      <td>2253.860</td>\n",
              "      <td>92 days</td>\n",
              "      <td>8 days 02:10:54.545454545</td>\n",
              "    </tr>\n",
              "    <tr>\n",
              "      <th>4</th>\n",
              "      <td>U001</td>\n",
              "      <td>0200769623</td>\n",
              "      <td>WAL-MAR foundation</td>\n",
              "      <td>2019-11-25</td>\n",
              "      <td>2019.0</td>\n",
              "      <td>1.930148e+09</td>\n",
              "      <td>2019-11-13</td>\n",
              "      <td>2019-11-28</td>\n",
              "      <td>2019-11-13</td>\n",
              "      <td>NAH4</td>\n",
              "      <td>33133.290</td>\n",
              "      <td>-3 days</td>\n",
              "      <td>-3 days +19:33:27.692307693</td>\n",
              "    </tr>\n",
              "    <tr>\n",
              "      <th>5</th>\n",
              "      <td>CA02</td>\n",
              "      <td>0140106181</td>\n",
              "      <td>THE  corporation</td>\n",
              "      <td>2019-12-04</td>\n",
              "      <td>2019.0</td>\n",
              "      <td>2.960581e+09</td>\n",
              "      <td>2019-09-20</td>\n",
              "      <td>2019-10-04</td>\n",
              "      <td>2019-09-24</td>\n",
              "      <td>CA10</td>\n",
              "      <td>15558.088</td>\n",
              "      <td>61 days</td>\n",
              "      <td>71 days 10:40:00</td>\n",
              "    </tr>\n",
              "    <tr>\n",
              "      <th>...</th>\n",
              "      <td>...</td>\n",
              "      <td>...</td>\n",
              "      <td>...</td>\n",
              "      <td>...</td>\n",
              "      <td>...</td>\n",
              "      <td>...</td>\n",
              "      <td>...</td>\n",
              "      <td>...</td>\n",
              "      <td>...</td>\n",
              "      <td>...</td>\n",
              "      <td>...</td>\n",
              "      <td>...</td>\n",
              "      <td>...</td>\n",
              "    </tr>\n",
              "    <tr>\n",
              "      <th>49994</th>\n",
              "      <td>U001</td>\n",
              "      <td>0200762301</td>\n",
              "      <td>C&amp;S WH trust</td>\n",
              "      <td>2019-07-25</td>\n",
              "      <td>2019.0</td>\n",
              "      <td>1.929601e+09</td>\n",
              "      <td>2019-07-10</td>\n",
              "      <td>2019-07-25</td>\n",
              "      <td>2019-07-10</td>\n",
              "      <td>NAC6</td>\n",
              "      <td>84780.400</td>\n",
              "      <td>0 days</td>\n",
              "      <td>-1 days +14:45:00</td>\n",
              "    </tr>\n",
              "    <tr>\n",
              "      <th>49996</th>\n",
              "      <td>U001</td>\n",
              "      <td>0200769623</td>\n",
              "      <td>WAL-MAR co</td>\n",
              "      <td>2019-09-03</td>\n",
              "      <td>2019.0</td>\n",
              "      <td>1.929744e+09</td>\n",
              "      <td>2019-08-15</td>\n",
              "      <td>2019-08-30</td>\n",
              "      <td>2019-08-15</td>\n",
              "      <td>NAH4</td>\n",
              "      <td>6766.540</td>\n",
              "      <td>4 days</td>\n",
              "      <td>-3 days +12:40:08.540925267</td>\n",
              "    </tr>\n",
              "    <tr>\n",
              "      <th>49997</th>\n",
              "      <td>U001</td>\n",
              "      <td>0200772595</td>\n",
              "      <td>SAFEW associates</td>\n",
              "      <td>2020-03-05</td>\n",
              "      <td>2020.0</td>\n",
              "      <td>1.930537e+09</td>\n",
              "      <td>2020-02-19</td>\n",
              "      <td>2020-03-05</td>\n",
              "      <td>2020-02-19</td>\n",
              "      <td>NAA8</td>\n",
              "      <td>6120.860</td>\n",
              "      <td>0 days</td>\n",
              "      <td>1 days 01:08:34.285714285</td>\n",
              "    </tr>\n",
              "    <tr>\n",
              "      <th>49998</th>\n",
              "      <td>U001</td>\n",
              "      <td>0200726979</td>\n",
              "      <td>BJ'S  llc</td>\n",
              "      <td>2019-12-12</td>\n",
              "      <td>2019.0</td>\n",
              "      <td>1.930199e+09</td>\n",
              "      <td>2019-11-27</td>\n",
              "      <td>2019-12-12</td>\n",
              "      <td>2019-11-27</td>\n",
              "      <td>NAA8</td>\n",
              "      <td>63.480</td>\n",
              "      <td>0 days</td>\n",
              "      <td>1 days 13:36:42.985074626</td>\n",
              "    </tr>\n",
              "    <tr>\n",
              "      <th>49999</th>\n",
              "      <td>U001</td>\n",
              "      <td>0200020431</td>\n",
              "      <td>DEC corp</td>\n",
              "      <td>2019-01-15</td>\n",
              "      <td>2019.0</td>\n",
              "      <td>1.928576e+09</td>\n",
              "      <td>2019-01-05</td>\n",
              "      <td>2019-01-24</td>\n",
              "      <td>2019-01-01</td>\n",
              "      <td>NAM4</td>\n",
              "      <td>1790.300</td>\n",
              "      <td>-9 days</td>\n",
              "      <td>-4 days +02:20:52.173913044</td>\n",
              "    </tr>\n",
              "  </tbody>\n",
              "</table>\n",
              "<p>39158 rows × 13 columns</p>\n",
              "</div>\n",
              "      <button class=\"colab-df-convert\" onclick=\"convertToInteractive('df-601c4437-238f-475b-9e5d-18ef0be58590')\"\n",
              "              title=\"Convert this dataframe to an interactive table.\"\n",
              "              style=\"display:none;\">\n",
              "        \n",
              "  <svg xmlns=\"http://www.w3.org/2000/svg\" height=\"24px\"viewBox=\"0 0 24 24\"\n",
              "       width=\"24px\">\n",
              "    <path d=\"M0 0h24v24H0V0z\" fill=\"none\"/>\n",
              "    <path d=\"M18.56 5.44l.94 2.06.94-2.06 2.06-.94-2.06-.94-.94-2.06-.94 2.06-2.06.94zm-11 1L8.5 8.5l.94-2.06 2.06-.94-2.06-.94L8.5 2.5l-.94 2.06-2.06.94zm10 10l.94 2.06.94-2.06 2.06-.94-2.06-.94-.94-2.06-.94 2.06-2.06.94z\"/><path d=\"M17.41 7.96l-1.37-1.37c-.4-.4-.92-.59-1.43-.59-.52 0-1.04.2-1.43.59L10.3 9.45l-7.72 7.72c-.78.78-.78 2.05 0 2.83L4 21.41c.39.39.9.59 1.41.59.51 0 1.02-.2 1.41-.59l7.78-7.78 2.81-2.81c.8-.78.8-2.07 0-2.86zM5.41 20L4 18.59l7.72-7.72 1.47 1.35L5.41 20z\"/>\n",
              "  </svg>\n",
              "      </button>\n",
              "      \n",
              "  <style>\n",
              "    .colab-df-container {\n",
              "      display:flex;\n",
              "      flex-wrap:wrap;\n",
              "      gap: 12px;\n",
              "    }\n",
              "\n",
              "    .colab-df-convert {\n",
              "      background-color: #E8F0FE;\n",
              "      border: none;\n",
              "      border-radius: 50%;\n",
              "      cursor: pointer;\n",
              "      display: none;\n",
              "      fill: #1967D2;\n",
              "      height: 32px;\n",
              "      padding: 0 0 0 0;\n",
              "      width: 32px;\n",
              "    }\n",
              "\n",
              "    .colab-df-convert:hover {\n",
              "      background-color: #E2EBFA;\n",
              "      box-shadow: 0px 1px 2px rgba(60, 64, 67, 0.3), 0px 1px 3px 1px rgba(60, 64, 67, 0.15);\n",
              "      fill: #174EA6;\n",
              "    }\n",
              "\n",
              "    [theme=dark] .colab-df-convert {\n",
              "      background-color: #3B4455;\n",
              "      fill: #D2E3FC;\n",
              "    }\n",
              "\n",
              "    [theme=dark] .colab-df-convert:hover {\n",
              "      background-color: #434B5C;\n",
              "      box-shadow: 0px 1px 3px 1px rgba(0, 0, 0, 0.15);\n",
              "      filter: drop-shadow(0px 1px 2px rgba(0, 0, 0, 0.3));\n",
              "      fill: #FFFFFF;\n",
              "    }\n",
              "  </style>\n",
              "\n",
              "      <script>\n",
              "        const buttonEl =\n",
              "          document.querySelector('#df-601c4437-238f-475b-9e5d-18ef0be58590 button.colab-df-convert');\n",
              "        buttonEl.style.display =\n",
              "          google.colab.kernel.accessAllowed ? 'block' : 'none';\n",
              "\n",
              "        async function convertToInteractive(key) {\n",
              "          const element = document.querySelector('#df-601c4437-238f-475b-9e5d-18ef0be58590');\n",
              "          const dataTable =\n",
              "            await google.colab.kernel.invokeFunction('convertToInteractive',\n",
              "                                                     [key], {});\n",
              "          if (!dataTable) return;\n",
              "\n",
              "          const docLinkHtml = 'Like what you see? Visit the ' +\n",
              "            '<a target=\"_blank\" href=https://colab.research.google.com/notebooks/data_table.ipynb>data table notebook</a>'\n",
              "            + ' to learn more about interactive tables.';\n",
              "          element.innerHTML = '';\n",
              "          dataTable['output_type'] = 'display_data';\n",
              "          await google.colab.output.renderOutput(dataTable, element);\n",
              "          const docLink = document.createElement('div');\n",
              "          docLink.innerHTML = docLinkHtml;\n",
              "          element.appendChild(docLink);\n",
              "        }\n",
              "      </script>\n",
              "    </div>\n",
              "  </div>\n",
              "  "
            ]
          },
          "metadata": {},
          "execution_count": 192
        }
      ],
      "source": [
        "maindata['avg_delay'] = maindata['name_customer'].map(avg_delay)\n",
        "maindata"
      ]
    },
    {
      "cell_type": "markdown",
      "id": "1d332525",
      "metadata": {
        "id": "1d332525"
      },
      "source": [
        "### Observe that the \"avg_delay\" column is in days format. You need to change the format into seconds\n",
        "\n",
        "- Days_format :  17 days 00:00:00\n",
        "- Format in seconds : 1641600.0"
      ]
    },
    {
      "cell_type": "code",
      "execution_count": 193,
      "id": "d5f1041e",
      "metadata": {
        "id": "d5f1041e"
      },
      "outputs": [],
      "source": [
        "maindata['avg_delay'] = maindata['avg_delay'].dt.total_seconds()"
      ]
    },
    {
      "cell_type": "markdown",
      "id": "OvgtHSsx_O-n",
      "metadata": {
        "id": "OvgtHSsx_O-n"
      },
      "source": [
        "### Display the maindata dataframe "
      ]
    },
    {
      "cell_type": "code",
      "execution_count": 194,
      "id": "97ca9c45",
      "metadata": {
        "id": "97ca9c45",
        "colab": {
          "base_uri": "https://localhost:8080/",
          "height": 661
        },
        "outputId": "56a8bb7e-ebb2-475f-a686-2279a1e2d0fa"
      },
      "outputs": [
        {
          "output_type": "execute_result",
          "data": {
            "text/plain": [
              "      business_code cust_number       name_customer clear_date  buisness_year  \\\n",
              "0              U001  0200769623        WAL-MAR corp 2020-02-11         2020.0   \n",
              "1              U001  0200980828              BEN E  2019-08-08         2019.0   \n",
              "2              U001  0200792734          MDV/ trust 2019-12-30         2019.0   \n",
              "4              U001  0200769623  WAL-MAR foundation 2019-11-25         2019.0   \n",
              "5              CA02  0140106181    THE  corporation 2019-12-04         2019.0   \n",
              "...             ...         ...                 ...        ...            ...   \n",
              "49994          U001  0200762301        C&S WH trust 2019-07-25         2019.0   \n",
              "49996          U001  0200769623          WAL-MAR co 2019-09-03         2019.0   \n",
              "49997          U001  0200772595    SAFEW associates 2020-03-05         2020.0   \n",
              "49998          U001  0200726979           BJ'S  llc 2019-12-12         2019.0   \n",
              "49999          U001  0200020431            DEC corp 2019-01-15         2019.0   \n",
              "\n",
              "             doc_id posting_date due_in_date baseline_create_date  \\\n",
              "0      1.930438e+09   2020-01-26  2020-02-10           2020-01-26   \n",
              "1      1.929646e+09   2019-07-22  2019-08-11           2019-07-22   \n",
              "2      1.929874e+09   2019-09-14  2019-09-29           2019-09-14   \n",
              "4      1.930148e+09   2019-11-13  2019-11-28           2019-11-13   \n",
              "5      2.960581e+09   2019-09-20  2019-10-04           2019-09-24   \n",
              "...             ...          ...         ...                  ...   \n",
              "49994  1.929601e+09   2019-07-10  2019-07-25           2019-07-10   \n",
              "49996  1.929744e+09   2019-08-15  2019-08-30           2019-08-15   \n",
              "49997  1.930537e+09   2020-02-19  2020-03-05           2020-02-19   \n",
              "49998  1.930199e+09   2019-11-27  2019-12-12           2019-11-27   \n",
              "49999  1.928576e+09   2019-01-05  2019-01-24           2019-01-01   \n",
              "\n",
              "      cust_payment_terms  converted_usd   delay     avg_delay  \n",
              "0                   NAH4      54273.280  1 days -2.334702e+05  \n",
              "1                   NAD1      79656.600 -3 days  1.641600e+06  \n",
              "2                   NAA8       2253.860 92 days  6.990545e+05  \n",
              "4                   NAH4      33133.290 -3 days -1.887923e+05  \n",
              "5                   CA10      15558.088 61 days  6.172800e+06  \n",
              "...                  ...            ...     ...           ...  \n",
              "49994               NAC6      84780.400  0 days -3.330000e+04  \n",
              "49996               NAH4       6766.540  4 days -2.135915e+05  \n",
              "49997               NAA8       6120.860  0 days  9.051429e+04  \n",
              "49998               NAA8         63.480  0 days  1.354030e+05  \n",
              "49999               NAM4       1790.300 -9 days -3.371478e+05  \n",
              "\n",
              "[39158 rows x 13 columns]"
            ],
            "text/html": [
              "\n",
              "  <div id=\"df-7b863af2-5918-4619-8cfc-7a57ee101202\">\n",
              "    <div class=\"colab-df-container\">\n",
              "      <div>\n",
              "<style scoped>\n",
              "    .dataframe tbody tr th:only-of-type {\n",
              "        vertical-align: middle;\n",
              "    }\n",
              "\n",
              "    .dataframe tbody tr th {\n",
              "        vertical-align: top;\n",
              "    }\n",
              "\n",
              "    .dataframe thead th {\n",
              "        text-align: right;\n",
              "    }\n",
              "</style>\n",
              "<table border=\"1\" class=\"dataframe\">\n",
              "  <thead>\n",
              "    <tr style=\"text-align: right;\">\n",
              "      <th></th>\n",
              "      <th>business_code</th>\n",
              "      <th>cust_number</th>\n",
              "      <th>name_customer</th>\n",
              "      <th>clear_date</th>\n",
              "      <th>buisness_year</th>\n",
              "      <th>doc_id</th>\n",
              "      <th>posting_date</th>\n",
              "      <th>due_in_date</th>\n",
              "      <th>baseline_create_date</th>\n",
              "      <th>cust_payment_terms</th>\n",
              "      <th>converted_usd</th>\n",
              "      <th>delay</th>\n",
              "      <th>avg_delay</th>\n",
              "    </tr>\n",
              "  </thead>\n",
              "  <tbody>\n",
              "    <tr>\n",
              "      <th>0</th>\n",
              "      <td>U001</td>\n",
              "      <td>0200769623</td>\n",
              "      <td>WAL-MAR corp</td>\n",
              "      <td>2020-02-11</td>\n",
              "      <td>2020.0</td>\n",
              "      <td>1.930438e+09</td>\n",
              "      <td>2020-01-26</td>\n",
              "      <td>2020-02-10</td>\n",
              "      <td>2020-01-26</td>\n",
              "      <td>NAH4</td>\n",
              "      <td>54273.280</td>\n",
              "      <td>1 days</td>\n",
              "      <td>-2.334702e+05</td>\n",
              "    </tr>\n",
              "    <tr>\n",
              "      <th>1</th>\n",
              "      <td>U001</td>\n",
              "      <td>0200980828</td>\n",
              "      <td>BEN E</td>\n",
              "      <td>2019-08-08</td>\n",
              "      <td>2019.0</td>\n",
              "      <td>1.929646e+09</td>\n",
              "      <td>2019-07-22</td>\n",
              "      <td>2019-08-11</td>\n",
              "      <td>2019-07-22</td>\n",
              "      <td>NAD1</td>\n",
              "      <td>79656.600</td>\n",
              "      <td>-3 days</td>\n",
              "      <td>1.641600e+06</td>\n",
              "    </tr>\n",
              "    <tr>\n",
              "      <th>2</th>\n",
              "      <td>U001</td>\n",
              "      <td>0200792734</td>\n",
              "      <td>MDV/ trust</td>\n",
              "      <td>2019-12-30</td>\n",
              "      <td>2019.0</td>\n",
              "      <td>1.929874e+09</td>\n",
              "      <td>2019-09-14</td>\n",
              "      <td>2019-09-29</td>\n",
              "      <td>2019-09-14</td>\n",
              "      <td>NAA8</td>\n",
              "      <td>2253.860</td>\n",
              "      <td>92 days</td>\n",
              "      <td>6.990545e+05</td>\n",
              "    </tr>\n",
              "    <tr>\n",
              "      <th>4</th>\n",
              "      <td>U001</td>\n",
              "      <td>0200769623</td>\n",
              "      <td>WAL-MAR foundation</td>\n",
              "      <td>2019-11-25</td>\n",
              "      <td>2019.0</td>\n",
              "      <td>1.930148e+09</td>\n",
              "      <td>2019-11-13</td>\n",
              "      <td>2019-11-28</td>\n",
              "      <td>2019-11-13</td>\n",
              "      <td>NAH4</td>\n",
              "      <td>33133.290</td>\n",
              "      <td>-3 days</td>\n",
              "      <td>-1.887923e+05</td>\n",
              "    </tr>\n",
              "    <tr>\n",
              "      <th>5</th>\n",
              "      <td>CA02</td>\n",
              "      <td>0140106181</td>\n",
              "      <td>THE  corporation</td>\n",
              "      <td>2019-12-04</td>\n",
              "      <td>2019.0</td>\n",
              "      <td>2.960581e+09</td>\n",
              "      <td>2019-09-20</td>\n",
              "      <td>2019-10-04</td>\n",
              "      <td>2019-09-24</td>\n",
              "      <td>CA10</td>\n",
              "      <td>15558.088</td>\n",
              "      <td>61 days</td>\n",
              "      <td>6.172800e+06</td>\n",
              "    </tr>\n",
              "    <tr>\n",
              "      <th>...</th>\n",
              "      <td>...</td>\n",
              "      <td>...</td>\n",
              "      <td>...</td>\n",
              "      <td>...</td>\n",
              "      <td>...</td>\n",
              "      <td>...</td>\n",
              "      <td>...</td>\n",
              "      <td>...</td>\n",
              "      <td>...</td>\n",
              "      <td>...</td>\n",
              "      <td>...</td>\n",
              "      <td>...</td>\n",
              "      <td>...</td>\n",
              "    </tr>\n",
              "    <tr>\n",
              "      <th>49994</th>\n",
              "      <td>U001</td>\n",
              "      <td>0200762301</td>\n",
              "      <td>C&amp;S WH trust</td>\n",
              "      <td>2019-07-25</td>\n",
              "      <td>2019.0</td>\n",
              "      <td>1.929601e+09</td>\n",
              "      <td>2019-07-10</td>\n",
              "      <td>2019-07-25</td>\n",
              "      <td>2019-07-10</td>\n",
              "      <td>NAC6</td>\n",
              "      <td>84780.400</td>\n",
              "      <td>0 days</td>\n",
              "      <td>-3.330000e+04</td>\n",
              "    </tr>\n",
              "    <tr>\n",
              "      <th>49996</th>\n",
              "      <td>U001</td>\n",
              "      <td>0200769623</td>\n",
              "      <td>WAL-MAR co</td>\n",
              "      <td>2019-09-03</td>\n",
              "      <td>2019.0</td>\n",
              "      <td>1.929744e+09</td>\n",
              "      <td>2019-08-15</td>\n",
              "      <td>2019-08-30</td>\n",
              "      <td>2019-08-15</td>\n",
              "      <td>NAH4</td>\n",
              "      <td>6766.540</td>\n",
              "      <td>4 days</td>\n",
              "      <td>-2.135915e+05</td>\n",
              "    </tr>\n",
              "    <tr>\n",
              "      <th>49997</th>\n",
              "      <td>U001</td>\n",
              "      <td>0200772595</td>\n",
              "      <td>SAFEW associates</td>\n",
              "      <td>2020-03-05</td>\n",
              "      <td>2020.0</td>\n",
              "      <td>1.930537e+09</td>\n",
              "      <td>2020-02-19</td>\n",
              "      <td>2020-03-05</td>\n",
              "      <td>2020-02-19</td>\n",
              "      <td>NAA8</td>\n",
              "      <td>6120.860</td>\n",
              "      <td>0 days</td>\n",
              "      <td>9.051429e+04</td>\n",
              "    </tr>\n",
              "    <tr>\n",
              "      <th>49998</th>\n",
              "      <td>U001</td>\n",
              "      <td>0200726979</td>\n",
              "      <td>BJ'S  llc</td>\n",
              "      <td>2019-12-12</td>\n",
              "      <td>2019.0</td>\n",
              "      <td>1.930199e+09</td>\n",
              "      <td>2019-11-27</td>\n",
              "      <td>2019-12-12</td>\n",
              "      <td>2019-11-27</td>\n",
              "      <td>NAA8</td>\n",
              "      <td>63.480</td>\n",
              "      <td>0 days</td>\n",
              "      <td>1.354030e+05</td>\n",
              "    </tr>\n",
              "    <tr>\n",
              "      <th>49999</th>\n",
              "      <td>U001</td>\n",
              "      <td>0200020431</td>\n",
              "      <td>DEC corp</td>\n",
              "      <td>2019-01-15</td>\n",
              "      <td>2019.0</td>\n",
              "      <td>1.928576e+09</td>\n",
              "      <td>2019-01-05</td>\n",
              "      <td>2019-01-24</td>\n",
              "      <td>2019-01-01</td>\n",
              "      <td>NAM4</td>\n",
              "      <td>1790.300</td>\n",
              "      <td>-9 days</td>\n",
              "      <td>-3.371478e+05</td>\n",
              "    </tr>\n",
              "  </tbody>\n",
              "</table>\n",
              "<p>39158 rows × 13 columns</p>\n",
              "</div>\n",
              "      <button class=\"colab-df-convert\" onclick=\"convertToInteractive('df-7b863af2-5918-4619-8cfc-7a57ee101202')\"\n",
              "              title=\"Convert this dataframe to an interactive table.\"\n",
              "              style=\"display:none;\">\n",
              "        \n",
              "  <svg xmlns=\"http://www.w3.org/2000/svg\" height=\"24px\"viewBox=\"0 0 24 24\"\n",
              "       width=\"24px\">\n",
              "    <path d=\"M0 0h24v24H0V0z\" fill=\"none\"/>\n",
              "    <path d=\"M18.56 5.44l.94 2.06.94-2.06 2.06-.94-2.06-.94-.94-2.06-.94 2.06-2.06.94zm-11 1L8.5 8.5l.94-2.06 2.06-.94-2.06-.94L8.5 2.5l-.94 2.06-2.06.94zm10 10l.94 2.06.94-2.06 2.06-.94-2.06-.94-.94-2.06-.94 2.06-2.06.94z\"/><path d=\"M17.41 7.96l-1.37-1.37c-.4-.4-.92-.59-1.43-.59-.52 0-1.04.2-1.43.59L10.3 9.45l-7.72 7.72c-.78.78-.78 2.05 0 2.83L4 21.41c.39.39.9.59 1.41.59.51 0 1.02-.2 1.41-.59l7.78-7.78 2.81-2.81c.8-.78.8-2.07 0-2.86zM5.41 20L4 18.59l7.72-7.72 1.47 1.35L5.41 20z\"/>\n",
              "  </svg>\n",
              "      </button>\n",
              "      \n",
              "  <style>\n",
              "    .colab-df-container {\n",
              "      display:flex;\n",
              "      flex-wrap:wrap;\n",
              "      gap: 12px;\n",
              "    }\n",
              "\n",
              "    .colab-df-convert {\n",
              "      background-color: #E8F0FE;\n",
              "      border: none;\n",
              "      border-radius: 50%;\n",
              "      cursor: pointer;\n",
              "      display: none;\n",
              "      fill: #1967D2;\n",
              "      height: 32px;\n",
              "      padding: 0 0 0 0;\n",
              "      width: 32px;\n",
              "    }\n",
              "\n",
              "    .colab-df-convert:hover {\n",
              "      background-color: #E2EBFA;\n",
              "      box-shadow: 0px 1px 2px rgba(60, 64, 67, 0.3), 0px 1px 3px 1px rgba(60, 64, 67, 0.15);\n",
              "      fill: #174EA6;\n",
              "    }\n",
              "\n",
              "    [theme=dark] .colab-df-convert {\n",
              "      background-color: #3B4455;\n",
              "      fill: #D2E3FC;\n",
              "    }\n",
              "\n",
              "    [theme=dark] .colab-df-convert:hover {\n",
              "      background-color: #434B5C;\n",
              "      box-shadow: 0px 1px 3px 1px rgba(0, 0, 0, 0.15);\n",
              "      filter: drop-shadow(0px 1px 2px rgba(0, 0, 0, 0.3));\n",
              "      fill: #FFFFFF;\n",
              "    }\n",
              "  </style>\n",
              "\n",
              "      <script>\n",
              "        const buttonEl =\n",
              "          document.querySelector('#df-7b863af2-5918-4619-8cfc-7a57ee101202 button.colab-df-convert');\n",
              "        buttonEl.style.display =\n",
              "          google.colab.kernel.accessAllowed ? 'block' : 'none';\n",
              "\n",
              "        async function convertToInteractive(key) {\n",
              "          const element = document.querySelector('#df-7b863af2-5918-4619-8cfc-7a57ee101202');\n",
              "          const dataTable =\n",
              "            await google.colab.kernel.invokeFunction('convertToInteractive',\n",
              "                                                     [key], {});\n",
              "          if (!dataTable) return;\n",
              "\n",
              "          const docLinkHtml = 'Like what you see? Visit the ' +\n",
              "            '<a target=\"_blank\" href=https://colab.research.google.com/notebooks/data_table.ipynb>data table notebook</a>'\n",
              "            + ' to learn more about interactive tables.';\n",
              "          element.innerHTML = '';\n",
              "          dataTable['output_type'] = 'display_data';\n",
              "          await google.colab.output.renderOutput(dataTable, element);\n",
              "          const docLink = document.createElement('div');\n",
              "          docLink.innerHTML = docLinkHtml;\n",
              "          element.appendChild(docLink);\n",
              "        }\n",
              "      </script>\n",
              "    </div>\n",
              "  </div>\n",
              "  "
            ]
          },
          "metadata": {},
          "execution_count": 194
        }
      ],
      "source": [
        "maindata"
      ]
    },
    {
      "cell_type": "markdown",
      "id": "ae24c7bb",
      "metadata": {
        "id": "ae24c7bb"
      },
      "source": [
        "### Since you have created the \"avg_delay\" column from \"Delay\" and \"clear_date\" column, there is no need of these two columns anymore \n",
        "\n",
        "- You are expected to drop \"Delay\" and \"clear_date\" columns from maindata dataframe "
      ]
    },
    {
      "cell_type": "code",
      "execution_count": 195,
      "id": "78a61ab9",
      "metadata": {
        "id": "78a61ab9"
      },
      "outputs": [],
      "source": [
        "maindata=maindata.drop(['delay','clear_date'],axis=1)"
      ]
    },
    {
      "cell_type": "markdown",
      "id": "ae724bfc",
      "metadata": {
        "id": "ae724bfc"
      },
      "source": [
        "# Splitting of Train and the Test Data"
      ]
    },
    {
      "cell_type": "markdown",
      "id": "cb6f0264",
      "metadata": {
        "id": "cb6f0264"
      },
      "source": [
        "### You need to split the \"maindata\" columns into X and y dataframe\n",
        "\n",
        "- Note - y should have the target column i.e. \"avg_delay\" and the other column should be in X\n",
        "\n",
        "- X is going to hold the source fields and y will be going to hold the target fields"
      ]
    },
    {
      "cell_type": "code",
      "execution_count": 196,
      "id": "75ab29ab",
      "metadata": {
        "id": "75ab29ab"
      },
      "outputs": [],
      "source": [
        "y=maindata['avg_delay']"
      ]
    },
    {
      "cell_type": "code",
      "execution_count": 197,
      "id": "6412c62b",
      "metadata": {
        "id": "6412c62b"
      },
      "outputs": [],
      "source": [
        "X=maindata.drop('avg_delay',axis=1)"
      ]
    },
    {
      "cell_type": "markdown",
      "id": "1c2942bf",
      "metadata": {
        "id": "1c2942bf"
      },
      "source": [
        "#### You are expected to split both the dataframes into train and test format in 60:40 ratio \n",
        "\n",
        "- Note - The expected output should be in \"X_train\", \"X_loc_test\", \"y_train\", \"y_loc_test\" format "
      ]
    },
    {
      "cell_type": "code",
      "execution_count": 198,
      "id": "d92160a5",
      "metadata": {
        "id": "d92160a5"
      },
      "outputs": [],
      "source": [
        "X_train, X_loc_test, y_train, y_loc_test = train_test_split(X, y, test_size=0.40)"
      ]
    },
    {
      "cell_type": "markdown",
      "id": "p4OME62pDufR",
      "metadata": {
        "id": "p4OME62pDufR"
      },
      "source": [
        "### Please check for the number of rows and columns of all the new dataframes (all 4)"
      ]
    },
    {
      "cell_type": "code",
      "execution_count": 199,
      "id": "48328d0a",
      "metadata": {
        "id": "48328d0a",
        "colab": {
          "base_uri": "https://localhost:8080/"
        },
        "outputId": "0eaedbd9-840a-4aee-c775-50cb48d985b8"
      },
      "outputs": [
        {
          "output_type": "stream",
          "name": "stdout",
          "text": [
            "(23494, 10) (15664, 10) (23494,) (15664,)\n"
          ]
        }
      ],
      "source": [
        "print(X_train.shape, X_loc_test.shape, y_train.shape, y_loc_test.shape)"
      ]
    },
    {
      "cell_type": "markdown",
      "id": "4a68ed71",
      "metadata": {
        "id": "4a68ed71"
      },
      "source": [
        "### Now you are expected to split the \"X_loc_test\" and \"y_loc_test\" dataset into \"Test\" and \"Validation\" (as the names given below) dataframe with 50:50 format \n",
        "\n",
        "- Note - The expected output should be in \"X_val\", \"X_test\", \"y_val\", \"y_test\" format"
      ]
    },
    {
      "cell_type": "code",
      "execution_count": 200,
      "id": "b56c62f2",
      "metadata": {
        "id": "b56c62f2"
      },
      "outputs": [],
      "source": [
        "X_val, X_test, y_val, y_test= train_test_split(X_loc_test, y_loc_test, test_size=0.50)"
      ]
    },
    {
      "cell_type": "markdown",
      "id": "bJTSAskvERH1",
      "metadata": {
        "id": "bJTSAskvERH1"
      },
      "source": [
        "### Please check for the number of rows and columns of all the 4 dataframes "
      ]
    },
    {
      "cell_type": "code",
      "execution_count": 201,
      "id": "845d7564",
      "metadata": {
        "id": "845d7564",
        "colab": {
          "base_uri": "https://localhost:8080/"
        },
        "outputId": "535a65ca-21c4-4131-bc0d-597b4fd701ef"
      },
      "outputs": [
        {
          "output_type": "stream",
          "name": "stdout",
          "text": [
            "(7832, 10) (7832, 10) (7832,) (7832,)\n"
          ]
        }
      ],
      "source": [
        "print(X_val.shape, X_test.shape, y_val.shape, y_test.shape)"
      ]
    },
    {
      "cell_type": "markdown",
      "id": "110fa872",
      "metadata": {
        "id": "110fa872"
      },
      "source": [
        "# Exploratory Data Analysis (EDA) "
      ]
    },
    {
      "cell_type": "markdown",
      "id": "ffc8fe0f",
      "metadata": {
        "id": "ffc8fe0f"
      },
      "source": [
        "### Distribution Plot of the target variable (use the dataframe which contains the target field)\n",
        "\n",
        "- Note - You are expected to make a distribution plot for the target variable "
      ]
    },
    {
      "cell_type": "code",
      "execution_count": 202,
      "id": "ba2bf8ed",
      "metadata": {
        "id": "ba2bf8ed",
        "colab": {
          "base_uri": "https://localhost:8080/",
          "height": 386
        },
        "outputId": "eba13140-4653-49ba-98c7-d63ba2b9a33f"
      },
      "outputs": [
        {
          "output_type": "execute_result",
          "data": {
            "text/plain": [
              "<seaborn.axisgrid.FacetGrid at 0x7fc199228a50>"
            ]
          },
          "metadata": {},
          "execution_count": 202
        },
        {
          "output_type": "display_data",
          "data": {
            "text/plain": [
              "<Figure size 360x360 with 1 Axes>"
            ],
            "image/png": "[encoded data removed]"
          },
          "metadata": {
            "needs_background": "light"
          }
        }
      ],
      "source": [
        "sns.displot(y, bins = 20)"
      ]
    },
    {
      "cell_type": "markdown",
      "id": "d0e323a3",
      "metadata": {
        "id": "d0e323a3"
      },
      "source": [
        "### You are expected to group the X_train dataset on 'name_customer' column with 'doc_id' in the x_train set\n",
        "\n",
        "### Need to store the outcome into a new dataframe \n",
        "\n",
        "- Note code given for groupby statement- X_train.groupby(by=['name_customer'], as_index=False)['doc_id'].count()"
      ]
    },
    {
      "cell_type": "code",
      "execution_count": 203,
      "id": "f7acf0ee",
      "metadata": {
        "id": "f7acf0ee",
        "colab": {
          "base_uri": "https://localhost:8080/",
          "height": 424
        },
        "outputId": "054d3d92-32dd-45f6-ad42-a8a355df16ec"
      },
      "outputs": [
        {
          "output_type": "execute_result",
          "data": {
            "text/plain": [
              "             name_customer  doc_id\n",
              "0                 11078 us       1\n",
              "1                17135 llc       1\n",
              "2                   99 CE        2\n",
              "3         99 CE associates       2\n",
              "4                 99 CE co       1\n",
              "...                    ...     ...\n",
              "3047             YAEGER in       1\n",
              "3048             YEN BROS        1\n",
              "3049  YEN BROS corporation       1\n",
              "3050          YEN BROS llc       1\n",
              "3051             ZIYAD  us       1\n",
              "\n",
              "[3052 rows x 2 columns]"
            ],
            "text/html": [
              "\n",
              "  <div id=\"df-bbf7a584-7c4a-4909-8c84-2d10072f3ea4\">\n",
              "    <div class=\"colab-df-container\">\n",
              "      <div>\n",
              "<style scoped>\n",
              "    .dataframe tbody tr th:only-of-type {\n",
              "        vertical-align: middle;\n",
              "    }\n",
              "\n",
              "    .dataframe tbody tr th {\n",
              "        vertical-align: top;\n",
              "    }\n",
              "\n",
              "    .dataframe thead th {\n",
              "        text-align: right;\n",
              "    }\n",
              "</style>\n",
              "<table border=\"1\" class=\"dataframe\">\n",
              "  <thead>\n",
              "    <tr style=\"text-align: right;\">\n",
              "      <th></th>\n",
              "      <th>name_customer</th>\n",
              "      <th>doc_id</th>\n",
              "    </tr>\n",
              "  </thead>\n",
              "  <tbody>\n",
              "    <tr>\n",
              "      <th>0</th>\n",
              "      <td>11078 us</td>\n",
              "      <td>1</td>\n",
              "    </tr>\n",
              "    <tr>\n",
              "      <th>1</th>\n",
              "      <td>17135 llc</td>\n",
              "      <td>1</td>\n",
              "    </tr>\n",
              "    <tr>\n",
              "      <th>2</th>\n",
              "      <td>99 CE</td>\n",
              "      <td>2</td>\n",
              "    </tr>\n",
              "    <tr>\n",
              "      <th>3</th>\n",
              "      <td>99 CE associates</td>\n",
              "      <td>2</td>\n",
              "    </tr>\n",
              "    <tr>\n",
              "      <th>4</th>\n",
              "      <td>99 CE co</td>\n",
              "      <td>1</td>\n",
              "    </tr>\n",
              "    <tr>\n",
              "      <th>...</th>\n",
              "      <td>...</td>\n",
              "      <td>...</td>\n",
              "    </tr>\n",
              "    <tr>\n",
              "      <th>3047</th>\n",
              "      <td>YAEGER in</td>\n",
              "      <td>1</td>\n",
              "    </tr>\n",
              "    <tr>\n",
              "      <th>3048</th>\n",
              "      <td>YEN BROS</td>\n",
              "      <td>1</td>\n",
              "    </tr>\n",
              "    <tr>\n",
              "      <th>3049</th>\n",
              "      <td>YEN BROS corporation</td>\n",
              "      <td>1</td>\n",
              "    </tr>\n",
              "    <tr>\n",
              "      <th>3050</th>\n",
              "      <td>YEN BROS llc</td>\n",
              "      <td>1</td>\n",
              "    </tr>\n",
              "    <tr>\n",
              "      <th>3051</th>\n",
              "      <td>ZIYAD  us</td>\n",
              "      <td>1</td>\n",
              "    </tr>\n",
              "  </tbody>\n",
              "</table>\n",
              "<p>3052 rows × 2 columns</p>\n",
              "</div>\n",
              "      <button class=\"colab-df-convert\" onclick=\"convertToInteractive('df-bbf7a584-7c4a-4909-8c84-2d10072f3ea4')\"\n",
              "              title=\"Convert this dataframe to an interactive table.\"\n",
              "              style=\"display:none;\">\n",
              "        \n",
              "  <svg xmlns=\"http://www.w3.org/2000/svg\" height=\"24px\"viewBox=\"0 0 24 24\"\n",
              "       width=\"24px\">\n",
              "    <path d=\"M0 0h24v24H0V0z\" fill=\"none\"/>\n",
              "    <path d=\"M18.56 5.44l.94 2.06.94-2.06 2.06-.94-2.06-.94-.94-2.06-.94 2.06-2.06.94zm-11 1L8.5 8.5l.94-2.06 2.06-.94-2.06-.94L8.5 2.5l-.94 2.06-2.06.94zm10 10l.94 2.06.94-2.06 2.06-.94-2.06-.94-.94-2.06-.94 2.06-2.06.94z\"/><path d=\"M17.41 7.96l-1.37-1.37c-.4-.4-.92-.59-1.43-.59-.52 0-1.04.2-1.43.59L10.3 9.45l-7.72 7.72c-.78.78-.78 2.05 0 2.83L4 21.41c.39.39.9.59 1.41.59.51 0 1.02-.2 1.41-.59l7.78-7.78 2.81-2.81c.8-.78.8-2.07 0-2.86zM5.41 20L4 18.59l7.72-7.72 1.47 1.35L5.41 20z\"/>\n",
              "  </svg>\n",
              "      </button>\n",
              "      \n",
              "  <style>\n",
              "    .colab-df-container {\n",
              "      display:flex;\n",
              "      flex-wrap:wrap;\n",
              "      gap: 12px;\n",
              "    }\n",
              "\n",
              "    .colab-df-convert {\n",
              "      background-color: #E8F0FE;\n",
              "      border: none;\n",
              "      border-radius: 50%;\n",
              "      cursor: pointer;\n",
              "      display: none;\n",
              "      fill: #1967D2;\n",
              "      height: 32px;\n",
              "      padding: 0 0 0 0;\n",
              "      width: 32px;\n",
              "    }\n",
              "\n",
              "    .colab-df-convert:hover {\n",
              "      background-color: #E2EBFA;\n",
              "      box-shadow: 0px 1px 2px rgba(60, 64, 67, 0.3), 0px 1px 3px 1px rgba(60, 64, 67, 0.15);\n",
              "      fill: #174EA6;\n",
              "    }\n",
              "\n",
              "    [theme=dark] .colab-df-convert {\n",
              "      background-color: #3B4455;\n",
              "      fill: #D2E3FC;\n",
              "    }\n",
              "\n",
              "    [theme=dark] .colab-df-convert:hover {\n",
              "      background-color: #434B5C;\n",
              "      box-shadow: 0px 1px 3px 1px rgba(0, 0, 0, 0.15);\n",
              "      filter: drop-shadow(0px 1px 2px rgba(0, 0, 0, 0.3));\n",
              "      fill: #FFFFFF;\n",
              "    }\n",
              "  </style>\n",
              "\n",
              "      <script>\n",
              "        const buttonEl =\n",
              "          document.querySelector('#df-bbf7a584-7c4a-4909-8c84-2d10072f3ea4 button.colab-df-convert');\n",
              "        buttonEl.style.display =\n",
              "          google.colab.kernel.accessAllowed ? 'block' : 'none';\n",
              "\n",
              "        async function convertToInteractive(key) {\n",
              "          const element = document.querySelector('#df-bbf7a584-7c4a-4909-8c84-2d10072f3ea4');\n",
              "          const dataTable =\n",
              "            await google.colab.kernel.invokeFunction('convertToInteractive',\n",
              "                                                     [key], {});\n",
              "          if (!dataTable) return;\n",
              "\n",
              "          const docLinkHtml = 'Like what you see? Visit the ' +\n",
              "            '<a target=\"_blank\" href=https://colab.research.google.com/notebooks/data_table.ipynb>data table notebook</a>'\n",
              "            + ' to learn more about interactive tables.';\n",
              "          element.innerHTML = '';\n",
              "          dataTable['output_type'] = 'display_data';\n",
              "          await google.colab.output.renderOutput(dataTable, element);\n",
              "          const docLink = document.createElement('div');\n",
              "          docLink.innerHTML = docLinkHtml;\n",
              "          element.appendChild(docLink);\n",
              "        }\n",
              "      </script>\n",
              "    </div>\n",
              "  </div>\n",
              "  "
            ]
          },
          "metadata": {},
          "execution_count": 203
        }
      ],
      "source": [
        "x_train = X_train.groupby(by=['name_customer'], as_index=False)['doc_id'].count()\n",
        "x_train"
      ]
    },
    {
      "cell_type": "markdown",
      "id": "cA43bFffFt6i",
      "metadata": {
        "id": "cA43bFffFt6i"
      },
      "source": [
        "### You can make another distribution plot of the \"doc_id\" column from x_train"
      ]
    },
    {
      "cell_type": "code",
      "execution_count": 204,
      "id": "9576bf33",
      "metadata": {
        "id": "9576bf33",
        "colab": {
          "base_uri": "https://localhost:8080/",
          "height": 386
        },
        "outputId": "bbfe25aa-3cee-4a51-e56f-31bf5ce6e6c9"
      },
      "outputs": [
        {
          "output_type": "execute_result",
          "data": {
            "text/plain": [
              "<seaborn.axisgrid.FacetGrid at 0x7fc193f33910>"
            ]
          },
          "metadata": {},
          "execution_count": 204
        },
        {
          "output_type": "display_data",
          "data": {
            "text/plain": [
              "<Figure size 360x360 with 1 Axes>"
            ],
            "image/png": "[encoded data removed]"
          },
          "metadata": {
            "needs_background": "light"
          }
        }
      ],
      "source": [
        "sns.displot(x_train['doc_id'], bins = 20)"
      ]
    },
    {
      "cell_type": "markdown",
      "id": "fba2c44f",
      "metadata": {
        "id": "fba2c44f"
      },
      "source": [
        "#### Create a Distribution plot only for business_year and a seperate distribution plot of \"business_year\" column along with the doc_id\" column\n"
      ]
    },
    {
      "cell_type": "code",
      "execution_count": 205,
      "id": "4fecec77",
      "metadata": {
        "id": "4fecec77",
        "colab": {
          "base_uri": "https://localhost:8080/",
          "height": 386
        },
        "outputId": "f80bf75f-0010-4867-96e0-6fb1d8018e11"
      },
      "outputs": [
        {
          "output_type": "execute_result",
          "data": {
            "text/plain": [
              "<seaborn.axisgrid.FacetGrid at 0x7fc1942856d0>"
            ]
          },
          "metadata": {},
          "execution_count": 205
        },
        {
          "output_type": "display_data",
          "data": {
            "text/plain": [
              "<Figure size 360x360 with 1 Axes>"
            ],
            "image/png": "[encoded data removed]"
          },
          "metadata": {
            "needs_background": "light"
          }
        }
      ],
      "source": [
        "sns.displot(X_test['buisness_year'])"
      ]
    },
    {
      "cell_type": "code",
      "execution_count": 206,
      "id": "qr1jGhfOKjnw",
      "metadata": {
        "id": "qr1jGhfOKjnw",
        "colab": {
          "base_uri": "https://localhost:8080/",
          "height": 386
        },
        "outputId": "d65a51d2-0012-4373-cb8b-2abc7d4b3060"
      },
      "outputs": [
        {
          "output_type": "execute_result",
          "data": {
            "text/plain": [
              "<seaborn.axisgrid.FacetGrid at 0x7fc19444c490>"
            ]
          },
          "metadata": {},
          "execution_count": 206
        },
        {
          "output_type": "display_data",
          "data": {
            "text/plain": [
              "<Figure size 439x360 with 1 Axes>"
            ],
            "image/png": "[encoded data removed]"
          },
          "metadata": {
            "needs_background": "light"
          }
        }
      ],
      "source": [
        "sns.displot(x = X_test['doc_id'],bins = 10, hue = X_test['buisness_year'], palette = 'dark:b')"
      ]
    },
    {
      "cell_type": "markdown",
      "id": "968fbcc9",
      "metadata": {
        "id": "968fbcc9"
      },
      "source": [
        "# Feature Engineering "
      ]
    },
    {
      "cell_type": "markdown",
      "id": "jbh6CyGqH3XE",
      "metadata": {
        "id": "jbh6CyGqH3XE"
      },
      "source": [
        "### Display and describe the X_train dataframe "
      ]
    },
    {
      "cell_type": "code",
      "execution_count": 207,
      "id": "e6bcf307",
      "metadata": {
        "id": "e6bcf307",
        "colab": {
          "base_uri": "https://localhost:8080/",
          "height": 574
        },
        "outputId": "8284ddce-467d-4d95-d758-72e7c7a46b59"
      },
      "outputs": [
        {
          "output_type": "execute_result",
          "data": {
            "text/plain": [
              "      business_code cust_number        name_customer  buisness_year  \\\n",
              "49314          U001  0200148860               DOLLA          2019.0   \n",
              "22626          CA02  0140104340  COLABOR  foundation         2019.0   \n",
              "40595          U001  0200764795            SYSCO  co         2019.0   \n",
              "44461          U001   200434439       BAUGH SU trust         2019.0   \n",
              "39189          U001  0200797452      US  corporation         2019.0   \n",
              "...             ...         ...                  ...            ...   \n",
              "9916           U001  0200769623             WAL-MAR          2019.0   \n",
              "17232          U001  0200769623   WAL-MAR foundation         2019.0   \n",
              "15027          U001  0100036066         GROC systems         2019.0   \n",
              "13652          U001  0200780825  SYSCO FO foundation         2019.0   \n",
              "24692          U001  0200936373     SUPE corporation         2019.0   \n",
              "\n",
              "             doc_id posting_date due_in_date baseline_create_date  \\\n",
              "49314  1.929540e+09   2019-06-25  2019-07-10           2019-06-25   \n",
              "22626  2.960561e+09   2019-07-04  2019-07-15           2019-07-05   \n",
              "40595  1.928556e+09   2019-01-04  2019-01-19           2019-01-04   \n",
              "44461  1.928854e+09   2019-02-25  2019-03-12           2019-02-25   \n",
              "39189  1.929039e+09   2019-03-27  2019-04-11           2019-03-27   \n",
              "...             ...          ...         ...                  ...   \n",
              "9916   1.929266e+09   2019-05-08  2019-05-23           2019-05-08   \n",
              "17232  1.929220e+09   2019-04-28  2019-05-13           2019-04-28   \n",
              "15027  1.930048e+09   2019-10-25  2019-11-09           2019-10-25   \n",
              "13652  1.929023e+09   2019-03-25  2019-04-09           2019-03-25   \n",
              "24692  1.929922e+09   2019-09-25  2019-10-10           2019-09-25   \n",
              "\n",
              "      cust_payment_terms  converted_usd  \n",
              "49314               NAA8       4045.730  \n",
              "22626               CA10      22941.506  \n",
              "40595               NAA8       2590.170  \n",
              "44461               NAA8      57831.070  \n",
              "39189               NAA8       2518.220  \n",
              "...                  ...            ...  \n",
              "9916                NAH4      15859.110  \n",
              "17232               NAH4       1868.660  \n",
              "15027               NAA8      51602.880  \n",
              "13652               NAA8       1132.960  \n",
              "24692               NAA8      43674.750  \n",
              "\n",
              "[23494 rows x 10 columns]"
            ],
            "text/html": [
              "\n",
              "  <div id=\"df-0aa4e5ea-94ed-49dd-bdc1-1101e0283066\">\n",
              "    <div class=\"colab-df-container\">\n",
              "      <div>\n",
              "<style scoped>\n",
              "    .dataframe tbody tr th:only-of-type {\n",
              "        vertical-align: middle;\n",
              "    }\n",
              "\n",
              "    .dataframe tbody tr th {\n",
              "        vertical-align: top;\n",
              "    }\n",
              "\n",
              "    .dataframe thead th {\n",
              "        text-align: right;\n",
              "    }\n",
              "</style>\n",
              "<table border=\"1\" class=\"dataframe\">\n",
              "  <thead>\n",
              "    <tr style=\"text-align: right;\">\n",
              "      <th></th>\n",
              "      <th>business_code</th>\n",
              "      <th>cust_number</th>\n",
              "      <th>name_customer</th>\n",
              "      <th>buisness_year</th>\n",
              "      <th>doc_id</th>\n",
              "      <th>posting_date</th>\n",
              "      <th>due_in_date</th>\n",
              "      <th>baseline_create_date</th>\n",
              "      <th>cust_payment_terms</th>\n",
              "      <th>converted_usd</th>\n",
              "    </tr>\n",
              "  </thead>\n",
              "  <tbody>\n",
              "    <tr>\n",
              "      <th>49314</th>\n",
              "      <td>U001</td>\n",
              "      <td>0200148860</td>\n",
              "      <td>DOLLA</td>\n",
              "      <td>2019.0</td>\n",
              "      <td>1.929540e+09</td>\n",
              "      <td>2019-06-25</td>\n",
              "      <td>2019-07-10</td>\n",
              "      <td>2019-06-25</td>\n",
              "      <td>NAA8</td>\n",
              "      <td>4045.730</td>\n",
              "    </tr>\n",
              "    <tr>\n",
              "      <th>22626</th>\n",
              "      <td>CA02</td>\n",
              "      <td>0140104340</td>\n",
              "      <td>COLABOR  foundation</td>\n",
              "      <td>2019.0</td>\n",
              "      <td>2.960561e+09</td>\n",
              "      <td>2019-07-04</td>\n",
              "      <td>2019-07-15</td>\n",
              "      <td>2019-07-05</td>\n",
              "      <td>CA10</td>\n",
              "      <td>22941.506</td>\n",
              "    </tr>\n",
              "    <tr>\n",
              "      <th>40595</th>\n",
              "      <td>U001</td>\n",
              "      <td>0200764795</td>\n",
              "      <td>SYSCO  co</td>\n",
              "      <td>2019.0</td>\n",
              "      <td>1.928556e+09</td>\n",
              "      <td>2019-01-04</td>\n",
              "      <td>2019-01-19</td>\n",
              "      <td>2019-01-04</td>\n",
              "      <td>NAA8</td>\n",
              "      <td>2590.170</td>\n",
              "    </tr>\n",
              "    <tr>\n",
              "      <th>44461</th>\n",
              "      <td>U001</td>\n",
              "      <td>200434439</td>\n",
              "      <td>BAUGH SU trust</td>\n",
              "      <td>2019.0</td>\n",
              "      <td>1.928854e+09</td>\n",
              "      <td>2019-02-25</td>\n",
              "      <td>2019-03-12</td>\n",
              "      <td>2019-02-25</td>\n",
              "      <td>NAA8</td>\n",
              "      <td>57831.070</td>\n",
              "    </tr>\n",
              "    <tr>\n",
              "      <th>39189</th>\n",
              "      <td>U001</td>\n",
              "      <td>0200797452</td>\n",
              "      <td>US  corporation</td>\n",
              "      <td>2019.0</td>\n",
              "      <td>1.929039e+09</td>\n",
              "      <td>2019-03-27</td>\n",
              "      <td>2019-04-11</td>\n",
              "      <td>2019-03-27</td>\n",
              "      <td>NAA8</td>\n",
              "      <td>2518.220</td>\n",
              "    </tr>\n",
              "    <tr>\n",
              "      <th>...</th>\n",
              "      <td>...</td>\n",
              "      <td>...</td>\n",
              "      <td>...</td>\n",
              "      <td>...</td>\n",
              "      <td>...</td>\n",
              "      <td>...</td>\n",
              "      <td>...</td>\n",
              "      <td>...</td>\n",
              "      <td>...</td>\n",
              "      <td>...</td>\n",
              "    </tr>\n",
              "    <tr>\n",
              "      <th>9916</th>\n",
              "      <td>U001</td>\n",
              "      <td>0200769623</td>\n",
              "      <td>WAL-MAR</td>\n",
              "      <td>2019.0</td>\n",
              "      <td>1.929266e+09</td>\n",
              "      <td>2019-05-08</td>\n",
              "      <td>2019-05-23</td>\n",
              "      <td>2019-05-08</td>\n",
              "      <td>NAH4</td>\n",
              "      <td>15859.110</td>\n",
              "    </tr>\n",
              "    <tr>\n",
              "      <th>17232</th>\n",
              "      <td>U001</td>\n",
              "      <td>0200769623</td>\n",
              "      <td>WAL-MAR foundation</td>\n",
              "      <td>2019.0</td>\n",
              "      <td>1.929220e+09</td>\n",
              "      <td>2019-04-28</td>\n",
              "      <td>2019-05-13</td>\n",
              "      <td>2019-04-28</td>\n",
              "      <td>NAH4</td>\n",
              "      <td>1868.660</td>\n",
              "    </tr>\n",
              "    <tr>\n",
              "      <th>15027</th>\n",
              "      <td>U001</td>\n",
              "      <td>0100036066</td>\n",
              "      <td>GROC systems</td>\n",
              "      <td>2019.0</td>\n",
              "      <td>1.930048e+09</td>\n",
              "      <td>2019-10-25</td>\n",
              "      <td>2019-11-09</td>\n",
              "      <td>2019-10-25</td>\n",
              "      <td>NAA8</td>\n",
              "      <td>51602.880</td>\n",
              "    </tr>\n",
              "    <tr>\n",
              "      <th>13652</th>\n",
              "      <td>U001</td>\n",
              "      <td>0200780825</td>\n",
              "      <td>SYSCO FO foundation</td>\n",
              "      <td>2019.0</td>\n",
              "      <td>1.929023e+09</td>\n",
              "      <td>2019-03-25</td>\n",
              "      <td>2019-04-09</td>\n",
              "      <td>2019-03-25</td>\n",
              "      <td>NAA8</td>\n",
              "      <td>1132.960</td>\n",
              "    </tr>\n",
              "    <tr>\n",
              "      <th>24692</th>\n",
              "      <td>U001</td>\n",
              "      <td>0200936373</td>\n",
              "      <td>SUPE corporation</td>\n",
              "      <td>2019.0</td>\n",
              "      <td>1.929922e+09</td>\n",
              "      <td>2019-09-25</td>\n",
              "      <td>2019-10-10</td>\n",
              "      <td>2019-09-25</td>\n",
              "      <td>NAA8</td>\n",
              "      <td>43674.750</td>\n",
              "    </tr>\n",
              "  </tbody>\n",
              "</table>\n",
              "<p>23494 rows × 10 columns</p>\n",
              "</div>\n",
              "      <button class=\"colab-df-convert\" onclick=\"convertToInteractive('df-0aa4e5ea-94ed-49dd-bdc1-1101e0283066')\"\n",
              "              title=\"Convert this dataframe to an interactive table.\"\n",
              "              style=\"display:none;\">\n",
              "        \n",
              "  <svg xmlns=\"http://www.w3.org/2000/svg\" height=\"24px\"viewBox=\"0 0 24 24\"\n",
              "       width=\"24px\">\n",
              "    <path d=\"M0 0h24v24H0V0z\" fill=\"none\"/>\n",
              "    <path d=\"M18.56 5.44l.94 2.06.94-2.06 2.06-.94-2.06-.94-.94-2.06-.94 2.06-2.06.94zm-11 1L8.5 8.5l.94-2.06 2.06-.94-2.06-.94L8.5 2.5l-.94 2.06-2.06.94zm10 10l.94 2.06.94-2.06 2.06-.94-2.06-.94-.94-2.06-.94 2.06-2.06.94z\"/><path d=\"M17.41 7.96l-1.37-1.37c-.4-.4-.92-.59-1.43-.59-.52 0-1.04.2-1.43.59L10.3 9.45l-7.72 7.72c-.78.78-.78 2.05 0 2.83L4 21.41c.39.39.9.59 1.41.59.51 0 1.02-.2 1.41-.59l7.78-7.78 2.81-2.81c.8-.78.8-2.07 0-2.86zM5.41 20L4 18.59l7.72-7.72 1.47 1.35L5.41 20z\"/>\n",
              "  </svg>\n",
              "      </button>\n",
              "      \n",
              "  <style>\n",
              "    .colab-df-container {\n",
              "      display:flex;\n",
              "      flex-wrap:wrap;\n",
              "      gap: 12px;\n",
              "    }\n",
              "\n",
              "    .colab-df-convert {\n",
              "      background-color: #E8F0FE;\n",
              "      border: none;\n",
              "      border-radius: 50%;\n",
              "      cursor: pointer;\n",
              "      display: none;\n",
              "      fill: #1967D2;\n",
              "      height: 32px;\n",
              "      padding: 0 0 0 0;\n",
              "      width: 32px;\n",
              "    }\n",
              "\n",
              "    .colab-df-convert:hover {\n",
              "      background-color: #E2EBFA;\n",
              "      box-shadow: 0px 1px 2px rgba(60, 64, 67, 0.3), 0px 1px 3px 1px rgba(60, 64, 67, 0.15);\n",
              "      fill: #174EA6;\n",
              "    }\n",
              "\n",
              "    [theme=dark] .colab-df-convert {\n",
              "      background-color: #3B4455;\n",
              "      fill: #D2E3FC;\n",
              "    }\n",
              "\n",
              "    [theme=dark] .colab-df-convert:hover {\n",
              "      background-color: #434B5C;\n",
              "      box-shadow: 0px 1px 3px 1px rgba(0, 0, 0, 0.15);\n",
              "      filter: drop-shadow(0px 1px 2px rgba(0, 0, 0, 0.3));\n",
              "      fill: #FFFFFF;\n",
              "    }\n",
              "  </style>\n",
              "\n",
              "      <script>\n",
              "        const buttonEl =\n",
              "          document.querySelector('#df-0aa4e5ea-94ed-49dd-bdc1-1101e0283066 button.colab-df-convert');\n",
              "        buttonEl.style.display =\n",
              "          google.colab.kernel.accessAllowed ? 'block' : 'none';\n",
              "\n",
              "        async function convertToInteractive(key) {\n",
              "          const element = document.querySelector('#df-0aa4e5ea-94ed-49dd-bdc1-1101e0283066');\n",
              "          const dataTable =\n",
              "            await google.colab.kernel.invokeFunction('convertToInteractive',\n",
              "                                                     [key], {});\n",
              "          if (!dataTable) return;\n",
              "\n",
              "          const docLinkHtml = 'Like what you see? Visit the ' +\n",
              "            '<a target=\"_blank\" href=https://colab.research.google.com/notebooks/data_table.ipynb>data table notebook</a>'\n",
              "            + ' to learn more about interactive tables.';\n",
              "          element.innerHTML = '';\n",
              "          dataTable['output_type'] = 'display_data';\n",
              "          await google.colab.output.renderOutput(dataTable, element);\n",
              "          const docLink = document.createElement('div');\n",
              "          docLink.innerHTML = docLinkHtml;\n",
              "          element.appendChild(docLink);\n",
              "        }\n",
              "      </script>\n",
              "    </div>\n",
              "  </div>\n",
              "  "
            ]
          },
          "metadata": {},
          "execution_count": 207
        }
      ],
      "source": [
        "X_train"
      ]
    },
    {
      "cell_type": "code",
      "execution_count": 208,
      "id": "08ccc819",
      "metadata": {
        "id": "08ccc819",
        "colab": {
          "base_uri": "https://localhost:8080/",
          "height": 300
        },
        "outputId": "ff6d58b8-4083-4b67-99df-2fd99ed8ef8b"
      },
      "outputs": [
        {
          "output_type": "execute_result",
          "data": {
            "text/plain": [
              "       buisness_year        doc_id  converted_usd\n",
              "count   23494.000000  2.349400e+04   23494.000000\n",
              "mean     2019.131608  2.013935e+09   30433.710350\n",
              "std         0.338071  2.919439e+08   36189.321957\n",
              "min      2019.000000  1.928509e+09       0.790000\n",
              "25%      2019.000000  1.929180e+09    4490.019750\n",
              "50%      2019.000000  1.929733e+09   16781.975000\n",
              "75%      2019.000000  1.930210e+09   45080.755000\n",
              "max      2020.000000  9.500000e+09  668593.360000"
            ],
            "text/html": [
              "\n",
              "  <div id=\"df-fbec458f-ff9d-4e55-a24b-c673f265726d\">\n",
              "    <div class=\"colab-df-container\">\n",
              "      <div>\n",
              "<style scoped>\n",
              "    .dataframe tbody tr th:only-of-type {\n",
              "        vertical-align: middle;\n",
              "    }\n",
              "\n",
              "    .dataframe tbody tr th {\n",
              "        vertical-align: top;\n",
              "    }\n",
              "\n",
              "    .dataframe thead th {\n",
              "        text-align: right;\n",
              "    }\n",
              "</style>\n",
              "<table border=\"1\" class=\"dataframe\">\n",
              "  <thead>\n",
              "    <tr style=\"text-align: right;\">\n",
              "      <th></th>\n",
              "      <th>buisness_year</th>\n",
              "      <th>doc_id</th>\n",
              "      <th>converted_usd</th>\n",
              "    </tr>\n",
              "  </thead>\n",
              "  <tbody>\n",
              "    <tr>\n",
              "      <th>count</th>\n",
              "      <td>23494.000000</td>\n",
              "      <td>2.349400e+04</td>\n",
              "      <td>23494.000000</td>\n",
              "    </tr>\n",
              "    <tr>\n",
              "      <th>mean</th>\n",
              "      <td>2019.131608</td>\n",
              "      <td>2.013935e+09</td>\n",
              "      <td>30433.710350</td>\n",
              "    </tr>\n",
              "    <tr>\n",
              "      <th>std</th>\n",
              "      <td>0.338071</td>\n",
              "      <td>2.919439e+08</td>\n",
              "      <td>36189.321957</td>\n",
              "    </tr>\n",
              "    <tr>\n",
              "      <th>min</th>\n",
              "      <td>2019.000000</td>\n",
              "      <td>1.928509e+09</td>\n",
              "      <td>0.790000</td>\n",
              "    </tr>\n",
              "    <tr>\n",
              "      <th>25%</th>\n",
              "      <td>2019.000000</td>\n",
              "      <td>1.929180e+09</td>\n",
              "      <td>4490.019750</td>\n",
              "    </tr>\n",
              "    <tr>\n",
              "      <th>50%</th>\n",
              "      <td>2019.000000</td>\n",
              "      <td>1.929733e+09</td>\n",
              "      <td>16781.975000</td>\n",
              "    </tr>\n",
              "    <tr>\n",
              "      <th>75%</th>\n",
              "      <td>2019.000000</td>\n",
              "      <td>1.930210e+09</td>\n",
              "      <td>45080.755000</td>\n",
              "    </tr>\n",
              "    <tr>\n",
              "      <th>max</th>\n",
              "      <td>2020.000000</td>\n",
              "      <td>9.500000e+09</td>\n",
              "      <td>668593.360000</td>\n",
              "    </tr>\n",
              "  </tbody>\n",
              "</table>\n",
              "</div>\n",
              "      <button class=\"colab-df-convert\" onclick=\"convertToInteractive('df-fbec458f-ff9d-4e55-a24b-c673f265726d')\"\n",
              "              title=\"Convert this dataframe to an interactive table.\"\n",
              "              style=\"display:none;\">\n",
              "        \n",
              "  <svg xmlns=\"http://www.w3.org/2000/svg\" height=\"24px\"viewBox=\"0 0 24 24\"\n",
              "       width=\"24px\">\n",
              "    <path d=\"M0 0h24v24H0V0z\" fill=\"none\"/>\n",
              "    <path d=\"M18.56 5.44l.94 2.06.94-2.06 2.06-.94-2.06-.94-.94-2.06-.94 2.06-2.06.94zm-11 1L8.5 8.5l.94-2.06 2.06-.94-2.06-.94L8.5 2.5l-.94 2.06-2.06.94zm10 10l.94 2.06.94-2.06 2.06-.94-2.06-.94-.94-2.06-.94 2.06-2.06.94z\"/><path d=\"M17.41 7.96l-1.37-1.37c-.4-.4-.92-.59-1.43-.59-.52 0-1.04.2-1.43.59L10.3 9.45l-7.72 7.72c-.78.78-.78 2.05 0 2.83L4 21.41c.39.39.9.59 1.41.59.51 0 1.02-.2 1.41-.59l7.78-7.78 2.81-2.81c.8-.78.8-2.07 0-2.86zM5.41 20L4 18.59l7.72-7.72 1.47 1.35L5.41 20z\"/>\n",
              "  </svg>\n",
              "      </button>\n",
              "      \n",
              "  <style>\n",
              "    .colab-df-container {\n",
              "      display:flex;\n",
              "      flex-wrap:wrap;\n",
              "      gap: 12px;\n",
              "    }\n",
              "\n",
              "    .colab-df-convert {\n",
              "      background-color: #E8F0FE;\n",
              "      border: none;\n",
              "      border-radius: 50%;\n",
              "      cursor: pointer;\n",
              "      display: none;\n",
              "      fill: #1967D2;\n",
              "      height: 32px;\n",
              "      padding: 0 0 0 0;\n",
              "      width: 32px;\n",
              "    }\n",
              "\n",
              "    .colab-df-convert:hover {\n",
              "      background-color: #E2EBFA;\n",
              "      box-shadow: 0px 1px 2px rgba(60, 64, 67, 0.3), 0px 1px 3px 1px rgba(60, 64, 67, 0.15);\n",
              "      fill: #174EA6;\n",
              "    }\n",
              "\n",
              "    [theme=dark] .colab-df-convert {\n",
              "      background-color: #3B4455;\n",
              "      fill: #D2E3FC;\n",
              "    }\n",
              "\n",
              "    [theme=dark] .colab-df-convert:hover {\n",
              "      background-color: #434B5C;\n",
              "      box-shadow: 0px 1px 3px 1px rgba(0, 0, 0, 0.15);\n",
              "      filter: drop-shadow(0px 1px 2px rgba(0, 0, 0, 0.3));\n",
              "      fill: #FFFFFF;\n",
              "    }\n",
              "  </style>\n",
              "\n",
              "      <script>\n",
              "        const buttonEl =\n",
              "          document.querySelector('#df-fbec458f-ff9d-4e55-a24b-c673f265726d button.colab-df-convert');\n",
              "        buttonEl.style.display =\n",
              "          google.colab.kernel.accessAllowed ? 'block' : 'none';\n",
              "\n",
              "        async function convertToInteractive(key) {\n",
              "          const element = document.querySelector('#df-fbec458f-ff9d-4e55-a24b-c673f265726d');\n",
              "          const dataTable =\n",
              "            await google.colab.kernel.invokeFunction('convertToInteractive',\n",
              "                                                     [key], {});\n",
              "          if (!dataTable) return;\n",
              "\n",
              "          const docLinkHtml = 'Like what you see? Visit the ' +\n",
              "            '<a target=\"_blank\" href=https://colab.research.google.com/notebooks/data_table.ipynb>data table notebook</a>'\n",
              "            + ' to learn more about interactive tables.';\n",
              "          element.innerHTML = '';\n",
              "          dataTable['output_type'] = 'display_data';\n",
              "          await google.colab.output.renderOutput(dataTable, element);\n",
              "          const docLink = document.createElement('div');\n",
              "          docLink.innerHTML = docLinkHtml;\n",
              "          element.appendChild(docLink);\n",
              "        }\n",
              "      </script>\n",
              "    </div>\n",
              "  </div>\n",
              "  "
            ]
          },
          "metadata": {},
          "execution_count": 208
        }
      ],
      "source": [
        "X_train.describe()"
      ]
    },
    {
      "cell_type": "markdown",
      "id": "abd7ac8b",
      "metadata": {
        "id": "abd7ac8b"
      },
      "source": [
        "#### The \"business_code\" column inside X_train, is a categorical column, so you need to perform Labelencoder on that particular column\n",
        "\n",
        "- Note - call the Label Encoder from sklearn library and use the fit() function on \"business_code\" column\n",
        "- Note - Please fill in the blanks (two) to complete this code"
      ]
    },
    {
      "cell_type": "code",
      "execution_count": 209,
      "id": "7c223545",
      "metadata": {
        "id": "7c223545",
        "colab": {
          "base_uri": "https://localhost:8080/"
        },
        "outputId": "814c0c57-c7d6-485c-b0ea-71c5ba2b35aa"
      },
      "outputs": [
        {
          "output_type": "execute_result",
          "data": {
            "text/plain": [
              "LabelEncoder()"
            ]
          },
          "metadata": {},
          "execution_count": 209
        }
      ],
      "source": [
        "from sklearn.preprocessing import LabelEncoder\n",
        "business_coder = LabelEncoder()\n",
        "business_coder.fit(X_train['business_code'])"
      ]
    },
    {
      "cell_type": "markdown",
      "id": "f86f7d9c",
      "metadata": {
        "id": "f86f7d9c"
      },
      "source": [
        "#### You are expected to store the value into a new column i.e. \"business_code_enc\"\n",
        "\n",
        "- Note - For Training set you are expected to use fit_trainsform()\n",
        "- Note - For Test set you are expected to use the trainsform()\n",
        "- Note - For Validation set you are expected to use the trainsform()\n",
        "\n",
        "\n",
        "- Partial code is provided, please fill in the blanks "
      ]
    },
    {
      "cell_type": "code",
      "execution_count": 210,
      "id": "4269c307",
      "metadata": {
        "id": "4269c307"
      },
      "outputs": [],
      "source": [
        "X_train['business_code_enc'] = business_coder.fit_transform(X_train['business_code'])"
      ]
    },
    {
      "cell_type": "code",
      "execution_count": 211,
      "id": "70a53712",
      "metadata": {
        "id": "70a53712"
      },
      "outputs": [],
      "source": [
        "X_val['business_code_enc'] = business_coder.fit_transform(X_val['business_code'])\n",
        "X_test['business_code_enc'] = business_coder.fit_transform(X_test['business_code'])"
      ]
    },
    {
      "cell_type": "markdown",
      "id": "gdNYxTkqNfmz",
      "metadata": {
        "id": "gdNYxTkqNfmz"
      },
      "source": [
        "### Display \"business_code\" and \"business_code_enc\" together from X_train dataframe "
      ]
    },
    {
      "cell_type": "code",
      "execution_count": 212,
      "id": "1196a002",
      "metadata": {
        "id": "1196a002",
        "colab": {
          "base_uri": "https://localhost:8080/",
          "height": 424
        },
        "outputId": "61477e55-9eb1-4c1a-e82e-9278e7c03643"
      },
      "outputs": [
        {
          "output_type": "execute_result",
          "data": {
            "text/plain": [
              "      business_code  business_code_enc\n",
              "49314          U001                  1\n",
              "22626          CA02                  0\n",
              "40595          U001                  1\n",
              "44461          U001                  1\n",
              "39189          U001                  1\n",
              "...             ...                ...\n",
              "9916           U001                  1\n",
              "17232          U001                  1\n",
              "15027          U001                  1\n",
              "13652          U001                  1\n",
              "24692          U001                  1\n",
              "\n",
              "[23494 rows x 2 columns]"
            ],
            "text/html": [
              "\n",
              "  <div id=\"df-e70ede4e-dad9-43d8-ae2b-f01c3c95990b\">\n",
              "    <div class=\"colab-df-container\">\n",
              "      <div>\n",
              "<style scoped>\n",
              "    .dataframe tbody tr th:only-of-type {\n",
              "        vertical-align: middle;\n",
              "    }\n",
              "\n",
              "    .dataframe tbody tr th {\n",
              "        vertical-align: top;\n",
              "    }\n",
              "\n",
              "    .dataframe thead th {\n",
              "        text-align: right;\n",
              "    }\n",
              "</style>\n",
              "<table border=\"1\" class=\"dataframe\">\n",
              "  <thead>\n",
              "    <tr style=\"text-align: right;\">\n",
              "      <th></th>\n",
              "      <th>business_code</th>\n",
              "      <th>business_code_enc</th>\n",
              "    </tr>\n",
              "  </thead>\n",
              "  <tbody>\n",
              "    <tr>\n",
              "      <th>49314</th>\n",
              "      <td>U001</td>\n",
              "      <td>1</td>\n",
              "    </tr>\n",
              "    <tr>\n",
              "      <th>22626</th>\n",
              "      <td>CA02</td>\n",
              "      <td>0</td>\n",
              "    </tr>\n",
              "    <tr>\n",
              "      <th>40595</th>\n",
              "      <td>U001</td>\n",
              "      <td>1</td>\n",
              "    </tr>\n",
              "    <tr>\n",
              "      <th>44461</th>\n",
              "      <td>U001</td>\n",
              "      <td>1</td>\n",
              "    </tr>\n",
              "    <tr>\n",
              "      <th>39189</th>\n",
              "      <td>U001</td>\n",
              "      <td>1</td>\n",
              "    </tr>\n",
              "    <tr>\n",
              "      <th>...</th>\n",
              "      <td>...</td>\n",
              "      <td>...</td>\n",
              "    </tr>\n",
              "    <tr>\n",
              "      <th>9916</th>\n",
              "      <td>U001</td>\n",
              "      <td>1</td>\n",
              "    </tr>\n",
              "    <tr>\n",
              "      <th>17232</th>\n",
              "      <td>U001</td>\n",
              "      <td>1</td>\n",
              "    </tr>\n",
              "    <tr>\n",
              "      <th>15027</th>\n",
              "      <td>U001</td>\n",
              "      <td>1</td>\n",
              "    </tr>\n",
              "    <tr>\n",
              "      <th>13652</th>\n",
              "      <td>U001</td>\n",
              "      <td>1</td>\n",
              "    </tr>\n",
              "    <tr>\n",
              "      <th>24692</th>\n",
              "      <td>U001</td>\n",
              "      <td>1</td>\n",
              "    </tr>\n",
              "  </tbody>\n",
              "</table>\n",
              "<p>23494 rows × 2 columns</p>\n",
              "</div>\n",
              "      <button class=\"colab-df-convert\" onclick=\"convertToInteractive('df-e70ede4e-dad9-43d8-ae2b-f01c3c95990b')\"\n",
              "              title=\"Convert this dataframe to an interactive table.\"\n",
              "              style=\"display:none;\">\n",
              "        \n",
              "  <svg xmlns=\"http://www.w3.org/2000/svg\" height=\"24px\"viewBox=\"0 0 24 24\"\n",
              "       width=\"24px\">\n",
              "    <path d=\"M0 0h24v24H0V0z\" fill=\"none\"/>\n",
              "    <path d=\"M18.56 5.44l.94 2.06.94-2.06 2.06-.94-2.06-.94-.94-2.06-.94 2.06-2.06.94zm-11 1L8.5 8.5l.94-2.06 2.06-.94-2.06-.94L8.5 2.5l-.94 2.06-2.06.94zm10 10l.94 2.06.94-2.06 2.06-.94-2.06-.94-.94-2.06-.94 2.06-2.06.94z\"/><path d=\"M17.41 7.96l-1.37-1.37c-.4-.4-.92-.59-1.43-.59-.52 0-1.04.2-1.43.59L10.3 9.45l-7.72 7.72c-.78.78-.78 2.05 0 2.83L4 21.41c.39.39.9.59 1.41.59.51 0 1.02-.2 1.41-.59l7.78-7.78 2.81-2.81c.8-.78.8-2.07 0-2.86zM5.41 20L4 18.59l7.72-7.72 1.47 1.35L5.41 20z\"/>\n",
              "  </svg>\n",
              "      </button>\n",
              "      \n",
              "  <style>\n",
              "    .colab-df-container {\n",
              "      display:flex;\n",
              "      flex-wrap:wrap;\n",
              "      gap: 12px;\n",
              "    }\n",
              "\n",
              "    .colab-df-convert {\n",
              "      background-color: #E8F0FE;\n",
              "      border: none;\n",
              "      border-radius: 50%;\n",
              "      cursor: pointer;\n",
              "      display: none;\n",
              "      fill: #1967D2;\n",
              "      height: 32px;\n",
              "      padding: 0 0 0 0;\n",
              "      width: 32px;\n",
              "    }\n",
              "\n",
              "    .colab-df-convert:hover {\n",
              "      background-color: #E2EBFA;\n",
              "      box-shadow: 0px 1px 2px rgba(60, 64, 67, 0.3), 0px 1px 3px 1px rgba(60, 64, 67, 0.15);\n",
              "      fill: #174EA6;\n",
              "    }\n",
              "\n",
              "    [theme=dark] .colab-df-convert {\n",
              "      background-color: #3B4455;\n",
              "      fill: #D2E3FC;\n",
              "    }\n",
              "\n",
              "    [theme=dark] .colab-df-convert:hover {\n",
              "      background-color: #434B5C;\n",
              "      box-shadow: 0px 1px 3px 1px rgba(0, 0, 0, 0.15);\n",
              "      filter: drop-shadow(0px 1px 2px rgba(0, 0, 0, 0.3));\n",
              "      fill: #FFFFFF;\n",
              "    }\n",
              "  </style>\n",
              "\n",
              "      <script>\n",
              "        const buttonEl =\n",
              "          document.querySelector('#df-e70ede4e-dad9-43d8-ae2b-f01c3c95990b button.colab-df-convert');\n",
              "        buttonEl.style.display =\n",
              "          google.colab.kernel.accessAllowed ? 'block' : 'none';\n",
              "\n",
              "        async function convertToInteractive(key) {\n",
              "          const element = document.querySelector('#df-e70ede4e-dad9-43d8-ae2b-f01c3c95990b');\n",
              "          const dataTable =\n",
              "            await google.colab.kernel.invokeFunction('convertToInteractive',\n",
              "                                                     [key], {});\n",
              "          if (!dataTable) return;\n",
              "\n",
              "          const docLinkHtml = 'Like what you see? Visit the ' +\n",
              "            '<a target=\"_blank\" href=https://colab.research.google.com/notebooks/data_table.ipynb>data table notebook</a>'\n",
              "            + ' to learn more about interactive tables.';\n",
              "          element.innerHTML = '';\n",
              "          dataTable['output_type'] = 'display_data';\n",
              "          await google.colab.output.renderOutput(dataTable, element);\n",
              "          const docLink = document.createElement('div');\n",
              "          docLink.innerHTML = docLinkHtml;\n",
              "          element.appendChild(docLink);\n",
              "        }\n",
              "      </script>\n",
              "    </div>\n",
              "  </div>\n",
              "  "
            ]
          },
          "metadata": {},
          "execution_count": 212
        }
      ],
      "source": [
        "X_train[['business_code','business_code_enc']]"
      ]
    },
    {
      "cell_type": "markdown",
      "id": "11477224",
      "metadata": {
        "id": "11477224"
      },
      "source": [
        "#### Create a function called \"custom\" for dropping the columns 'business_code' from train, test and validation dataframe\n",
        "\n",
        "- Note - Fill in the blank to complete the code"
      ]
    },
    {
      "cell_type": "code",
      "execution_count": 213,
      "id": "1052868a",
      "metadata": {
        "id": "1052868a"
      },
      "outputs": [],
      "source": [
        "def custom(col ,traindf = X_train,valdf = X_val,testdf = X_test):\n",
        "    traindf.drop(col, axis =1,inplace=True)\n",
        "    valdf.drop(col,axis=1 , inplace=True)\n",
        "    testdf.drop(col,axis=1 , inplace=True)\n",
        "\n",
        "    return traindf,valdf ,testdf"
      ]
    },
    {
      "cell_type": "markdown",
      "id": "rI--ZuMbNLne",
      "metadata": {
        "id": "rI--ZuMbNLne"
      },
      "source": [
        "### Call the function by passing the column name which needed to be dropped from train, test and validation dataframes. Return updated dataframes to be stored in X_train ,X_val, X_test  \n",
        "\n",
        "- Note = Fill in the blank to complete the code "
      ]
    },
    {
      "cell_type": "code",
      "execution_count": 214,
      "id": "1a0f955c",
      "metadata": {
        "id": "1a0f955c"
      },
      "outputs": [],
      "source": [
        "X_train , X_val , X_test = custom(['business_code'])"
      ]
    },
    {
      "cell_type": "markdown",
      "id": "28b5b27e",
      "metadata": {
        "id": "28b5b27e"
      },
      "source": [
        "### Manually replacing str values with numbers, Here we are trying manually replace the customer numbers with some specific values like, 'CCCA' as 1, 'CCU' as 2 and so on. Also we are converting the datatype \"cust_number\" field to int type.\n",
        "\n",
        "- We are doing it for all the three dataframes as shown below. This is fully completed code. No need to modify anything here \n",
        "\n"
      ]
    },
    {
      "cell_type": "code",
      "execution_count": 215,
      "id": "85dd129e",
      "metadata": {
        "id": "85dd129e"
      },
      "outputs": [],
      "source": [
        "X_train['cust_number'] = X_train['cust_number'].str.replace('CCCA',\"1\").str.replace('CCU',\"2\").str.replace('CC',\"3\").astype(int)\n",
        "X_test['cust_number'] = X_test['cust_number'].str.replace('CCCA',\"1\").str.replace('CCU',\"2\").str.replace('CC',\"3\").astype(int)\n",
        "X_val['cust_number'] = X_val['cust_number'].str.replace('CCCA',\"1\").str.replace('CCU',\"2\").str.replace('CC',\"3\").astype(int)\n"
      ]
    },
    {
      "cell_type": "markdown",
      "id": "U8vA-zmdPnJ8",
      "metadata": {
        "id": "U8vA-zmdPnJ8"
      },
      "source": [
        "#### It differs from LabelEncoder by handling new classes and providing a value for it [Unknown]. Unknown will be added in fit and transform will take care of new item. It gives unknown class id.\n",
        "\n",
        "#### This will fit the encoder for all the unique values and introduce unknown value\n",
        "\n",
        "- Note - Keep this code as it is, we will be using this later on.  "
      ]
    },
    {
      "cell_type": "code",
      "execution_count": 216,
      "id": "151f48ba",
      "metadata": {
        "id": "151f48ba"
      },
      "outputs": [],
      "source": [
        "#For encoding unseen labels\n",
        "class EncoderExt(object):\n",
        "    def __init__(self):\n",
        "        self.label_encoder = LabelEncoder()\n",
        "    def fit(self, data_list):\n",
        "        self.label_encoder = self.label_encoder.fit(list(data_list) + ['Unknown'])\n",
        "        self.classes_ = self.label_encoder.classes_\n",
        "        return self\n",
        "    def transform(self, data_list):\n",
        "        new_data_list = list(data_list)\n",
        "        for unique_item in np.unique(data_list):\n",
        "            if unique_item not in self.label_encoder.classes_:\n",
        "                new_data_list = ['Unknown' if x==unique_item else x for x in new_data_list]\n",
        "        return self.label_encoder.transform(new_data_list)"
      ]
    },
    {
      "cell_type": "markdown",
      "id": "254c64e6",
      "metadata": {
        "id": "254c64e6"
      },
      "source": [
        "### Use the user define Label Encoder function called \"EncoderExt\" for the \"name_customer\" column\n",
        "\n",
        "- Note - Keep the code as it is, no need to change"
      ]
    },
    {
      "cell_type": "code",
      "execution_count": 217,
      "id": "62b17eff",
      "metadata": {
        "id": "62b17eff"
      },
      "outputs": [],
      "source": [
        "label_encoder = EncoderExt()\n",
        "label_encoder.fit(X_train['name_customer'])\n",
        "X_train['name_customer_enc']=label_encoder.transform(X_train['name_customer'])\n",
        "X_val['name_customer_enc']=label_encoder.transform(X_val['name_customer'])\n",
        "X_test['name_customer_enc']=label_encoder.transform(X_test['name_customer'])"
      ]
    },
    {
      "cell_type": "markdown",
      "id": "mK7LMoy2QZhy",
      "metadata": {
        "id": "mK7LMoy2QZhy"
      },
      "source": [
        "### As we have created the a new column \"name_customer_enc\", so now drop \"name_customer\" column from all three dataframes\n",
        "\n",
        "- Note - Keep the code as it is, no need to change"
      ]
    },
    {
      "cell_type": "code",
      "execution_count": 218,
      "id": "ef85f1c0",
      "metadata": {
        "id": "ef85f1c0"
      },
      "outputs": [],
      "source": [
        "X_train ,X_val, X_test = custom(['name_customer'])"
      ]
    },
    {
      "cell_type": "markdown",
      "id": "3aa09d22",
      "metadata": {
        "id": "3aa09d22"
      },
      "source": [
        "### Using Label Encoder for the \"cust_payment_terms\" column\n",
        "\n",
        "- Note - Keep the code as it is, no need to change"
      ]
    },
    {
      "cell_type": "code",
      "execution_count": 219,
      "id": "6f9ab642",
      "metadata": {
        "id": "6f9ab642"
      },
      "outputs": [],
      "source": [
        "label_encoder1 = EncoderExt()\n",
        "label_encoder1.fit(X_train['cust_payment_terms'])\n",
        "X_train['cust_payment_terms_enc']=label_encoder1.transform(X_train['cust_payment_terms'])\n",
        "X_val['cust_payment_terms_enc']=label_encoder1.transform(X_val['cust_payment_terms'])\n",
        "X_test['cust_payment_terms_enc']=label_encoder1.transform(X_test['cust_payment_terms'])"
      ]
    },
    {
      "cell_type": "code",
      "execution_count": 220,
      "id": "55f9a7c2",
      "metadata": {
        "id": "55f9a7c2"
      },
      "outputs": [],
      "source": [
        "X_train ,X_val, X_test = custom(['cust_payment_terms'])"
      ]
    },
    {
      "cell_type": "markdown",
      "id": "0788f42b",
      "metadata": {
        "id": "0788f42b"
      },
      "source": [
        "## Check the datatype of all the columns of Train, Test and Validation dataframes realted to X\n",
        "\n",
        "- Note - You are expected yo use dtype"
      ]
    },
    {
      "cell_type": "code",
      "execution_count": 221,
      "id": "bc79a316",
      "metadata": {
        "id": "bc79a316",
        "colab": {
          "base_uri": "https://localhost:8080/"
        },
        "outputId": "4b629a6a-d684-4dd7-962a-2236cbcffd6f"
      },
      "outputs": [
        {
          "output_type": "execute_result",
          "data": {
            "text/plain": [
              "cust_number                        int64\n",
              "buisness_year                    float64\n",
              "doc_id                           float64\n",
              "posting_date              datetime64[ns]\n",
              "due_in_date               datetime64[ns]\n",
              "baseline_create_date      datetime64[ns]\n",
              "converted_usd                    float64\n",
              "business_code_enc                  int64\n",
              "name_customer_enc                  int64\n",
              "cust_payment_terms_enc             int64\n",
              "dtype: object"
            ]
          },
          "metadata": {},
          "execution_count": 221
        }
      ],
      "source": [
        "X_test.dtypes"
      ]
    },
    {
      "cell_type": "code",
      "execution_count": 222,
      "id": "b33242d8",
      "metadata": {
        "id": "b33242d8",
        "colab": {
          "base_uri": "https://localhost:8080/"
        },
        "outputId": "816c948e-0875-40c1-c37c-604f0f08f6b5"
      },
      "outputs": [
        {
          "output_type": "execute_result",
          "data": {
            "text/plain": [
              "cust_number                        int64\n",
              "buisness_year                    float64\n",
              "doc_id                           float64\n",
              "posting_date              datetime64[ns]\n",
              "due_in_date               datetime64[ns]\n",
              "baseline_create_date      datetime64[ns]\n",
              "converted_usd                    float64\n",
              "business_code_enc                  int64\n",
              "name_customer_enc                  int64\n",
              "cust_payment_terms_enc             int64\n",
              "dtype: object"
            ]
          },
          "metadata": {},
          "execution_count": 222
        }
      ],
      "source": [
        "X_train.dtypes"
      ]
    },
    {
      "cell_type": "code",
      "execution_count": 223,
      "id": "6bd4da71",
      "metadata": {
        "id": "6bd4da71",
        "colab": {
          "base_uri": "https://localhost:8080/"
        },
        "outputId": "d529a4a0-4662-48d9-f7e3-b16df2e4aaee"
      },
      "outputs": [
        {
          "output_type": "execute_result",
          "data": {
            "text/plain": [
              "cust_number                        int64\n",
              "buisness_year                    float64\n",
              "doc_id                           float64\n",
              "posting_date              datetime64[ns]\n",
              "due_in_date               datetime64[ns]\n",
              "baseline_create_date      datetime64[ns]\n",
              "converted_usd                    float64\n",
              "business_code_enc                  int64\n",
              "name_customer_enc                  int64\n",
              "cust_payment_terms_enc             int64\n",
              "dtype: object"
            ]
          },
          "metadata": {},
          "execution_count": 223
        }
      ],
      "source": [
        "X_val.dtypes"
      ]
    },
    {
      "cell_type": "markdown",
      "id": "LVfvuPiWPeMB",
      "metadata": {
        "id": "LVfvuPiWPeMB"
      },
      "source": [
        "### From the above output you can notice their are multiple date columns with datetime format\n",
        "\n",
        "### In order to pass it into our model, we need to convert it into float format"
      ]
    },
    {
      "cell_type": "markdown",
      "id": "9d344db9",
      "metadata": {
        "id": "9d344db9"
      },
      "source": [
        "### You need to extract day, month and year from the \"posting_date\" column \n",
        "\n",
        "1.   Extract days from \"posting_date\" column and store it into a new column \"day_of_postingdate\" for train, test and validation dataset \n",
        "2.   Extract months from \"posting_date\" column and store it into a new column \"month_of_postingdate\" for train, test and validation dataset\n",
        "3.   Extract year from \"posting_date\" column and store it into a new column \"year_of_postingdate\" for train, test and validation dataset \n",
        "\n",
        "\n",
        "\n",
        "- Note - You are supposed yo use \n",
        "\n",
        "*   dt.day\n",
        "*   dt.month\n",
        "*   dt.year\n",
        "\n",
        "\n",
        "\n",
        "\n"
      ]
    },
    {
      "cell_type": "code",
      "execution_count": 224,
      "id": "6e3cdfd6",
      "metadata": {
        "id": "6e3cdfd6"
      },
      "outputs": [],
      "source": [
        "X_train['day_of_postingdate'] = X_train['posting_date'].dt.day\n",
        "X_train['month_of_postingdate'] = X_train['posting_date'].dt.month\n",
        "X_train['year_of_postingdate'] = X_train['posting_date'].dt.year\n",
        "\n",
        "X_val['day_of_postingdate'] = X_val['posting_date'].dt.day\n",
        "X_val['month_of_postingdate'] = X_val['posting_date'].dt.month\n",
        "X_val['year_of_postingdate'] = X_val['posting_date'].dt.year\n",
        "\n",
        "\n",
        "X_test['day_of_postingdate'] = X_test['posting_date'].dt.day\n",
        "X_test['month_of_postingdate'] = X_test['posting_date'].dt.month\n",
        "X_test['year_of_postingdate'] = X_test['posting_date'].dt.year\n",
        "\n"
      ]
    },
    {
      "cell_type": "markdown",
      "id": "GyI-F853Rxa7",
      "metadata": {
        "id": "GyI-F853Rxa7"
      },
      "source": [
        "### pass the \"posting_date\" column into the Custom function for train, test and validation dataset"
      ]
    },
    {
      "cell_type": "code",
      "execution_count": 225,
      "id": "FQHtQkrnRx_V",
      "metadata": {
        "id": "FQHtQkrnRx_V"
      },
      "outputs": [],
      "source": [
        "X_train ,X_val, X_test = custom(['posting_date'])"
      ]
    },
    {
      "cell_type": "markdown",
      "id": "GMnCaEcKReSw",
      "metadata": {
        "id": "GMnCaEcKReSw"
      },
      "source": [
        "### You need to extract day, month and year from the \"baseline_create_date\" column \n",
        "\n",
        "1.   Extract days from \"baseline_create_date\" column and store it into a new column \"day_of_createdate\" for train, test and validation dataset \n",
        "2.   Extract months from \"baseline_create_date\" column and store it into a new column \"month_of_createdate\" for train, test and validation dataset\n",
        "3.   Extract year from \"baseline_create_date\" column and store it into a new column \"year_of_createdate\" for train, test and validation dataset \n",
        "\n",
        "\n",
        "\n",
        "- Note - You are supposed yo use \n",
        "\n",
        "*   dt.day\n",
        "*   dt.month\n",
        "*   dt.year\n",
        "\n",
        "\n",
        "- Note - Do as it is been shown in the previous two code boxes"
      ]
    },
    {
      "cell_type": "markdown",
      "id": "ee4d83d0",
      "metadata": {
        "id": "ee4d83d0"
      },
      "source": [
        "### Extracting Day, Month, Year for 'baseline_create_date' column"
      ]
    },
    {
      "cell_type": "code",
      "execution_count": 226,
      "id": "32b240e1",
      "metadata": {
        "id": "32b240e1"
      },
      "outputs": [],
      "source": [
        "X_train['day_of_createdate'] = X_train['baseline_create_date'].dt.day\n",
        "X_train['month_of_createdate'] = X_train['baseline_create_date'].dt.month\n",
        "X_train['year_of_createdate'] = X_train['baseline_create_date'].dt.year\n",
        "\n",
        "X_val['day_of_createdate'] = X_val['baseline_create_date'].dt.day\n",
        "X_val['month_of_createdate'] = X_val['baseline_create_date'].dt.month\n",
        "X_val['year_of_createdate'] = X_val['baseline_create_date'].dt.year\n",
        "\n",
        "\n",
        "X_test['day_of_createdate'] = X_test['baseline_create_date'].dt.day\n",
        "X_test['month_of_createdate'] = X_test['baseline_create_date'].dt.month\n",
        "X_test['year_of_createdate'] = X_test['baseline_create_date'].dt.year"
      ]
    },
    {
      "cell_type": "markdown",
      "id": "cFgwkS5rSDDs",
      "metadata": {
        "id": "cFgwkS5rSDDs"
      },
      "source": [
        "### pass the \"baseline_create_date\" column into the Custom function for train, test and validation dataset"
      ]
    },
    {
      "cell_type": "code",
      "execution_count": 227,
      "id": "RGYa2BEQSDg3",
      "metadata": {
        "id": "RGYa2BEQSDg3"
      },
      "outputs": [],
      "source": [
        "X_train, X_val, X_test = custom(['baseline_create_date'])"
      ]
    },
    {
      "cell_type": "markdown",
      "id": "77c7a0df",
      "metadata": {
        "id": "77c7a0df"
      },
      "source": [
        "### You need to extract day, month and year from the \"due_in_date\" column \n",
        "\n",
        "1.   Extract days from \"due_in_date\" column and store it into a new column \"day_of_due\" for train, test and validation dataset \n",
        "2.   Extract months from \"due_in_date\" column and store it into a new column \"month_of_due\" for train, test and validation dataset\n",
        "3.   Extract year from \"due_in_date\" column and store it into a new column \"year_of_due\" for train, test and validation dataset \n",
        "\n",
        "\n",
        "\n",
        "- Note - You are supposed yo use \n",
        "\n",
        "*   dt.day\n",
        "*   dt.month\n",
        "*   dt.year\n",
        "\n",
        "- Note - Do as it is been shown in the previous code"
      ]
    },
    {
      "cell_type": "code",
      "execution_count": 228,
      "id": "5c745547",
      "metadata": {
        "id": "5c745547"
      },
      "outputs": [],
      "source": [
        "X_train['day_of_due'] = X_train['due_in_date'].dt.day\n",
        "X_train['month_of_due'] = X_train['due_in_date'].dt.month\n",
        "X_train['year_of_due'] = X_train['due_in_date'].dt.year\n",
        "\n",
        "X_val['day_of_due'] = X_val['due_in_date'].dt.day\n",
        "X_val['month_of_due'] = X_val['due_in_date'].dt.month\n",
        "X_val['year_of_due'] = X_val['due_in_date'].dt.year\n",
        "\n",
        "\n",
        "X_test['day_of_due'] = X_test['due_in_date'].dt.day\n",
        "X_test['month_of_due'] = X_test['due_in_date'].dt.month\n",
        "X_test['year_of_due'] = X_test['due_in_date'].dt.year"
      ]
    },
    {
      "cell_type": "markdown",
      "id": "FYLLzulGSvRd",
      "metadata": {
        "id": "FYLLzulGSvRd"
      },
      "source": [
        "pass the \"due_in_date\" column into the Custom function for train, test and validation dataset"
      ]
    },
    {
      "cell_type": "code",
      "execution_count": 229,
      "id": "1-s6QuY9Svrh",
      "metadata": {
        "id": "1-s6QuY9Svrh"
      },
      "outputs": [],
      "source": [
        "X_train, X_val, X_test = custom(['due_in_date'])"
      ]
    },
    {
      "cell_type": "markdown",
      "id": "1ae5d052",
      "metadata": {
        "id": "1ae5d052"
      },
      "source": [
        "### Check for the datatypes for train, test and validation set again\n",
        "\n",
        "- Note - all the data type should be in either int64 or float64 format \n"
      ]
    },
    {
      "cell_type": "code",
      "execution_count": 230,
      "id": "aee9d828",
      "metadata": {
        "id": "aee9d828",
        "colab": {
          "base_uri": "https://localhost:8080/"
        },
        "outputId": "080c940c-ee42-4c0e-fb26-43eb9697f252"
      },
      "outputs": [
        {
          "output_type": "execute_result",
          "data": {
            "text/plain": [
              "cust_number                 int64\n",
              "buisness_year             float64\n",
              "doc_id                    float64\n",
              "converted_usd             float64\n",
              "business_code_enc           int64\n",
              "name_customer_enc           int64\n",
              "cust_payment_terms_enc      int64\n",
              "day_of_postingdate          int64\n",
              "month_of_postingdate        int64\n",
              "year_of_postingdate         int64\n",
              "day_of_createdate           int64\n",
              "month_of_createdate         int64\n",
              "year_of_createdate          int64\n",
              "day_of_due                  int64\n",
              "month_of_due                int64\n",
              "year_of_due                 int64\n",
              "dtype: object"
            ]
          },
          "metadata": {},
          "execution_count": 230
        }
      ],
      "source": [
        "X_train.dtypes"
      ]
    },
    {
      "cell_type": "code",
      "execution_count": 231,
      "id": "2b6c8598",
      "metadata": {
        "colab": {
          "base_uri": "https://localhost:8080/"
        },
        "id": "2b6c8598",
        "outputId": "03748fa6-6108-4ea2-ad86-2495065659c2"
      },
      "outputs": [
        {
          "output_type": "execute_result",
          "data": {
            "text/plain": [
              "cust_number                 int64\n",
              "buisness_year             float64\n",
              "doc_id                    float64\n",
              "converted_usd             float64\n",
              "business_code_enc           int64\n",
              "name_customer_enc           int64\n",
              "cust_payment_terms_enc      int64\n",
              "day_of_postingdate          int64\n",
              "month_of_postingdate        int64\n",
              "year_of_postingdate         int64\n",
              "day_of_createdate           int64\n",
              "month_of_createdate         int64\n",
              "year_of_createdate          int64\n",
              "day_of_due                  int64\n",
              "month_of_due                int64\n",
              "year_of_due                 int64\n",
              "dtype: object"
            ]
          },
          "metadata": {},
          "execution_count": 231
        }
      ],
      "source": [
        "X_test.dtypes"
      ]
    },
    {
      "cell_type": "code",
      "execution_count": 232,
      "id": "4709b059",
      "metadata": {
        "colab": {
          "base_uri": "https://localhost:8080/"
        },
        "id": "4709b059",
        "outputId": "2c993e02-366c-41bf-b535-b165ed588216"
      },
      "outputs": [
        {
          "output_type": "execute_result",
          "data": {
            "text/plain": [
              "cust_number                 int64\n",
              "buisness_year             float64\n",
              "doc_id                    float64\n",
              "converted_usd             float64\n",
              "business_code_enc           int64\n",
              "name_customer_enc           int64\n",
              "cust_payment_terms_enc      int64\n",
              "day_of_postingdate          int64\n",
              "month_of_postingdate        int64\n",
              "year_of_postingdate         int64\n",
              "day_of_createdate           int64\n",
              "month_of_createdate         int64\n",
              "year_of_createdate          int64\n",
              "day_of_due                  int64\n",
              "month_of_due                int64\n",
              "year_of_due                 int64\n",
              "dtype: object"
            ]
          },
          "metadata": {},
          "execution_count": 232
        }
      ],
      "source": [
        "X_val.dtypes"
      ]
    },
    {
      "cell_type": "markdown",
      "id": "65810f55",
      "metadata": {
        "id": "65810f55"
      },
      "source": [
        "# Feature Selection"
      ]
    },
    {
      "cell_type": "markdown",
      "id": "4bb1ad9f",
      "metadata": {
        "id": "4bb1ad9f"
      },
      "source": [
        "### Filter Method\n",
        "\n",
        "- Calling the VarianceThreshold Function \n",
        "- Note - Keep the code as it is, no need to change "
      ]
    },
    {
      "cell_type": "code",
      "execution_count": 233,
      "id": "e882509f",
      "metadata": {
        "id": "e882509f",
        "colab": {
          "base_uri": "https://localhost:8080/"
        },
        "outputId": "818d9ff9-721c-4c81-d74b-9f61c8b622fb"
      },
      "outputs": [
        {
          "output_type": "execute_result",
          "data": {
            "text/plain": [
              "16"
            ]
          },
          "metadata": {},
          "execution_count": 233
        }
      ],
      "source": [
        "from sklearn.feature_selection import VarianceThreshold\n",
        "constant_filter = VarianceThreshold(threshold=0)\n",
        "constant_filter.fit(X_train)\n",
        "len(X_train.columns[constant_filter.get_support()])"
      ]
    },
    {
      "cell_type": "markdown",
      "id": "V9531H3jR-W2",
      "metadata": {
        "id": "V9531H3jR-W2"
      },
      "source": [
        "- Note - Keep the code as it is, no need to change \n"
      ]
    },
    {
      "cell_type": "code",
      "execution_count": 234,
      "id": "c77c12e1",
      "metadata": {
        "id": "c77c12e1",
        "colab": {
          "base_uri": "https://localhost:8080/"
        },
        "outputId": "1fa0b7dc-c56c-47ca-e00b-8d5ece863701"
      },
      "outputs": [
        {
          "output_type": "stream",
          "name": "stdout",
          "text": [
            "0\n"
          ]
        }
      ],
      "source": [
        "constant_columns = [column for column in X_train.columns\n",
        "                    if column not in X_train.columns[constant_filter.get_support()]]\n",
        "print(len(constant_columns))"
      ]
    },
    {
      "cell_type": "markdown",
      "id": "6d9b8610",
      "metadata": {
        "id": "6d9b8610"
      },
      "source": [
        "- transpose the feature matrice\n",
        "- print the number of duplicated features\n",
        "- select the duplicated features columns names\n",
        "\n",
        "- Note - Keep the code as it is, no need to change \n"
      ]
    },
    {
      "cell_type": "code",
      "execution_count": 235,
      "id": "0fb7db95",
      "metadata": {
        "id": "0fb7db95",
        "colab": {
          "base_uri": "https://localhost:8080/"
        },
        "outputId": "5f6e6b9a-700b-4ac1-e7af-3dcb0b80c2c7"
      },
      "outputs": [
        {
          "output_type": "stream",
          "name": "stdout",
          "text": [
            "0\n"
          ]
        }
      ],
      "source": [
        "x_train_T = X_train.T\n",
        "print(x_train_T.duplicated().sum())\n",
        "duplicated_columns = x_train_T[x_train_T.duplicated()].index.values"
      ]
    },
    {
      "cell_type": "markdown",
      "id": "510fa831",
      "metadata": {
        "id": "510fa831"
      },
      "source": [
        "### Filtering depending upon correlation matrix value\n",
        "- We have created a function called handling correlation which is going to return fields based on the correlation matrix value with a threshold of 0.8\n",
        "\n",
        "- Note - Keep the code as it is, no need to change "
      ]
    },
    {
      "cell_type": "code",
      "execution_count": 236,
      "id": "67731abc",
      "metadata": {
        "id": "67731abc"
      },
      "outputs": [],
      "source": [
        "def handling_correlation(X_train,threshold=0.8):\n",
        "    corr_features = set()\n",
        "    corr_matrix = X_train.corr()\n",
        "    for i in range(len(corr_matrix .columns)):\n",
        "        for j in range(i):\n",
        "            if abs(corr_matrix.iloc[i, j]) >threshold:\n",
        "                colname = corr_matrix.columns[i]\n",
        "                corr_features.add(colname)\n",
        "    return list(corr_features)"
      ]
    },
    {
      "cell_type": "markdown",
      "id": "JaE_6qVgSXl3",
      "metadata": {
        "id": "JaE_6qVgSXl3"
      },
      "source": [
        "- Note : Here we are trying to find out the relevant fields, from X_train\n",
        "- Please fill in the blanks to call handling_correlation() function with a threshold value of 0.85"
      ]
    },
    {
      "cell_type": "code",
      "execution_count": 237,
      "id": "dd91d1a2",
      "metadata": {
        "id": "dd91d1a2",
        "colab": {
          "base_uri": "https://localhost:8080/"
        },
        "outputId": "eea94de2-5772-449d-b965-8a651c1cfe9b"
      },
      "outputs": [
        {
          "output_type": "execute_result",
          "data": {
            "text/plain": [
              "['month_of_due',\n",
              " 'year_of_postingdate',\n",
              " 'month_of_createdate',\n",
              " 'year_of_due',\n",
              " 'year_of_createdate',\n",
              " 'day_of_createdate']"
            ]
          },
          "metadata": {},
          "execution_count": 237
        }
      ],
      "source": [
        "train=X_train.copy()\n",
        "handling_correlation(train.copy(),0.85)"
      ]
    },
    {
      "cell_type": "markdown",
      "id": "154da511",
      "metadata": {
        "id": "154da511"
      },
      "source": [
        "### Heatmap for X_train\n",
        "\n",
        "- Note - Keep the code as it is, no need to change"
      ]
    },
    {
      "cell_type": "code",
      "execution_count": 238,
      "id": "2e8f2fe4",
      "metadata": {
        "id": "2e8f2fe4",
        "colab": {
          "base_uri": "https://localhost:8080/",
          "height": 859
        },
        "outputId": "a2ff7615-e218-452e-b9dc-51fa724993d6"
      },
      "outputs": [
        {
          "output_type": "execute_result",
          "data": {
            "text/plain": [
              "<matplotlib.axes._subplots.AxesSubplot at 0x7fc192a59f90>"
            ]
          },
          "metadata": {},
          "execution_count": 238
        },
        {
          "output_type": "display_data",
          "data": {
            "text/plain": [
              "<Figure size 1008x864 with 2 Axes>"
            ],
            "image/png": "[encoded data removed]"
          },
          "metadata": {
            "needs_background": "light"
          }
        }
      ],
      "source": [
        "colormap = plt.cm.RdBu\n",
        "plt.figure(figsize=(14,12))\n",
        "plt.title('Pearson Correlation of Features', y=1.05, size=20)\n",
        "sns.heatmap(X_train.merge(y_train , on = X_train.index ).corr(),linewidths=0.1,vmax=1.0, \n",
        "            square=True, cmap='gist_rainbow_r', linecolor='white', annot=True)"
      ]
    },
    {
      "cell_type": "markdown",
      "id": "e3b0d745",
      "metadata": {
        "id": "e3b0d745"
      },
      "source": [
        "#### Calling variance threshold for threshold value = 0.8\n",
        "\n",
        "- Note -  Fill in the blanks to call the appropriate method"
      ]
    },
    {
      "cell_type": "code",
      "execution_count": 239,
      "id": "a9b2080f",
      "metadata": {
        "id": "a9b2080f",
        "colab": {
          "base_uri": "https://localhost:8080/"
        },
        "outputId": "c7b6ab68-e3cb-40ae-b1da-895ddced6e7b"
      },
      "outputs": [
        {
          "output_type": "execute_result",
          "data": {
            "text/plain": [
              "VarianceThreshold(threshold=0.8)"
            ]
          },
          "metadata": {},
          "execution_count": 239
        }
      ],
      "source": [
        "from sklearn.feature_selection import VarianceThreshold\n",
        "sel =VarianceThreshold(0.8)\n",
        "sel.fit(X_train)"
      ]
    },
    {
      "cell_type": "code",
      "execution_count": 240,
      "id": "6cb8c3dc",
      "metadata": {
        "id": "6cb8c3dc",
        "colab": {
          "base_uri": "https://localhost:8080/"
        },
        "outputId": "2fce8c8b-01cf-41b0-c91e-5d2afe89c053"
      },
      "outputs": [
        {
          "output_type": "execute_result",
          "data": {
            "text/plain": [
              "array([1.78437988e+15, 1.14287386e-01, 8.52276084e+16, 1.30961128e+09,\n",
              "       2.84272202e-01, 1.04216346e+06, 1.25447491e+02, 7.60786961e+01,\n",
              "       1.22874229e+01, 1.14755196e-01, 7.75571817e+01, 1.22931494e+01,\n",
              "       1.14862166e-01, 7.63190394e+01, 1.21124183e+01, 1.17451555e-01])"
            ]
          },
          "metadata": {},
          "execution_count": 240
        }
      ],
      "source": [
        "sel.variances_"
      ]
    },
    {
      "cell_type": "markdown",
      "id": "62633a84",
      "metadata": {
        "id": "62633a84"
      },
      "source": [
        "### Features columns are \n",
        "- 'year_of_createdate' \n",
        "- 'year_of_due'\n",
        "- 'day_of_createdate'\n",
        "- 'year_of_postingdate'\n",
        "- 'month_of_due'\n",
        "- 'month_of_createdate'"
      ]
    },
    {
      "cell_type": "markdown",
      "id": "651f1ad0",
      "metadata": {
        "id": "651f1ad0"
      },
      "source": [
        "# Modelling \n",
        "\n",
        "#### Now you need to compare with different machine learning models, and needs to find out the best predicted model\n",
        "\n",
        "- Linear Regression\n",
        "- Decision Tree Regression\n",
        "- Random Forest Regression\n",
        "- Support Vector Regression\n",
        "- Extreme Gradient Boost Regression "
      ]
    },
    {
      "cell_type": "markdown",
      "id": "PicEhSuUUOkt",
      "metadata": {
        "id": "PicEhSuUUOkt"
      },
      "source": [
        "### You need to make different blank list for different evaluation matrix \n",
        "\n",
        "- MSE\n",
        "- R2\n",
        "- Algorithm"
      ]
    },
    {
      "cell_type": "code",
      "execution_count": 241,
      "id": "701e12b0",
      "metadata": {
        "id": "701e12b0"
      },
      "outputs": [],
      "source": [
        "MSE_Score = []\n",
        "R2_Score = []\n",
        "Algorithm = []\n",
        "from sklearn.metrics import mean_squared_error\n",
        "from sklearn.metrics import r2_score"
      ]
    },
    {
      "cell_type": "markdown",
      "id": "29310119",
      "metadata": {
        "id": "29310119"
      },
      "source": [
        "### You need to start with the baseline model Linear Regression\n",
        "\n",
        "- Step 1 : Call the Linear Regression from sklearn library\n",
        "- Step 2 : make an object of Linear Regression \n",
        "- Step 3 : fit the X_train and y_train dataframe into the object \n",
        "- Step 4 : Predict the output by passing the X_test Dataset into predict function\n",
        "\n",
        "\n",
        "\n",
        "\n",
        "- Note - Append the Algorithm name into the algorithm list for tracking purpose"
      ]
    },
    {
      "cell_type": "code",
      "execution_count": 242,
      "id": "6bdea395",
      "metadata": {
        "id": "6bdea395"
      },
      "outputs": [],
      "source": [
        "from sklearn.linear_model import LinearRegression\n",
        "Algorithm.append('LinearRegression')\n",
        "regressor = LinearRegression()\n",
        "regressor.fit(X_train, y_train)\n",
        "predicted= regressor.predict(X_test)"
      ]
    },
    {
      "cell_type": "markdown",
      "id": "G02cpnBhXJ14",
      "metadata": {
        "id": "G02cpnBhXJ14"
      },
      "source": [
        "### Check for the \n",
        "\n",
        "- Mean Square Error\n",
        "- R Square Error \n",
        "\n",
        "for y_test and predicted dataset and store those data inside respective list for comparison "
      ]
    },
    {
      "cell_type": "code",
      "execution_count": 243,
      "id": "0f69ca19",
      "metadata": {
        "id": "0f69ca19"
      },
      "outputs": [],
      "source": [
        "MSE_Score.append(mean_squared_error(y_test, predicted))\n",
        "R2_Score.append(r2_score(y_test, predicted))"
      ]
    },
    {
      "cell_type": "markdown",
      "id": "CsmScbHjYMv1",
      "metadata": {
        "id": "CsmScbHjYMv1"
      },
      "source": [
        "### Check the same for the Validation set also "
      ]
    },
    {
      "cell_type": "code",
      "execution_count": 244,
      "id": "fe653295",
      "metadata": {
        "colab": {
          "base_uri": "https://localhost:8080/"
        },
        "id": "fe653295",
        "outputId": "0c269ae9-e8ef-4e95-9928-75a970baa010"
      },
      "outputs": [
        {
          "output_type": "execute_result",
          "data": {
            "text/plain": [
              "541589.3149339352"
            ]
          },
          "metadata": {},
          "execution_count": 244
        }
      ],
      "source": [
        "predict_test= regressor.predict(X_val)\n",
        "mean_squared_error(y_val, predict_test, squared=False)"
      ]
    },
    {
      "cell_type": "markdown",
      "id": "LokxV2LGYUVh",
      "metadata": {
        "id": "LokxV2LGYUVh"
      },
      "source": [
        "### Display The Comparison Lists"
      ]
    },
    {
      "cell_type": "code",
      "execution_count": 245,
      "id": "9c405bd3",
      "metadata": {
        "colab": {
          "base_uri": "https://localhost:8080/"
        },
        "id": "9c405bd3",
        "outputId": "7e1dba62-821a-4ca2-a63d-89d6b095c062"
      },
      "outputs": [
        {
          "output_type": "stream",
          "name": "stdout",
          "text": [
            "['LinearRegression'],[309674244161.9124],[0.35139674092553264],"
          ]
        }
      ],
      "source": [
        "for i in Algorithm, MSE_Score, R2_Score:\n",
        "    print(i,end=',')"
      ]
    },
    {
      "cell_type": "markdown",
      "id": "b0e65c86",
      "metadata": {
        "id": "b0e65c86"
      },
      "source": [
        "### You need to start with the baseline model Support Vector Regression\n",
        "\n",
        "- Step 1 : Call the Support Vector Regressor from sklearn library\n",
        "- Step 2 : make an object of SVR\n",
        "- Step 3 : fit the X_train and y_train dataframe into the object \n",
        "- Step 4 : Predict the output by passing the X_test Dataset into predict function\n",
        "\n",
        "\n",
        "\n",
        "\n",
        "- Note - Append the Algorithm name into the algorithm list for tracking purpose"
      ]
    },
    {
      "cell_type": "code",
      "execution_count": 246,
      "id": "ccb5de08",
      "metadata": {
        "id": "ccb5de08"
      },
      "outputs": [],
      "source": [
        "Algorithm.append('Support Vector Regression')\n",
        "regressor_1 = SVR()\n",
        "regressor_1.fit(X_train, y_train)\n",
        "predicted_1= regressor_1.predict(X_test)"
      ]
    },
    {
      "cell_type": "markdown",
      "id": "zz9kcrViYt7e",
      "metadata": {
        "id": "zz9kcrViYt7e"
      },
      "source": [
        "### Check for the \n",
        "\n",
        "- Mean Square Error\n",
        "- R Square Error \n",
        "\n",
        "for \"y_test\" and \"predicted\" dataset and store those data inside respective list for comparison "
      ]
    },
    {
      "cell_type": "code",
      "execution_count": 247,
      "id": "5bb9db76",
      "metadata": {
        "id": "5bb9db76"
      },
      "outputs": [],
      "source": [
        "MSE_Score.append(mean_squared_error(y_test, predicted_1))\n",
        "R2_Score.append(r2_score(y_test, predicted_1))"
      ]
    },
    {
      "cell_type": "markdown",
      "id": "0YAxd8N9Y0hJ",
      "metadata": {
        "id": "0YAxd8N9Y0hJ"
      },
      "source": [
        "### Check the same for the Validation set also "
      ]
    },
    {
      "cell_type": "code",
      "execution_count": null,
      "id": "d6ee71b1",
      "metadata": {
        "id": "d6ee71b1"
      },
      "outputs": [],
      "source": [
        "predict_test1= regressor_1.predict(X_val)\n",
        "mean_squared_error(y_val, predict_test1, squared=False)"
      ]
    },
    {
      "cell_type": "markdown",
      "id": "eGcqS5EcY4BI",
      "metadata": {
        "id": "eGcqS5EcY4BI"
      },
      "source": [
        "### Display The Comparison Lists"
      ]
    },
    {
      "cell_type": "code",
      "execution_count": null,
      "id": "aa72c1ec",
      "metadata": {
        "id": "aa72c1ec"
      },
      "outputs": [],
      "source": [
        "for i in Algorithm, MSE_Score, R2_Score:\n",
        "    print(i,end=',')"
      ]
    },
    {
      "cell_type": "markdown",
      "id": "dad18bb3",
      "metadata": {
        "id": "dad18bb3"
      },
      "source": [
        "### Your next model would be Decision Tree Regression\n",
        "\n",
        "- Step 1 : Call the Decision Tree Regressor from sklearn library\n",
        "- Step 2 : make an object of Decision Tree\n",
        "- Step 3 : fit the X_train and y_train dataframe into the object \n",
        "- Step 4 : Predict the output by passing the X_test Dataset into predict function\n",
        "\n",
        "\n",
        "\n",
        "\n",
        "- Note - Append the Algorithm name into the algorithm list for tracking purpose"
      ]
    },
    {
      "cell_type": "code",
      "execution_count": null,
      "id": "1b6a51eb",
      "metadata": {
        "id": "1b6a51eb"
      },
      "outputs": [],
      "source": [
        "from sklearn.tree import DecisionTreeRegressor as DTR\n",
        "Algorithm.append('Decision Tree Regression')\n",
        "regressor_2 = DTR()\n",
        "regressor_2.fit(X_train, y_train)\n",
        "predicted_2= regressor_2.predict(X_test)"
      ]
    },
    {
      "cell_type": "markdown",
      "id": "AOzfgfeOZo3F",
      "metadata": {
        "id": "AOzfgfeOZo3F"
      },
      "source": [
        "### Check for the \n",
        "\n",
        "- Mean Square Error\n",
        "- R Square Error \n",
        "\n",
        "for y_test and predicted dataset and store those data inside respective list for comparison "
      ]
    },
    {
      "cell_type": "code",
      "execution_count": null,
      "id": "776e6983",
      "metadata": {
        "id": "776e6983"
      },
      "outputs": [],
      "source": [
        "MSE_Score.append(mean_squared_error(y_test, predicted_2))\n",
        "R2_Score.append(r2_score(y_test, predicted_2))"
      ]
    },
    {
      "cell_type": "markdown",
      "id": "eI6d49DQZrhW",
      "metadata": {
        "id": "eI6d49DQZrhW"
      },
      "source": [
        "### Check the same for the Validation set also "
      ]
    },
    {
      "cell_type": "code",
      "execution_count": null,
      "id": "155fb55c",
      "metadata": {
        "id": "155fb55c"
      },
      "outputs": [],
      "source": [
        "predict_test2= regressor_2.predict(X_val)\n",
        "mean_squared_error(y_val, predict_test2, squared=False)"
      ]
    },
    {
      "cell_type": "markdown",
      "id": "sbGXvBLQZw5E",
      "metadata": {
        "id": "sbGXvBLQZw5E"
      },
      "source": [
        "### Display The Comparison Lists"
      ]
    },
    {
      "cell_type": "code",
      "execution_count": null,
      "id": "1d74d515",
      "metadata": {
        "id": "1d74d515"
      },
      "outputs": [],
      "source": [
        "for i in Algorithm, MSE_Score, R2_Score:\n",
        "    print(i,end=',')"
      ]
    },
    {
      "cell_type": "markdown",
      "id": "4ae9979b",
      "metadata": {
        "id": "4ae9979b"
      },
      "source": [
        "### Your next model would be Random Forest Regression\n",
        "\n",
        "- Step 1 : Call the Random Forest Regressor from sklearn library\n",
        "- Step 2 : make an object of Random Forest\n",
        "- Step 3 : fit the X_train and y_train dataframe into the object \n",
        "- Step 4 : Predict the output by passing the X_test Dataset into predict function\n",
        "\n",
        "\n",
        "\n",
        "\n",
        "- Note - Append the Algorithm name into the algorithm list for tracking purpose"
      ]
    },
    {
      "cell_type": "code",
      "execution_count": null,
      "id": "a69e476a",
      "metadata": {
        "id": "a69e476a"
      },
      "outputs": [],
      "source": [
        "from sklearn.ensemble import RandomForestRegressor as RFR\n",
        "Algorithm.append('Random Forest Regression')\n",
        "regressor_3 = RFR()\n",
        "regressor_3.fit(X_train, y_train)\n",
        "predicted_3= regressor_3.predict(X_test)"
      ]
    },
    {
      "cell_type": "markdown",
      "id": "XNcEJF-6anof",
      "metadata": {
        "id": "XNcEJF-6anof"
      },
      "source": [
        "### Check for the \n",
        "\n",
        "- Mean Square Error\n",
        "- R Square Error \n",
        "\n",
        "for y_test and predicted dataset and store those data inside respective list for comparison "
      ]
    },
    {
      "cell_type": "code",
      "execution_count": null,
      "id": "826f63f4",
      "metadata": {
        "id": "826f63f4"
      },
      "outputs": [],
      "source": [
        "MSE_Score.append(mean_squared_error(y_test, predicted_3))\n",
        "R2_Score.append(r2_score(y_test, predicted_3))"
      ]
    },
    {
      "cell_type": "markdown",
      "id": "yMbyr9V4ati1",
      "metadata": {
        "id": "yMbyr9V4ati1"
      },
      "source": [
        "### Check the same for the Validation set also "
      ]
    },
    {
      "cell_type": "code",
      "execution_count": null,
      "id": "55b9fb54",
      "metadata": {
        "id": "55b9fb54"
      },
      "outputs": [],
      "source": [
        "predict_test3= regressor_3.predict(X_val)\n",
        "mean_squared_error(y_val, predict_test3, squared=False)"
      ]
    },
    {
      "cell_type": "markdown",
      "id": "tiBawcCsaw_Z",
      "metadata": {
        "id": "tiBawcCsaw_Z"
      },
      "source": [
        "### Display The Comparison Lists\n"
      ]
    },
    {
      "cell_type": "code",
      "execution_count": null,
      "id": "8277c13e",
      "metadata": {
        "id": "8277c13e"
      },
      "outputs": [],
      "source": [
        "for i in Algorithm, MSE_Score, R2_Score:\n",
        "    print(i,end=',')"
      ]
    },
    {
      "cell_type": "markdown",
      "id": "e6b21881",
      "metadata": {
        "id": "e6b21881"
      },
      "source": [
        "### The last but not the least model would be XGBoost or Extreme Gradient Boost Regression\n",
        "\n",
        "- Step 1 : Call the XGBoost Regressor from xgb library\n",
        "- Step 2 : make an object of Xgboost\n",
        "- Step 3 : fit the X_train and y_train dataframe into the object \n",
        "- Step 4 : Predict the output by passing the X_test Dataset into predict function\n",
        "\n",
        "\n",
        "\n",
        "\n",
        "- Note - Append the Algorithm name into the algorithm list for tracking purpose### Extreme Gradient Boost Regression\n",
        "- Note -  No need to change the code "
      ]
    },
    {
      "cell_type": "code",
      "execution_count": null,
      "id": "705a38ec",
      "metadata": {
        "id": "705a38ec"
      },
      "outputs": [],
      "source": [
        "import xgboost as xgb\n",
        "Algorithm.append('XGB Regressor')\n",
        "regressor_4 = xgb.XGBRegressor()\n",
        "regressor_4.fit(X_train, y_train)\n",
        "predicted_4 = regressor_4.predict(X_test)"
      ]
    },
    {
      "cell_type": "markdown",
      "id": "ierNZkb9bQDD",
      "metadata": {
        "id": "ierNZkb9bQDD"
      },
      "source": [
        "### Check for the \n",
        "\n",
        "- Mean Square Error\n",
        "- R Square Error \n",
        "\n",
        "for y_test and predicted dataset and store those data inside respective list for comparison "
      ]
    },
    {
      "cell_type": "code",
      "execution_count": null,
      "id": "507a9d2f",
      "metadata": {
        "id": "507a9d2f"
      },
      "outputs": [],
      "source": [
        "MSE_Score.append(mean_squared_error(y_test, predicted_4))\n",
        "R2_Score.append(r2_score(y_test, predicted_4))"
      ]
    },
    {
      "cell_type": "markdown",
      "id": "84UZ2ojsbWaH",
      "metadata": {
        "id": "84UZ2ojsbWaH"
      },
      "source": [
        "### Check the same for the Validation set also "
      ]
    },
    {
      "cell_type": "code",
      "execution_count": null,
      "id": "e78ac250",
      "metadata": {
        "id": "e78ac250"
      },
      "outputs": [],
      "source": [
        "predict_test4= regressor_4.predict(X_val)\n",
        "mean_squared_error(y_val, predict_test4, squared=False)"
      ]
    },
    {
      "cell_type": "markdown",
      "id": "9FJFyaVbbbAH",
      "metadata": {
        "id": "9FJFyaVbbbAH"
      },
      "source": [
        "### Display The Comparison Lists\n"
      ]
    },
    {
      "cell_type": "code",
      "execution_count": null,
      "id": "f765ba35",
      "metadata": {
        "id": "f765ba35"
      },
      "outputs": [],
      "source": [
        "for i in Algorithm, MSE_Score, R2_Score:\n",
        "    print(i,end=',')"
      ]
    },
    {
      "cell_type": "markdown",
      "id": "a71bc90f",
      "metadata": {
        "id": "a71bc90f"
      },
      "source": [
        "## You need to make the comparison list into a comparison dataframe "
      ]
    },
    {
      "cell_type": "code",
      "execution_count": null,
      "id": "ff5159a7",
      "metadata": {
        "id": "ff5159a7"
      },
      "outputs": [],
      "source": [
        "dictionary = {\n",
        "    'Algorithm':Algorithm,\n",
        "    'MSE_Score':MSE_Score,\n",
        "    'R2_Score':R2_Score,\n",
        "}\n",
        "data = pd.DataFrame(dictionary)\n",
        "data"
      ]
    },
    {
      "cell_type": "markdown",
      "id": "62e61c60",
      "metadata": {
        "id": "62e61c60"
      },
      "source": [
        "## Now from the Comparison table, you need to choose the best fit model\n",
        "\n",
        "- Step 1 - Fit X_train and y_train inside the model \n",
        "- Step 2 - Predict the X_test dataset\n",
        "- Step 3 - Predict the X_val dataset\n",
        "\n",
        "\n",
        "- Note - No need to change the code"
      ]
    },
    {
      "cell_type": "code",
      "execution_count": null,
      "id": "3e07c258",
      "metadata": {
        "id": "3e07c258"
      },
      "outputs": [],
      "source": [
        "regressorfinal = xgb.XGBRegressor()\n",
        "regressorfinal.fit(X_train, y_train)\n",
        "predictedfinal = regressorfinal.predict(X_test)\n",
        "predict_testfinal = regressorfinal.predict(X_val)"
      ]
    },
    {
      "cell_type": "markdown",
      "id": "8e4df6c4",
      "metadata": {
        "id": "8e4df6c4"
      },
      "source": [
        "### Calculate the Mean Square Error for test dataset\n",
        "\n",
        "- Note - No need to change the code"
      ]
    },
    {
      "cell_type": "code",
      "execution_count": null,
      "id": "5fb466d0",
      "metadata": {
        "id": "5fb466d0"
      },
      "outputs": [],
      "source": [
        "mean_squared_error(y_test,predictedfinal,squared=False)"
      ]
    },
    {
      "cell_type": "markdown",
      "id": "ce27f87f",
      "metadata": {
        "id": "ce27f87f"
      },
      "source": [
        "### Calculate the mean Square Error for validation dataset"
      ]
    },
    {
      "cell_type": "code",
      "execution_count": null,
      "id": "b47978ea",
      "metadata": {
        "id": "b47978ea"
      },
      "outputs": [],
      "source": [
        "mean_squared_error(y_val,predictedfinal,squared=False)"
      ]
    },
    {
      "cell_type": "markdown",
      "id": "30014dbd",
      "metadata": {
        "id": "30014dbd"
      },
      "source": [
        "### Calculate the R2 score for test"
      ]
    },
    {
      "cell_type": "code",
      "execution_count": null,
      "id": "8a162737",
      "metadata": {
        "id": "8a162737"
      },
      "outputs": [],
      "source": [
        "R2_Score.append(r2_score(y_test, predictedfinal))"
      ]
    },
    {
      "cell_type": "markdown",
      "id": "1c9853b0",
      "metadata": {
        "id": "1c9853b0"
      },
      "source": [
        "### Calculate the R2 score for Validation"
      ]
    },
    {
      "cell_type": "code",
      "execution_count": null,
      "id": "1a6dc77c",
      "metadata": {
        "id": "1a6dc77c"
      },
      "outputs": [],
      "source": [
        "R2_Score.append(r2_score(y_val, predictedfinal))"
      ]
    },
    {
      "cell_type": "markdown",
      "id": "499522d9",
      "metadata": {
        "id": "499522d9"
      },
      "source": [
        "### Calculate the Accuracy for train Dataset "
      ]
    },
    {
      "cell_type": "code",
      "execution_count": null,
      "id": "7a4f1ce8",
      "metadata": {
        "id": "7a4f1ce8"
      },
      "outputs": [],
      "source": [
        "train_model_accuracy = round(regressorfinal.score(X_train, y_train)*100,2)\n",
        "print(round(train_model_accuracy, 2), '%')"
      ]
    },
    {
      "cell_type": "markdown",
      "id": "12a1c921",
      "metadata": {
        "id": "12a1c921"
      },
      "source": [
        "### Calculate the accuracy for validation"
      ]
    },
    {
      "cell_type": "code",
      "execution_count": null,
      "id": "d2579b4f",
      "metadata": {
        "id": "d2579b4f"
      },
      "outputs": [],
      "source": [
        "val_model_accuracy = round(regressorfinal.score(X_val,y_val)*100,2)\n",
        "print(round(val_model_accuracy, 2), '%')"
      ]
    },
    {
      "cell_type": "markdown",
      "id": "79b82e84",
      "metadata": {
        "id": "79b82e84"
      },
      "source": [
        "### Calculate the accuracy for test"
      ]
    },
    {
      "cell_type": "code",
      "execution_count": null,
      "id": "f09e6431",
      "metadata": {
        "id": "f09e6431"
      },
      "outputs": [],
      "source": [
        "test_model_accuracy1 = round(regressorfinal.score(X_test, y_test)*100,2)\n",
        "print(round(test_model_accuracy1, 2), '%')"
      ]
    },
    {
      "cell_type": "markdown",
      "id": "9488a5d9",
      "metadata": {
        "id": "9488a5d9"
      },
      "source": [
        "## Specify the reason behind choosing your machine learning model \n",
        "\n",
        "- Note : Provide your answer as a text here"
      ]
    },
    {
      "cell_type": "markdown",
      "id": "387a6519",
      "metadata": {
        "id": "387a6519"
      },
      "source": [
        "## Now you need to pass the Nulldata dataframe into this machine learning model\n",
        "\n",
        "#### In order to pass this Nulldata dataframe into the ML model, we need to perform the following\n",
        "\n",
        "- Step 1 : Label Encoding \n",
        "- Step 2 : Day, Month and Year extraction \n",
        "- Step 3 : Change all the column data type into int64 or float64\n",
        "- Step 4 : Need to drop the useless columns "
      ]
    },
    {
      "cell_type": "markdown",
      "id": "I7JuxAkdiAdI",
      "metadata": {
        "id": "I7JuxAkdiAdI"
      },
      "source": [
        "### Display the Nulldata "
      ]
    },
    {
      "cell_type": "code",
      "execution_count": null,
      "id": "6d6a51d2",
      "metadata": {
        "id": "6d6a51d2"
      },
      "outputs": [],
      "source": [
        "nulldata"
      ]
    },
    {
      "cell_type": "markdown",
      "id": "Vamx5xqtiHCH",
      "metadata": {
        "id": "Vamx5xqtiHCH"
      },
      "source": [
        "### Check for the number of rows and columns in the nulldata"
      ]
    },
    {
      "cell_type": "code",
      "execution_count": null,
      "id": "59de1092",
      "metadata": {
        "id": "59de1092"
      },
      "outputs": [],
      "source": [
        "nulldata.shape"
      ]
    },
    {
      "cell_type": "markdown",
      "id": "BxzHNbBjpqXL",
      "metadata": {
        "id": "BxzHNbBjpqXL"
      },
      "source": [
        "### Check the Description and Information of the nulldata "
      ]
    },
    {
      "cell_type": "code",
      "execution_count": null,
      "id": "a6294d29",
      "metadata": {
        "id": "a6294d29"
      },
      "outputs": [],
      "source": [
        "nulldata.info()"
      ]
    },
    {
      "cell_type": "markdown",
      "id": "fe860d94",
      "metadata": {
        "id": "fe860d94"
      },
      "source": [
        "### Storing the Nulldata into a different dataset \n",
        "# for BACKUP"
      ]
    },
    {
      "cell_type": "code",
      "execution_count": null,
      "id": "16352034",
      "metadata": {
        "id": "16352034"
      },
      "outputs": [],
      "source": [
        "nulldatacopy = nulldata.copy()"
      ]
    },
    {
      "cell_type": "markdown",
      "id": "00f35b8c",
      "metadata": {
        "id": "00f35b8c"
      },
      "source": [
        "### Call the Label Encoder for Nulldata\n",
        "\n",
        "- Note - you are expected to fit \"business_code\" as it is a categorical variable\n",
        "- Note - No need to change the code"
      ]
    },
    {
      "cell_type": "code",
      "execution_count": null,
      "id": "baf04b17",
      "metadata": {
        "id": "baf04b17"
      },
      "outputs": [],
      "source": [
        "from sklearn.preprocessing import LabelEncoder\n",
        "business_codern = LabelEncoder()\n",
        "business_codern.fit(nulldata['business_code'])\n",
        "nulldata['business_code_enc'] = business_codern.transform(nulldata['business_code'])"
      ]
    },
    {
      "cell_type": "markdown",
      "id": "ZCPBK9karIR-",
      "metadata": {
        "id": "ZCPBK9karIR-"
      },
      "source": [
        "### Now you need to manually replacing str values with numbers\n",
        "- Note - No need to change the code"
      ]
    },
    {
      "cell_type": "code",
      "execution_count": null,
      "id": "c64924be",
      "metadata": {
        "id": "c64924be"
      },
      "outputs": [],
      "source": [
        "nulldata['cust_number'] = nulldata['cust_number'].str.replace('CCCA',\"1\").str.replace('CCU',\"2\").str.replace('CC',\"3\").astype(int)"
      ]
    },
    {
      "cell_type": "markdown",
      "id": "9a55f5f6",
      "metadata": {
        "id": "9a55f5f6"
      },
      "source": [
        "## You need to extract day, month and year from the \"clear_date\", \"posting_date\", \"due_in_date\", \"baseline_create_date\" columns\n",
        "\n",
        "\n",
        "##### 1.   Extract day from \"clear_date\" column and store it into 'day_of_cleardate'\n",
        "##### 2.   Extract month from \"clear_date\" column and store it into 'month_of_cleardate'\n",
        "##### 3.   Extract year from \"clear_date\" column and store it into 'year_of_cleardate'\n",
        "\n",
        "\n",
        "\n",
        "##### 4.   Extract day from \"posting_date\" column and store it into 'day_of_postingdate'\n",
        "##### 5.   Extract month from \"posting_date\" column and store it into 'month_of_postingdate'\n",
        "##### 6.   Extract year from \"posting_date\" column and store it into 'year_of_postingdate'\n",
        "\n",
        "\n",
        "\n",
        "\n",
        "##### 7.   Extract day from \"due_in_date\" column and store it into 'day_of_due'\n",
        "##### 8.   Extract month from \"due_in_date\" column and store it into 'month_of_due'\n",
        "##### 9.   Extract year from \"due_in_date\" column and store it into 'year_of_due'\n",
        "\n",
        "\n",
        "\n",
        "\n",
        "##### 10.   Extract day from \"baseline_create_date\" column and store it into 'day_of_createdate'\n",
        "##### 11.   Extract month from \"baseline_create_date\" column and store it into 'month_of_createdate'\n",
        "##### 12.   Extract year from \"baseline_create_date\" column and store it into 'year_of_createdate'\n",
        "\n",
        "\n",
        "\n",
        "\n",
        "- Note - You are supposed To use - \n",
        "\n",
        "*   dt.day\n",
        "*   dt.month\n",
        "*   dt.year"
      ]
    },
    {
      "cell_type": "code",
      "execution_count": null,
      "id": "4166fbe4",
      "metadata": {
        "id": "4166fbe4"
      },
      "outputs": [],
      "source": [
        "nulldata['day_of_cleardate'] = nulldata['clear_date'].dt.day\n",
        "nulldata['month_of_cleardate'] = nulldata['clear_date'].dt.month\n",
        "nulldata['year_of_cleardate'] = nulldata['clear_date'].dt.year\n",
        "nulldata['day_of_postingdate'] = nulldata['posting_date'].dt.day\n",
        "nulldata['month_of_postingdate'] = nulldata['posting_date'].dt.month\n",
        "nulldata['year_of_postingdate'] = nulldata['posting_date'].dt.year\n",
        "nulldata['day_of_due'] = nulldata['due_in_date'].dt.day\n",
        "nulldata['month_of_due'] = nulldata['due_in_date'].dt.month\n",
        "nulldata['year_of_due'] = nulldata['due_in_date'].dt.year\n",
        "nulldata['day_of_createdate'] = nulldata['baseline_create_date'].dt.day\n",
        "nulldata['month_of_createdate'] = nulldata['baseline_create_date'].dt.month\n",
        "nulldata['year_of_createdate'] = nulldata['baseline_create_date'].dt.year"
      ]
    },
    {
      "cell_type": "markdown",
      "id": "QeHWJYrAvOC6",
      "metadata": {
        "id": "QeHWJYrAvOC6"
      },
      "source": [
        "### Use Label Encoder1 of all the following columns - \n",
        "- 'cust_payment_terms' and store into 'cust_payment_terms_enc'\n",
        "- 'business_code' and store into 'business_code_enc'\n",
        "- 'name_customer' and store into 'name_customer_enc'\n",
        "\n",
        "Note - No need to change the code"
      ]
    },
    {
      "cell_type": "code",
      "execution_count": null,
      "id": "bac330e2",
      "metadata": {
        "id": "bac330e2"
      },
      "outputs": [],
      "source": [
        "nulldata['cust_payment_terms_enc']=label_encoder1.transform(nulldata['cust_payment_terms'])\n",
        "nulldata['business_code_enc']=label_encoder1.transform(nulldata['business_code'])\n",
        "nulldata['name_customer_enc']=label_encoder.transform(nulldata['name_customer'])\n"
      ]
    },
    {
      "cell_type": "markdown",
      "id": "zD9I-XqQwC28",
      "metadata": {
        "id": "zD9I-XqQwC28"
      },
      "source": [
        "### Check for the datatypes of all the columns of Nulldata"
      ]
    },
    {
      "cell_type": "code",
      "execution_count": null,
      "id": "d4f72517",
      "metadata": {
        "id": "d4f72517"
      },
      "outputs": [],
      "source": [
        "nulldata.dtypes"
      ]
    },
    {
      "cell_type": "markdown",
      "id": "17cd5452",
      "metadata": {
        "id": "17cd5452"
      },
      "source": [
        "### Now you need to drop all the unnecessary columns - \n",
        "\n",
        "- 'business_code'\n",
        "- \"baseline_create_date\"\n",
        "- \"due_in_date\"\n",
        "- \"posting_date\"\n",
        "- \"name_customer\"\n",
        "- \"clear_date\"\n",
        "- \"cust_payment_terms\"\n",
        "- 'day_of_cleardate'\n",
        "- \"month_of_cleardate\"\n",
        "- \"year_of_cleardate\""
      ]
    },
    {
      "cell_type": "code",
      "execution_count": null,
      "id": "d7c82076",
      "metadata": {
        "id": "d7c82076"
      },
      "outputs": [],
      "source": [
        "nulldata = nulldata.drop([\"business_code\",\"baseline_create_date\",\"due_in_date\",\n",
        "                          \"posting_date\",\"name_customer\",\"clear_date\",\"cust_payment_terms\",\n",
        "                          \"day_of_cleardate\",\"month_of_cleardate\",\"year_of_cleardate\" ], axis = 1)"
      ]
    },
    {
      "cell_type": "markdown",
      "id": "Q_NCr9IPweVq",
      "metadata": {
        "id": "Q_NCr9IPweVq"
      },
      "source": [
        "### Check the information of the \"nulldata\" dataframe"
      ]
    },
    {
      "cell_type": "code",
      "execution_count": null,
      "id": "4e7ffee0",
      "metadata": {
        "id": "4e7ffee0"
      },
      "outputs": [],
      "source": [
        "nulldata.info()"
      ]
    },
    {
      "cell_type": "markdown",
      "id": "-XvjhWqmwi-C",
      "metadata": {
        "id": "-XvjhWqmwi-C"
      },
      "source": [
        "### Compare \"nulldata\" with the \"X_test\" dataframe \n",
        "\n",
        "- use info() method"
      ]
    },
    {
      "cell_type": "code",
      "execution_count": null,
      "id": "02f4b62d",
      "metadata": {
        "id": "02f4b62d"
      },
      "outputs": [],
      "source": [
        "X_test.info(),nulldata.info()"
      ]
    },
    {
      "cell_type": "markdown",
      "id": "Us3ey-9zwqjq",
      "metadata": {
        "id": "Us3ey-9zwqjq"
      },
      "source": [
        "### You must have noticed that there is a mismatch in the column sequence while compairing the dataframes\n",
        "\n",
        "- Note - In order to fed into the machine learning model, you need to edit the sequence of \"nulldata\", similar to the \"X_test\" dataframe"
      ]
    },
    {
      "cell_type": "markdown",
      "id": "vduVNt1kxPW-",
      "metadata": {
        "id": "vduVNt1kxPW-"
      },
      "source": [
        "- Display all the columns of the X_test dataframe \n",
        "- Display all the columns of the Nulldata dataframe \n",
        "- Store the Nulldata with new sequence into a new dataframe \n",
        "\n",
        "\n",
        "- Note - The code is given below, no need to change "
      ]
    },
    {
      "cell_type": "code",
      "execution_count": null,
      "id": "6729353e",
      "metadata": {
        "id": "6729353e"
      },
      "outputs": [],
      "source": [
        "X_test.columns"
      ]
    },
    {
      "cell_type": "code",
      "execution_count": null,
      "id": "47bd9c5e",
      "metadata": {
        "id": "47bd9c5e"
      },
      "outputs": [],
      "source": [
        "nulldata.columns"
      ]
    },
    {
      "cell_type": "code",
      "execution_count": null,
      "id": "aa5a2103",
      "metadata": {
        "id": "aa5a2103"
      },
      "outputs": [],
      "source": [
        "nulldata2=nulldata[['cust_number', 'buisness_year', 'doc_id', 'converted_usd',\n",
        "       'business_code_enc', 'name_customer_enc', 'cust_payment_terms_enc',\n",
        "       'day_of_postingdate', 'month_of_postingdate', 'year_of_postingdate',\n",
        "       'day_of_createdate', 'month_of_createdate', 'year_of_createdate',\n",
        "       'day_of_due', 'month_of_due', 'year_of_due']]"
      ]
    },
    {
      "cell_type": "markdown",
      "id": "1dc8b021",
      "metadata": {
        "id": "1dc8b021"
      },
      "source": [
        "### Display the Final Dataset"
      ]
    },
    {
      "cell_type": "code",
      "execution_count": null,
      "id": "2f39785a",
      "metadata": {
        "id": "2f39785a"
      },
      "outputs": [],
      "source": [
        "nulldata2"
      ]
    },
    {
      "cell_type": "markdown",
      "id": "27b88c5a",
      "metadata": {
        "id": "27b88c5a"
      },
      "source": [
        "### Now you can pass this dataset into you final model and store it into \"final_result\""
      ]
    },
    {
      "cell_type": "code",
      "execution_count": null,
      "id": "9e0b6388",
      "metadata": {
        "id": "9e0b6388"
      },
      "outputs": [],
      "source": [
        "final_result = regressorfinal.predict(nulldata2)"
      ]
    },
    {
      "cell_type": "markdown",
      "id": "9653d3c6",
      "metadata": {
        "id": "9653d3c6"
      },
      "source": [
        "### you need to make the final_result as dataframe, with a column name \"avg_delay\"\n",
        "\n",
        "- Note - No need to change the code"
      ]
    },
    {
      "cell_type": "code",
      "execution_count": null,
      "id": "25ef814d",
      "metadata": {
        "id": "25ef814d"
      },
      "outputs": [],
      "source": [
        "final_result = pd.Series(final_result,name='avg_delay')"
      ]
    },
    {
      "cell_type": "markdown",
      "id": "C86staIhyf2C",
      "metadata": {
        "id": "C86staIhyf2C"
      },
      "source": [
        "### Display the \"avg_delay\" column"
      ]
    },
    {
      "cell_type": "code",
      "execution_count": null,
      "id": "4fd46406",
      "metadata": {
        "id": "4fd46406"
      },
      "outputs": [],
      "source": [
        "avg_delay"
      ]
    },
    {
      "cell_type": "markdown",
      "id": "44f71a7e",
      "metadata": {
        "id": "44f71a7e"
      },
      "source": [
        "### Now you need to merge this final_result dataframe with the BACKUP of \"nulldata\" Dataframe which we have created in earlier steps"
      ]
    },
    {
      "cell_type": "code",
      "execution_count": null,
      "id": "e8f0969d",
      "metadata": {
        "id": "e8f0969d"
      },
      "outputs": [],
      "source": [
        "nulldatacopy.reset_index(drop=True,inplace=True)\n",
        "Final = nulldatacopy.merge(final_result , on = nulldata.index )"
      ]
    },
    {
      "cell_type": "markdown",
      "id": "G-hLtxXgy4GZ",
      "metadata": {
        "id": "G-hLtxXgy4GZ"
      },
      "source": [
        "### Display the \"Final\" dataframe "
      ]
    },
    {
      "cell_type": "code",
      "execution_count": null,
      "id": "71fb4dc0",
      "metadata": {
        "id": "71fb4dc0"
      },
      "outputs": [],
      "source": [
        "Final"
      ]
    },
    {
      "cell_type": "markdown",
      "id": "4sc27Uz-y-0O",
      "metadata": {
        "id": "4sc27Uz-y-0O"
      },
      "source": [
        "### Check for the Number of Rows and Columns in your \"Final\" dataframe "
      ]
    },
    {
      "cell_type": "code",
      "execution_count": null,
      "id": "5iUXOIhzy_HR",
      "metadata": {
        "id": "5iUXOIhzy_HR"
      },
      "outputs": [],
      "source": [
        "Final.shape"
      ]
    },
    {
      "cell_type": "markdown",
      "id": "48886d2c",
      "metadata": {
        "id": "48886d2c"
      },
      "source": [
        "### Now, you need to do convert the below fields back into date and time format \n",
        "\n",
        "- Convert \"due_in_date\" into datetime format\n",
        "- Convert \"avg_delay\" into datetime format\n",
        "- Create a new column \"clear_date\" and store the sum of \"due_in_date\" and \"avg_delay\"\n",
        "- display the new \"clear_date\" column\n",
        "- Note - Code is given below, no need to change "
      ]
    },
    {
      "cell_type": "code",
      "execution_count": null,
      "id": "243abc2d",
      "metadata": {
        "id": "243abc2d"
      },
      "outputs": [],
      "source": [
        "Final['clear_date'] = pd.to_datetime(Final['due_in_date']) + pd.to_timedelta(Final['avg_delay'], unit='s')"
      ]
    },
    {
      "cell_type": "markdown",
      "id": "9QcX_fAjIkYR",
      "metadata": {
        "id": "9QcX_fAjIkYR"
      },
      "source": [
        "### Display the \"clear_date\" column"
      ]
    },
    {
      "cell_type": "code",
      "execution_count": null,
      "id": "740e1486",
      "metadata": {
        "id": "740e1486"
      },
      "outputs": [],
      "source": [
        "Final['clear_date']"
      ]
    },
    {
      "cell_type": "markdown",
      "id": "MSkNLq6-z7rZ",
      "metadata": {
        "id": "MSkNLq6-z7rZ"
      },
      "source": [
        "### Convert the average delay into number of days format \n",
        "\n",
        "- Note - Formula = avg_delay//(24 * 3600)\n",
        "- Note - full code is given for this, no need to change "
      ]
    },
    {
      "cell_type": "code",
      "execution_count": null,
      "id": "ce6b618a",
      "metadata": {
        "id": "ce6b618a"
      },
      "outputs": [],
      "source": [
        "Final['avg_delay'] = Final.apply(lambda row: row.avg_delay//(24 * 3600), axis = 1)"
      ]
    },
    {
      "cell_type": "markdown",
      "id": "wbBBZPjP0W7o",
      "metadata": {
        "id": "wbBBZPjP0W7o"
      },
      "source": [
        "### Display the \"avg_delay\" column "
      ]
    },
    {
      "cell_type": "code",
      "execution_count": null,
      "id": "a494982f",
      "metadata": {
        "id": "a494982f",
        "scrolled": true
      },
      "outputs": [],
      "source": [
        "Final['avg_delay']"
      ]
    },
    {
      "cell_type": "markdown",
      "id": "815d8811",
      "metadata": {
        "id": "815d8811"
      },
      "source": [
        "### Now you need to convert average delay column into bucket\n",
        "\n",
        "- Need to perform binning \n",
        "- create a list of bins i.e. bins= [0,15,30,45,60,100]\n",
        "- create a list of labels i.e. labels = ['0-15','16-30','31-45','46-60','Greatar than 60']\n",
        "- perform binning by using cut() function from \"Final\" dataframe\n",
        "\n",
        "\n",
        "- Please fill up the first two rows of the code"
      ]
    },
    {
      "cell_type": "code",
      "execution_count": null,
      "id": "c797e4b5",
      "metadata": {
        "id": "c797e4b5"
      },
      "outputs": [],
      "source": [
        "\n",
        "bins= [0,15,30,45,60,100]\n",
        "labels = ['0-15','16-30','31-45','46-60','Greatar than 60']\n",
        "Final['Aging Bucket'] = pd.cut(Final['avg_delay'], bins=bins, labels=labels, right=False)"
      ]
    },
    {
      "cell_type": "markdown",
      "id": "1c35725f",
      "metadata": {
        "id": "1c35725f"
      },
      "source": [
        "### Now you need to drop \"key_0\" and \"avg_delay\" columns from the \"Final\" Dataframe"
      ]
    },
    {
      "cell_type": "code",
      "execution_count": null,
      "id": "b31bc6a3",
      "metadata": {
        "id": "b31bc6a3"
      },
      "outputs": [],
      "source": [
        "Final = Final.drop(['key_0', 'avg_delay'], axis = 1)"
      ]
    },
    {
      "cell_type": "markdown",
      "id": "Ui-tyIvU0-5u",
      "metadata": {
        "id": "Ui-tyIvU0-5u"
      },
      "source": [
        "### Display the count of each categoty of new \"Aging Bucket\" column "
      ]
    },
    {
      "cell_type": "code",
      "execution_count": null,
      "id": "a6e16218",
      "metadata": {
        "id": "a6e16218"
      },
      "outputs": [],
      "source": [
        "Final['Aging Bucket'].value_counts()"
      ]
    },
    {
      "cell_type": "markdown",
      "id": "kgYegy551GKJ",
      "metadata": {
        "id": "kgYegy551GKJ"
      },
      "source": [
        "### Display your final dataset with aging buckets "
      ]
    },
    {
      "cell_type": "code",
      "execution_count": null,
      "id": "c4bc87ec",
      "metadata": {
        "id": "c4bc87ec"
      },
      "outputs": [],
      "source": [
        "Final"
      ]
    },
    {
      "cell_type": "markdown",
      "id": "Ji7AoDCB1L_x",
      "metadata": {
        "id": "Ji7AoDCB1L_x"
      },
      "source": [
        "### Store this dataframe into the .csv format"
      ]
    },
    {
      "cell_type": "code",
      "execution_count": null,
      "id": "727d0b8d",
      "metadata": {
        "id": "727d0b8d"
      },
      "outputs": [],
      "source": [
        "Final.to_csv('B2B project.csv')"
      ]
    },
    {
      "cell_type": "markdown",
      "id": "FK0fabl61SkC",
      "metadata": {
        "id": "FK0fabl61SkC"
      },
      "source": [
        "# END OF THE PROJECT"
      ]
    }
  ],
  "metadata": {
    "colab": {
      "collapsed_sections": [
        "62633a84"
      ],
      "name": "B2B_payment_date_prediction.ipynb",
      "provenance": []
    },
    "kernelspec": {
      "display_name": "Python 3 (ipykernel)",
      "language": "python",
      "name": "python3"
    },
    "language_info": {
      "codemirror_mode": {
        "name": "ipython",
        "version": 3
      },
      "file_extension": ".py",
      "mimetype": "text/x-python",
      "name": "python",
      "nbconvert_exporter": "python",
      "pygments_lexer": "ipython3",
      "version": "3.9.7"
    }
  },
  "nbformat": 4,
  "nbformat_minor": 5
}